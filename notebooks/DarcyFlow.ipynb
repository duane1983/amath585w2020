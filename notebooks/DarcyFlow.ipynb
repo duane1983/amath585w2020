{
 "cells": [
  {
   "cell_type": "markdown",
   "metadata": {},
   "source": [
    "# Darcy flow in porous media\n",
    "\n",
    "### Solved using the (Preconditioned) Conjugate-Gradient Method \n",
    "\n",
    "[AMath 585, Winter Quarter 2020](http://staff.washington.edu/rjl/classes/am585w2020/) at the University of Washington. Developed by R.J. LeVeque and distributed under the [BSD license](https://github.com/rjleveque/amath585w2020/blob/master/LICENSE).  You are free to modify and use as you please, with attribution.\n",
    "\n",
    "These notebooks are all [available on Github](https://github.com/rjleveque/amath585w2020/).\n",
    "\n",
    "-----\n",
    "\n",
    "This notebook illustrates a sample application of a two-dimensional variable coefficient elliptic equation modeling the flow of a fluid through a porous medium.  Realistic examples would solve the analogous system in three space dimensions.\n",
    "\n",
    "This notebook also contains an implementation of the Conjugate Gradient algorithm to solve the system, taken mostly from [ConjugateGradient2D_vcoeff.ipynb](ConjugateGradient2D_vcoeff.ipynb), where it is discussed in more detail.\n",
    "\n",
    "The Preconditioned Conjugate Gradient (PCG) algorithm is also implemented, based on diagonal preconditioner and using the corrected algorithm from [PCG.ipynb](PCG.ipynb).\n"
   ]
  },
  {
   "cell_type": "code",
   "execution_count": null,
   "metadata": {},
   "outputs": [],
   "source": [
    "%matplotlib inline"
   ]
  },
  {
   "cell_type": "code",
   "execution_count": null,
   "metadata": {},
   "outputs": [],
   "source": [
    "from pylab import *"
   ]
  },
  {
   "cell_type": "markdown",
   "metadata": {},
   "source": [
    "### Animating the iteration\n",
    "\n",
    "To use widgets, set `use_widgets = True`. For javascript animation, set it to `False`."
   ]
  },
  {
   "cell_type": "code",
   "execution_count": null,
   "metadata": {},
   "outputs": [],
   "source": [
    "use_widgets = True\n",
    "\n",
    "if use_widgets:\n",
    "    from ipywidgets import interact\n",
    "    import ipywidgets as widgets\n",
    "\n",
    "    def animate_figs(figs):\n",
    "        show_frame = lambda frameno: display(figs[frameno])\n",
    "        interact(show_frame, frameno=widgets.IntSlider(min=0,max=len(figs)-1, value=0))\n",
    "else:\n",
    "    from jsanimate_figs import animate_figs"
   ]
  },
  {
   "cell_type": "markdown",
   "metadata": {},
   "source": [
    "### Flow in porous media\n",
    "\n",
    "Consider creeping flow in a porous medium (for example groundwater or oil\n",
    "flowing through porous rock).  In simple cases such flow is governed by\n",
    "**Darcy's law**, which says that the velocity vector\n",
    "is proportional to the gradient of the pressure, or in terms of the velocity\n",
    "components $(u(x,y), v(x,y))$ (in two dimensions),\n",
    "\n",
    "\\begin{equation*}\n",
    "\\begin{split}\n",
    "u(x,y) &= -\\gamma(x,y) p_x(x,y),\\\\\n",
    "v(x,y) &= -\\gamma(x,y) p_y(x,y),\n",
    "\\end{split}\n",
    "\\end{equation*}\n",
    "\n",
    "where $\\gamma(x,y) > 0$ is a measure of the *permeability* of the material at\n",
    "$(x,y)$, the material is more permeable and fluid flows more easily where $\\gamma$ is large.\n",
    "\n",
    "We also know that if the fluid is incompressible (as are water or oil, for practical purposes), then the divergence of the velocity must be zero everywhere,\n",
    "\n",
    "$$\n",
    "u_x(x,y) + v_y(x,y) = 0.\n",
    "$$\n",
    "\n",
    "#### Pressure formulation\n",
    "\n",
    "Inserting the above representation of $u, v$ into the divergence-free condition, this gives a variable-coefficient elliptic equation for the pressure:\n",
    "\n",
    "$$\n",
    "-(\\gamma(x,y)p_x(x,y))_x - (\\gamma(x,y)p_y(x,y))_y = 0.\n",
    "$$\n",
    "\n",
    "If there were a source (or sink) of fluid distributed over the domain, then\n",
    "the right hand side would be equal to this source $f(x,y)$, but we'll consider the\n",
    "case with no source.\n",
    "\n",
    "We could solve this elliptic equation, but we'd need to know boundary\n",
    "conditions for the pressure, which may not be easily available.  "
   ]
  },
  {
   "cell_type": "markdown",
   "metadata": {},
   "source": [
    "#### Stream function formulation\n",
    "\n",
    "Instead we'll reformulate it in terms of a **stream function** $\\psi(x,y)$ that is\n",
    "related to $u$ and $v$ by\n",
    "\n",
    "\\begin{equation*}\n",
    "\\begin{split}\n",
    "u(x,y) &= \\psi_y(x,y),\\\\\n",
    "v(x,y) &= -\\psi_x(x,y).\n",
    "\\end{split}\n",
    "\\end{equation*}\n",
    "\n",
    "Note that $u_x + v_y=0$ for any function $\\psi$ so the velocity field is automatically divergence free in this formulation!  \n",
    "\n",
    "To get an equation for $\\psi(x,y)$, note that $p_x = (1/\\gamma)\\psi_y$ and $p_y = -(1/\\gamma)\\psi_x$ and then since  $p_{xy} - p_{yx} = 0$, we obtain\n",
    "\n",
    "$$\n",
    "(\\kappa(x,y)\\psi_x(x,y))_x + (\\kappa(x,y) \\psi_y(x,y))_y = 0,\n",
    "$$\n",
    "\n",
    "where $\\kappa(x,y) = 1/\\gamma(x,y) > 0$.   This is our elliptic equation.\n",
    "\n",
    "Note that the gradient of $\\psi$ is $(-v,u)$, which is orthogonal to the\n",
    "velocity vector at each point.  Hence contours of $\\psi(x,y)$ are *streamlines* of\n",
    "the flow.  This is another reason it's nice to compute $\\psi$ rather than\n",
    "$p$: a contour plot of $\\psi$ gives a visualization of the flow.\n",
    "\n",
    "Also note that differencing $\\psi$ between any two points in the\n",
    "plane gives the net flux across any curve connecting these two points:\n",
    "\n",
    "\\begin{equation*}\n",
    "\\psi(x_2,y_2) - \\psi(x_1,y_1) = \\int_\\Gamma \\psi\\cdot\\tau \\,ds\n",
    "= \\int_\\Gamma u\\cdot n\\,ds\n",
    "\\end{equation*}\n",
    "\n",
    "where $\\Gamma$ is any curve connecting the two points, $\\tau$ is the tangent\n",
    "to the curve, and $n$ is the normal.\n",
    "\n",
    "In particular, this means that if we plot contour lines that are equally\n",
    "spaced in $\\psi$, then the distance between two particular lines is equal to\n",
    "the total flux through the tube between the lines.   Hence the flow must be\n",
    "faster where the lines are close together and slower where the lines are\n",
    "farther apart.\n",
    "\n",
    "Setting $\\psi=$ constant along a boundary forces that boundary to be a\n",
    "streamline of the flow.\n",
    "\n",
    "We will use a rectangular domain in two space dimensions, $0\\leq x \\leq 2$ and $0\\leq y \\leq 1$, and set $\\psi(x,0) = 0$ along the bottom boundary and $\\psi(x,1) = 1$ along the top boundary so these are streamlines, i.e. solid walls that the flow cannot go through $v(x,0) = v(x,1) = 0$ all along these boundaries.\n",
    "\n",
    "At the left and right boundaries we will impose $\\psi(0,y) = y$ and $\\psi(1,y) = y$, which corresponds to flow that has $u = \\psi_y = 1$ everywhere at both left and right boundaries, so we have specified the horizontal component of the velocity at each side.  We can think of this as imposing flow going through the domain from left to right, for example, with prescribed inflow/outflow velocities at the ends.\n",
    "\n",
    "**Note:** Much of the code below is copied from earlier notebooks, so the solution of the elliptic equation is called $u$ instead of $\\psi$, but don't confuse this with the horizontal velocity! "
   ]
  },
  {
   "cell_type": "markdown",
   "metadata": {},
   "source": [
    "## Define the domain and grid"
   ]
  },
  {
   "cell_type": "code",
   "execution_count": null,
   "metadata": {},
   "outputs": [],
   "source": [
    "ax = 0.\n",
    "bx = 2.\n",
    "mx = 199\n",
    "dx = (bx-ax)/(mx+1.)\n",
    "x_full = linspace(0,2,mx+2)\n",
    "\n",
    "ay = 0.\n",
    "by = 1.\n",
    "my = 99\n",
    "dy = (by-ay)/(my+1.)\n",
    "y_full = linspace(0,1,my+2)\n",
    "\n",
    "X_full, Y_full = meshgrid(x_full, y_full, indexing='ij')\n",
    "X = X_full[1:-1, 1:-1]\n",
    "Y = Y_full[1:-1, 1:-1]"
   ]
  },
  {
   "cell_type": "markdown",
   "metadata": {},
   "source": [
    "## Define gamma and kappa\n",
    "\n",
    "For illustration we will use a piecewise constant permeability function $\\gamma(x,y)$ that has a small value inside a rectangle and larger value outside.  Then we define $\\kappa(x,y) = 1/\\gamma(x,y)$:"
   ]
  },
  {
   "cell_type": "code",
   "execution_count": null,
   "metadata": {},
   "outputs": [],
   "source": [
    "\n",
    "in_rect = lambda X,Y: logical_and(logical_and(X>0.9, X<1.1), \\\n",
    "                                  logical_and(Y>0.3, Y<0.9))\n",
    "\n",
    "gamma = lambda X,Y: where(in_rect(X,Y), 0.1, 1.)\n",
    "kappa = lambda X,Y: 1/gamma(X,Y)\n",
    "\n",
    "#kappa = lambda X,Y: ones(X.shape)  # constant kappa for testing\n",
    "\n",
    "kappa_full = kappa(X_full, Y_full)\n",
    "\n",
    "f_fcn = lambda X,Y: zeros(X.shape)  # no source or sink"
   ]
  },
  {
   "cell_type": "markdown",
   "metadata": {},
   "source": [
    "## Define the boundary conditions\n",
    "\n",
    "In this case we don't know the true solution, but we want to impose $\\psi(x,y) = y$ along the boundaries.  So we set `Ubc_full` to be $y$ everywhere in the domain and will only use these values along the boundary later."
   ]
  },
  {
   "cell_type": "code",
   "execution_count": null,
   "metadata": {},
   "outputs": [],
   "source": [
    "ubc_fcn = lambda X,Y: Y\n",
    "Ubc_full = ubc_fcn(X_full, Y_full)"
   ]
  },
  {
   "cell_type": "markdown",
   "metadata": {},
   "source": [
    "## A function to plot the approximate solution\n"
   ]
  },
  {
   "cell_type": "code",
   "execution_count": null,
   "metadata": {},
   "outputs": [],
   "source": [
    "def make_plot(U,k,rnorm):\n",
    "    \n",
    "    # colormap for kappa:\n",
    "    kappa_min = kappa_full.min()\n",
    "    kappa_max = 2*kappa_full.max()\n",
    "    levels = linspace(kappa_min,kappa_max,21)\n",
    "    cmap = get_cmap('Purples')  # white to purple\n",
    "    vmin = kappa_min; vmax = kappa_max\n",
    "    \n",
    "    fig = figure(figsize=(10,6))\n",
    "    U_full = Ubc_full.copy()  # for boundary values\n",
    "    U_full[1:-1, 1:-1] = U\n",
    "    \n",
    "    contourf(X_full,Y_full,kappa_full,levels,\n",
    "             cmap=cmap,vmin=vmin,vmax=vmax)\n",
    "    \n",
    "    axis('scaled')\n",
    "    colorbar(shrink=0.8, label='kappa')\n",
    "    \n",
    "    # plot u, which corresponds to the stream function psi for this problem!\n",
    "    # so contours of u are approximate streamlines of the flow\n",
    "    \n",
    "    Ulevels = linspace(0,1,21)\n",
    "    contour(X_full,Y_full,U_full,Ulevels,\n",
    "             colors='k')\n",
    "    \n",
    "    title('iteration %3i:   2-norm(r) = %.2e\\n' % (k,rnorm) \\\n",
    "          + 'Streamlines of approximate solution')\n",
    "    \n",
    "    close(fig)\n",
    "    return fig"
   ]
  },
  {
   "cell_type": "code",
   "execution_count": null,
   "metadata": {},
   "outputs": [],
   "source": [
    "make_plot(Y, 0, nan)"
   ]
  },
  {
   "cell_type": "markdown",
   "metadata": {},
   "source": [
    "## Define kappa function and evaluate at midpoints\n",
    "\n",
    "The difference stencil is chosen so that the resulting matrix $A$ is symmetric, as discussed in section 2.15 of the text in 1D.  This can be extended to 2D by using it separately for the $(\\kappa u_x)_x$ and $(\\kappa u_y)_y$ terms, and so the $(i,j)$ element of the grid function representing $Au$ is:\n",
    "\n",
    "\\begin{align*}\n",
    "\\frac{1}{\\Delta x^2} \\left(\\kappa_{i+1/2,j}(U_{i+1,j} - U_{i,j}) - \\kappa_{i-1/2,j}(U_{ij} - U_{i-1,j})\\right) \\\\\n",
    "+\n",
    "\\frac{1}{\\Delta y^2} \\left(\\kappa_{i,j+1/2}(U_{i,j+1} - U_{i,j}) - \\kappa_{i,j-1/2}(U_{ij} - U_{i,j-1})\\right)\n",
    "\\end{align*}\n",
    "\n",
    "To clarify the implementation we define 4 different arrays below with, for example, `kappa_imh_j` holding values $\\kappa_{i-1/2,j} = \\kappa(x_i - \\Delta x/2, y_j)$ and \n",
    "`kappa_iph_j` holding values $\\kappa_{i+1/2,j} = \\kappa(x_i + \\Delta x/2, y_j)$.  These two arrays hold mostly the same values, except shifted and with values included near one $x$ boundary and not the other.  So for a large problem when trying to minimize storage and computation time, a single slightly larger array could hold all these values.   But here we opt for clarity."
   ]
  },
  {
   "cell_type": "code",
   "execution_count": null,
   "metadata": {},
   "outputs": [],
   "source": [
    "X_imh_j = X - dx/2.\n",
    "Y_imh_j = Y\n",
    "kappa_imh_j = kappa(X_imh_j, Y_imh_j)\n",
    "\n",
    "X_iph_j = X + dx/2.\n",
    "Y_iph_j = Y\n",
    "kappa_iph_j = kappa(X_iph_j, Y_iph_j)\n",
    "\n",
    "X_i_jmh = X\n",
    "Y_i_jmh = Y - dy/2.\n",
    "kappa_i_jmh = kappa(X_i_jmh, Y_i_jmh)\n",
    "\n",
    "X_i_jph = X\n",
    "Y_i_jph = Y + dy/2.\n",
    "kappa_i_jph = kappa(X_i_jph, Y_i_jph)"
   ]
  },
  {
   "cell_type": "code",
   "execution_count": null,
   "metadata": {},
   "outputs": [],
   "source": [
    "def matvec(V):\n",
    "    \"\"\"\n",
    "    Given a grid function v on an mx by my grid. \n",
    "    Return b = A*v\n",
    "    \"\"\"\n",
    "   \n",
    "    # pad V with zeros around border, needed for computing centered differences:\n",
    "    V_full = zeros((mx+2, my+2))\n",
    "    V_full[1:-1, 1:-1] = V\n",
    "    \n",
    "    # set array B of shape (mx,my) at interior points (same shape as V) \n",
    "    # Note that slicing with [1:-1] corresponds to interior points,\n",
    "    # [:-2] correspond to points to the left (or below) and \n",
    "    # [2:] are points to the right (or above)\n",
    "    \n",
    "    B =   (kappa_iph_j*(V_full[2:, 1:-1] - V_full[1:-1, 1:-1]) \\\n",
    "         - kappa_imh_j*(V_full[1:-1, 1:-1] - V_full[:-2, 1:-1])) / dx**2 \\\n",
    "        + (kappa_i_jph*(V_full[1:-1, 2:] - V_full[1:-1, 1:-1]) \\\n",
    "         - kappa_i_jmh*(V_full[1:-1, 1:-1] - V_full[1:-1, :-2])) / dy**2\n",
    "                    \n",
    "    return B"
   ]
  },
  {
   "cell_type": "code",
   "execution_count": null,
   "metadata": {},
   "outputs": [],
   "source": [
    "def inner_product(V,W):\n",
    "    \"\"\"\n",
    "    Given two grid functions V and W on an mx by my grid. \n",
    "    Return their inner product when viewed as vectors of unknowns\n",
    "    \"\"\"\n",
    "    return sum(V*W)"
   ]
  },
  {
   "cell_type": "markdown",
   "metadata": {},
   "source": [
    "## The Conjugate-Gradient algorithm\n",
    "\n",
    "The next cell implements the C-G algorithm.  This is identical to the corresponding cell in [ConjugateGradient2D_vcoeff.ipynb](ConjugateGradient2D_vcoeff.ipynb)."
   ]
  },
  {
   "cell_type": "code",
   "execution_count": null,
   "metadata": {},
   "outputs": [],
   "source": [
    "maxiter = 1000\n",
    "kplot = 100\n",
    "verbose = False\n",
    "tol = 1e-14  # stop if the residual falls below tol\n",
    "\n",
    "print('Solving on %i by %i grid with %i unknowns' \\\n",
    "      % (mx,my,mx*my))\n",
    "print('    using tol = %.2e with maxiter = %i' % (tol,maxiter))\n",
    "\n",
    "# right-hand side:\n",
    "F_full = f_fcn(X_full, Y_full)\n",
    "F = F_full[1:-1, 1:-1]  # at interior points\n",
    "\n",
    "# adjust for Dirichlet BCs:\n",
    "F[0,:] = F[0,:] - kappa_imh_j[0,:]*Ubc_full[0, 1:-1] / dx**2\n",
    "F[-1,:] = F[-1,:] - kappa_iph_j[-1,:]*Ubc_full[-1, 1:-1] / dx**2\n",
    "F[:,0] = F[:,0] - kappa_i_jmh[:,0]*Ubc_full[1:-1, 0] / dy**2\n",
    "F[:,-1] = F[:,-1] - kappa_i_jph[:,-1]*Ubc_full[1:-1, -1] / dy**2\n",
    "\n",
    "\n",
    "# initial guess:\n",
    "U0_full = Y_full\n",
    "U0 = U0_full[1:-1, 1:-1]  # interior points\n",
    "\n",
    "U = U0.copy() # current iterate\n",
    "r = F - matvec(U)  # initial residual\n",
    "p = r.copy()  # initial direction\n",
    "\n",
    "k = 0\n",
    "rTr_k = inner_product(r,r)\n",
    "rnorm = sqrt(rTr_k)\n",
    "rnorms = [rnorm]  # build up list of residuals\n",
    "\n",
    "if verbose:\n",
    "    print('iteration %3i:   2-norm(r) = %.2e,   max-norm(E) = %.2e' \\\n",
    "          % (k,rnorm))\n",
    "    \n",
    "figs = []  # for the list of figures we generate\n",
    "\n",
    "fig = make_plot(U,k,rnorm) # plot initial guess\n",
    "figs.append(fig)\n",
    "\n",
    "rTr_km = rTr_k  # in general will hold r^T * r at iteration k-1\n",
    "\n",
    "for k in range(1,maxiter+1):\n",
    "    w = matvec(p)   # the only matrix-vector multiply\n",
    "    a = rTr_km / inner_product(p,w)  # alpha_{k-1} in CG algorithm\n",
    "    U = U + a*p\n",
    "    r = r - a*w\n",
    "\n",
    "    rTr_k = inner_product(r,r)\n",
    "    rnorm = sqrt(rTr_k)\n",
    "    rnorms.append(rnorm)\n",
    "\n",
    "    if mod(k,kplot)==0 or k==maxiter:\n",
    "        # every kplot iterations create a plot:\n",
    "        fig = make_plot(U,k,rnorm)\n",
    "        figs.append(fig)\n",
    "        \n",
    "    if verbose:\n",
    "        print('iteration %3i:   2-norm(r) = %.2e' \\\n",
    "              % (k,rnorm))\n",
    "    \n",
    "    # check for convergence:\n",
    "    if rnorm < tol:\n",
    "        print('Satisfied rnorm < tol after %i iterations' % k)\n",
    "        break\n",
    "        \n",
    "    # determine next search direction:\n",
    "    b = rTr_k / rTr_km   # beta_{k-1} in CG algorithm\n",
    "    rTr_km = rTr_k       # for next iteration\n",
    "    p = r + b*p           # next search direction\n",
    "\n",
    "print('Stopped after %i iterations with 2-norm(r) = %.2e' \\\n",
    "   % (k,rnorm))\n"
   ]
  },
  {
   "cell_type": "code",
   "execution_count": null,
   "metadata": {},
   "outputs": [],
   "source": [
    "animate_figs(figs)"
   ]
  },
  {
   "cell_type": "code",
   "execution_count": null,
   "metadata": {},
   "outputs": [],
   "source": [
    "semilogy(range(1,len(rnorms)+1), rnorms, 'b-')\n",
    "grid(True)"
   ]
  },
  {
   "cell_type": "markdown",
   "metadata": {},
   "source": [
    "Save these values for comparison below:"
   ]
  },
  {
   "cell_type": "code",
   "execution_count": null,
   "metadata": {},
   "outputs": [],
   "source": [
    "rnorms_noprecond = rnorms.copy()"
   ]
  },
  {
   "cell_type": "markdown",
   "metadata": {},
   "source": [
    "## Preconditioned conjugate gradient\n",
    "\n",
    "Next we modify this to implement the preconditioned conjugate gradient method on p. 95 of the text, but with some corrections as discussed in the notebook [PCG.ipynb](PCG.ipynb).\n",
    "\n",
    "In particular, the lines defining $\\alpha_{k-1}$ and $\\beta_k-1$ are incorrect and should read:\n",
    "\n",
    "$$\n",
    "\\alpha_{k-1} = (z_{k-1}^T r_{k-1}) / (p_{k-1}^T w_{k-1})\n",
    "\\quad\\text{($z$ instead of $r$ in the numerator)}\n",
    "$$\n",
    "and\n",
    "$$\n",
    "\\beta_{k-1} = (z_k^T r_k) / (z_{k-1}^T r_{k-1})\n",
    "\\quad\\text{($z$ instead of $r$ in two places)}\n",
    "$$"
   ]
  },
  {
   "cell_type": "markdown",
   "metadata": {},
   "source": [
    "### Diagonal preconditioning\n",
    "\n",
    "Here we only consider the simplest (but often effective) preconditioner in which $M$ is the diagonal part of $A$.  For the variable coefficient problem this can help a lot, particularly if the values of $\\kappa$ vary greatly.\n",
    "\n",
    "See [PCG.ipynb](PCG.ipynb) for discussion of the fact that for this problem, where we have set it up with a matrix $A$ that is symmetric *negative* definite, we want to define $M$ based on the absolution values of the diagonal elements.\n",
    "\n",
    "For this 2D problem the diagonal element of $A$ corresponding to the central coefficient of the 5-point stencil at each grid point $(i,j)$, with absolute value \n",
    "\n",
    "$$\n",
    "(\\kappa_{i-1/2,j} + \\kappa_{i+1/2,j})/\\Delta x^2 \n",
    "+ (\\kappa_{i,j-1/2} + \\kappa_{i,j+1/2})/\\Delta y^2.\n",
    "$$\n",
    "\n",
    "We can define a grid function defined on the 2D grid that has these values:"
   ]
  },
  {
   "cell_type": "code",
   "execution_count": null,
   "metadata": {},
   "outputs": [],
   "source": [
    "Mdiag = (kappa_imh_j + kappa_iph_j) / dx**2 \\\n",
    "        + (kappa_i_jmh + kappa_i_jph) / dy**2"
   ]
  },
  {
   "cell_type": "markdown",
   "metadata": {},
   "source": [
    "Then if $r$ is a grid function on the same grid representing the residual at some point, we can solve the linear system $Mz = r$ by simply computing `z = r/Mdiag` in Python (componentwise division of the values at each grid point)."
   ]
  },
  {
   "cell_type": "code",
   "execution_count": null,
   "metadata": {},
   "outputs": [],
   "source": [
    "maxiter = 1000\n",
    "kplot = 100\n",
    "verbose = False\n",
    "tol = 1e-14  # stop if the residual falls below tol\n",
    "\n",
    "print('Solving on %i by %i grid with %i unknowns' \\\n",
    "      % (mx,my,mx*my))\n",
    "print('    using tol = %.2e with maxiter = %i' % (tol,maxiter))\n",
    "\n",
    "# right-hand side:\n",
    "F_full = f_fcn(X_full, Y_full)\n",
    "F = F_full[1:-1, 1:-1]  # at interior points\n",
    "\n",
    "# adjust for Dirichlet BCs:\n",
    "F[0,:] = F[0,:] - kappa_imh_j[0,:]*Ubc_full[0, 1:-1] / dx**2\n",
    "F[-1,:] = F[-1,:] - kappa_iph_j[-1,:]*Ubc_full[-1, 1:-1] / dx**2\n",
    "F[:,0] = F[:,0] - kappa_i_jmh[:,0]*Ubc_full[1:-1, 0] / dy**2\n",
    "F[:,-1] = F[:,-1] - kappa_i_jph[:,-1]*Ubc_full[1:-1, -1] / dy**2\n",
    "\n",
    "\n",
    "# initial guess:\n",
    "U0_full = Y_full\n",
    "U0 = U0_full[1:-1, 1:-1]  # interior points\n",
    "\n",
    "U = U0.copy() # current iterate\n",
    "r = F - matvec(U)  # initial residual\n",
    "\n",
    "z = r / Mdiag  # apply preconditioner\n",
    "\n",
    "k = 0\n",
    "zTr_k = inner_product(z,r)  # modified for PCG\n",
    "p = z.copy()\n",
    "\n",
    "rTr_k = inner_product(r,r)  # for checking convergence\n",
    "rnorm = sqrt(rTr_k)\n",
    "rnorms = [rnorm]  # build up list of residuals\n",
    "\n",
    "if verbose:\n",
    "    print('iteration %3i:   2-norm(r) = %.2e,   max-norm(E) = %.2e' \\\n",
    "          % (k,rnorm))\n",
    "    \n",
    "figs = []  # for the list of figures we generate\n",
    "\n",
    "fig = make_plot(U,k,rnorm) # plot initial guess\n",
    "figs.append(fig)\n",
    "\n",
    "zTr_km = zTr_k  # in general will hold z^T * r at iteration k-1\n",
    "\n",
    "for k in range(1,maxiter+1):\n",
    "    w = matvec(p)   # the only matrix-vector multiply\n",
    "    a = zTr_km / inner_product(p,w)  # alpha_{k-1} in PCG algorithm\n",
    "    U = U + a*p\n",
    "    r = r - a*w\n",
    "    z = r / Mdiag  # apply preconditioner\n",
    "\n",
    "    zTr_k = inner_product(z,r)  # modified for PCG\n",
    "    \n",
    "    rTr_k = inner_product(r,r)  # for checking convergence\n",
    "    rnorm = sqrt(rTr_k)\n",
    "    rnorms.append(rnorm)\n",
    "\n",
    "    if mod(k,kplot)==0 or k==maxiter:\n",
    "        # every kplot iterations create a plot:\n",
    "        fig = make_plot(U,k,rnorm)\n",
    "        figs.append(fig)\n",
    "        \n",
    "    if verbose:\n",
    "        print('iteration %3i:   2-norm(r) = %.2e' \\\n",
    "              % (k,rnorm))\n",
    "    \n",
    "    # check for convergence:\n",
    "    if rnorm < tol:\n",
    "        print('Satisfied rnorm < tol after %i iterations' % k)\n",
    "        break\n",
    "        \n",
    "    # determine next search direction:\n",
    "    b = zTr_k / zTr_km   # beta_{k-1} in PCG algorithm\n",
    "    zTr_km = zTr_k       # for next iteration\n",
    "    p = z + b*p           # next search direction\n",
    "\n",
    "print('Stopped after %i iterations with 2-norm(r) = %.2e' \\\n",
    "   % (k,rnorm))\n"
   ]
  },
  {
   "cell_type": "code",
   "execution_count": null,
   "metadata": {},
   "outputs": [],
   "source": [
    "animate_figs(figs)"
   ]
  },
  {
   "cell_type": "code",
   "execution_count": null,
   "metadata": {},
   "outputs": [],
   "source": [
    "semilogy(range(1,len(rnorms_noprecond)+1), rnorms_noprecond, 'b-', \n",
    "         label='no preconditioner')\n",
    "semilogy(range(1,len(rnorms)+1), rnorms, 'r-', \n",
    "         label='with preconditioner')\n",
    "grid(True)\n",
    "legend()"
   ]
  },
  {
   "cell_type": "markdown",
   "metadata": {},
   "source": [
    "You might want to try changing `gamma` so that the value in the rectangle is $0.01$ rather than $0.1$, in which case this region is less permeable and the flow has greater tendency to go around it.  In this case the condition number is even larger and PCG makes an even more dramatic improvement in convergence."
   ]
  }
 ],
 "metadata": {
  "kernelspec": {
   "display_name": "Python 3",
   "language": "python",
   "name": "python3"
  },
  "language_info": {
   "codemirror_mode": {
    "name": "ipython",
    "version": 3
   },
   "file_extension": ".py",
   "mimetype": "text/x-python",
   "name": "python",
   "nbconvert_exporter": "python",
   "pygments_lexer": "ipython3",
   "version": "3.6.7"
  }
 },
 "nbformat": 4,
 "nbformat_minor": 2
}
