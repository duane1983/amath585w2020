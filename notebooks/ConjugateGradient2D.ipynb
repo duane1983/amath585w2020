{
 "cells": [
  {
   "cell_type": "markdown",
   "metadata": {},
   "source": [
    "# Conjugate-Gradient Method in 2 Dimensions\n",
    "\n",
    "[AMath 585, Winter Quarter 2020](http://staff.washington.edu/rjl/classes/am585w2020/) at the University of Washington. Developed by R.J. LeVeque and distributed under the [BSD license](https://github.com/rjleveque/amath585w2020/blob/master/LICENSE).  You are free to modify and use as you please, with attribution.\n",
    "\n",
    "These notebooks are all [available on Github](https://github.com/rjleveque/amath585w2020/).\n",
    "\n",
    "-----\n",
    "\n",
    "This notebook illustrates an implmentation of the Conjugate-Gradient method on a two-dimensional Poisson problem.\n",
    "\n",
    "We solve the Poisson problem $u_{xx} + u_{yy} = f(x,y)$ with Dirichlet boundary conditions and choose a problem where the truncation error is zero so that the exact solution of the linear system is the solution of the PDE evaluated at the grid points.\n",
    "\n",
    "Note that this notebook is set up to solve a particular problem on an `mx` by `my` grid with things hardwired.  If you want to change `f` (and the true solution) and/or the grid resolution or domain, make sure to re-execute all cells below where these are defined."
   ]
  },
  {
   "cell_type": "code",
   "execution_count": null,
   "metadata": {},
   "outputs": [],
   "source": [
    "%matplotlib inline"
   ]
  },
  {
   "cell_type": "code",
   "execution_count": null,
   "metadata": {},
   "outputs": [],
   "source": [
    "from pylab import *"
   ]
  },
  {
   "cell_type": "markdown",
   "metadata": {},
   "source": [
    "### Animating the iteration\n",
    "\n",
    "To use widgets, set `use_widgets = True`. For javascript animation, set it to `False`."
   ]
  },
  {
   "cell_type": "code",
   "execution_count": null,
   "metadata": {},
   "outputs": [],
   "source": [
    "use_widgets = False\n",
    "\n",
    "if use_widgets:\n",
    "    from ipywidgets import interact\n",
    "    import ipywidgets as widgets\n",
    "\n",
    "    def animate_figs(figs):\n",
    "        show_frame = lambda frameno: display(figs[frameno])\n",
    "        interact(show_frame, frameno=widgets.IntSlider(min=0,max=len(figs)-1, value=0))\n",
    "else:\n",
    "    from jsanimate_figs import animate_figs"
   ]
  },
  {
   "cell_type": "markdown",
   "metadata": {},
   "source": [
    "## Define the matrix-vector multiply function\n",
    "\n",
    "To implement the C-G algorithm we need to be able to multiply $Av$ for various vectors $v$.  The following `matvec` routine computes and returns this product.  This is the only place the matrix $A$ is needed, so not that in general we do not need to form or store the large sparse matrix.\n",
    "\n",
    "Note that in the 2D case we keep the vector of unknowns as a 2D grid function `U` rather than reshaping it into a long vector as we did in the notebook [LaplacianMatrix.ipynb](LaplacianMatrix.ipynb).  Not only is this simpler to manage than reshaping grid functions back and forth into vectors, it is also easier to write the matrix-vector multiply function by keeping `U` as a grid function and applying the stencil based on neighboring points on the grid rather than having to determine where each neighbor winds up in the reshaped vector.  The number of equations in the linear system is the same as the number of unknowns and we can associate each equation with a grid point by applying the finite-difference method at this point.\n",
    "\n",
    "The `matvec` function below applies to 5-point Laplacian to any grid function `V` defined on the `mx` by `my` grid of interior points."
   ]
  },
  {
   "cell_type": "code",
   "execution_count": null,
   "metadata": {},
   "outputs": [],
   "source": [
    "def matvec(V):\n",
    "    \"\"\"\n",
    "    Given a grid function V on an mx by my grid. \n",
    "    Return b = A*v\n",
    "    \"\"\"\n",
    "   \n",
    "    # pad V with zeros around border, needed for computing centered differences:\n",
    "    V_full = zeros((mx+2, my+2))\n",
    "    V_full[1:-1, 1:-1] = V\n",
    "    \n",
    "    # set array B of shape (mx,my) at interior points (same shape as V) \n",
    "    # Note that slicing with [1:-1] corresponds to interior points,\n",
    "    # [:-2] correspond to points to the left (or below) and \n",
    "    # [2:] are points to the right (or above)\n",
    "    \n",
    "    B = (V_full[:-2,1:-1] - 2*V_full[1:-1,1:-1] + V_full[2:,1:-1]) / dx**2 \\\n",
    "       +(V_full[1:-1,:-2] - 2*V_full[1:-1,1:-1] + V_full[1:-1,2:]) / dy**2\n",
    "                    \n",
    "    return B"
   ]
  },
  {
   "cell_type": "markdown",
   "metadata": {},
   "source": [
    "## Inner-product function\n",
    "\n",
    "The C-G algorithm requires taking inner products of two vectors in various places.  In the 1D case the inner product of vectors `v` and `w` can be computed using `dot(v,w)`, which we used in [ConjugateGradient.ipynb](ConjugateGradient.ipynb).\n",
    "\n",
    "This won't work in 2D since we want to leave `V` and `W` as 2D grid functions rather than reshaping them into 1D vectors, and so `dot(V,W)` would mean the matrix product $VW$ which would not even be defined if `mx` is not equal to `my` and in any case would be the wrong thing.\n",
    "\n",
    "Instead the inner product can be defined by `sum(V*W)`.  Recall that in Python `V*W` means the element-wise product of the numpy arrays `V` and `W`, so it is an array of the same shape as `V` and `W` (in Matlab this would be `V.*W`).  Then `sum()` computes the sum of all elements in an array and returns a scalar.  This is the proper inner product in 2D and this would also work in 1D instead of `dot` (and works in 3D if `V` and `W` are 3D numpy arrays).  Note also that [numpy.inner](https://docs.scipy.org/doc/numpy/reference/generated/numpy.inner.html) does not return the right thing the way we are using these arrays."
   ]
  },
  {
   "cell_type": "code",
   "execution_count": null,
   "metadata": {},
   "outputs": [],
   "source": [
    "def inner_product(V,W):\n",
    "    \"\"\"\n",
    "    Given two grid functions V and W on an mx by my grid. \n",
    "    Return their inner product when viewed as vectors of unknowns\n",
    "    \"\"\"\n",
    "    return sum(V*W)"
   ]
  },
  {
   "cell_type": "markdown",
   "metadata": {},
   "source": [
    "## Define the domain, grid, and true solution"
   ]
  },
  {
   "cell_type": "code",
   "execution_count": null,
   "metadata": {},
   "outputs": [],
   "source": [
    "ax = 0.\n",
    "bx = 2.\n",
    "mx = 19\n",
    "dx = (bx-ax)/(mx+1.)\n",
    "x_full = linspace(0,2,mx+2)\n",
    "\n",
    "ay = 0.\n",
    "by = 1.\n",
    "my = 9\n",
    "dy = (by-ay)/(my+1.)\n",
    "y_full = linspace(0,1,my+2)\n",
    "\n",
    "X_full, Y_full = meshgrid(x_full, y_full, indexing='ij')\n",
    "\n",
    "utrue_fcn = lambda X,Y: X**2 + Y**2 - 3.\n",
    "f_fcn = lambda X,Y: 4*ones(X.shape)\n",
    "\n",
    "Utrue_full = utrue_fcn(X_full, Y_full)\n",
    "Utrue = Utrue_full[1:-1, 1:-1]"
   ]
  },
  {
   "cell_type": "markdown",
   "metadata": {},
   "source": [
    "## A function to plot the approximate and true solution\n",
    "\n",
    "See [Grids2D.ipynb](Grids2D.ipynb) for more on plotting grid functions.  Note that this function uses some variables that are set above, e.g. `Utrue_full` used for setting the boundary values when extending `U` to `U_full` for plotting."
   ]
  },
  {
   "cell_type": "code",
   "execution_count": null,
   "metadata": {},
   "outputs": [],
   "source": [
    "def make_plot(U,k,rnorm,enorm):\n",
    "    levels = linspace(-4,4,17)\n",
    "    cmap = get_cmap('bwr')  # blue-white-red\n",
    "    vmin = -4; vmax = 4 # symmetric so white is in center\n",
    "    fig = figure(figsize=(10,6))\n",
    "    subplot(2,1,1)\n",
    "    U_full = Utrue_full.copy()\n",
    "    U_full[1:-1, 1:-1] = U\n",
    "    contourf(X_full,Y_full,U_full,levels,\n",
    "             cmap=cmap,vmin=vmin,vmax=vmax)\n",
    "    axis('scaled')\n",
    "    colorbar(shrink=0.8)\n",
    "    contour(X_full,Y_full,Utrue_full,levels,colors='k')\n",
    "    title('iteration %3i:   2-norm(r) = %.2e,   max-norm(E) = %.2e\\n' \\\n",
    "          % (k,rnorm,enorm) \\\n",
    "          + 'Approximate solution and contours of true solution')\n",
    "\n",
    "    subplot(2,1,2)\n",
    "    contourf(X_full,Y_full,Utrue_full,levels,\n",
    "             cmap=cmap,vmin=vmin,vmax=vmax)\n",
    "    axis('scaled')\n",
    "    colorbar(shrink=0.8)\n",
    "    contour(X_full,Y_full,Utrue_full,levels,colors='k')\n",
    "    title('True solution')\n",
    "    tight_layout()  # make room for titles on subplots\n",
    "    close(fig)\n",
    "    return fig"
   ]
  },
  {
   "cell_type": "markdown",
   "metadata": {},
   "source": [
    "## The Conjugate-Gradient algorithm\n",
    "\n",
    "The next cell implements the C-G algorithm.  "
   ]
  },
  {
   "cell_type": "code",
   "execution_count": null,
   "metadata": {},
   "outputs": [],
   "source": [
    "maxiter = 20\n",
    "kplot = 1\n",
    "verbose = True\n",
    "tol = 1e-14  # stop if the residual falls below tol\n",
    "\n",
    "print('Solving on %i by %i grid with %i unknowns' \\\n",
    "      % (mx,my,mx*my))\n",
    "print('    using tol = %.2e with maxiter = %i' % (tol,maxiter))\n",
    "\n",
    "# right-hand side:\n",
    "F_full = f_fcn(X_full, Y_full)\n",
    "F = F_full[1:-1, 1:-1]  # at interior points\n",
    "\n",
    "# adjust for Dirichlet BCs:\n",
    "F[0,:] = F[0,:] - Utrue_full[0,1:-1] / dx**2\n",
    "F[-1,:] = F[-1,:] - Utrue_full[-1,1:-1] / dx**2\n",
    "F[:,0] = F[:,0] - Utrue_full[1:-1,0] / dy**2\n",
    "F[:,-1] = F[:,-1] - Utrue_full[1:-1,-1] / dy**2\n",
    "\n",
    "\n",
    "# initial guess:\n",
    "U0_full = 0*X_full\n",
    "U0 = U0_full[1:-1, 1:-1]  # interior points\n",
    "\n",
    "U = U0.copy() # current iterate\n",
    "r = F - matvec(U)  # initial residual\n",
    "p = r.copy()  # initial direction\n",
    "\n",
    "k = 0\n",
    "enorm = abs(U-Utrue).max()\n",
    "errors = [enorm]\n",
    "rTr_k = inner_product(r,r)\n",
    "rnorm = sqrt(rTr_k)\n",
    "\n",
    "if verbose:\n",
    "    print('iteration %3i:   2-norm(r) = %.2e,   max-norm(E) = %.2e' \\\n",
    "          % (k,rnorm,enorm))\n",
    "    \n",
    "figs = []  # for the list of figures we generate\n",
    "\n",
    "fig = make_plot(U,k,rnorm,enorm)\n",
    "figs.append(fig)\n",
    "\n",
    "rTr_km = rTr_k  # in general will hold r^T * r at iteration k-1\n",
    "\n",
    "for k in range(1,maxiter+1):\n",
    "    w = matvec(p)   # the only matrix-vector multiply\n",
    "    a = rTr_km / inner_product(p,w)  # alpha_{k-1} in CG algorithm\n",
    "    U = U + a*p\n",
    "    r = r - a*w\n",
    "\n",
    "    enorm = abs(U-Utrue).max()\n",
    "    errors.append(enorm)\n",
    "    \n",
    "    rTr_k = inner_product(r,r)\n",
    "    rnorm = sqrt(rTr_k)\n",
    "\n",
    "    if mod(k,kplot)==0 or k==maxiter:\n",
    "        # every kplot iterations create a plot:\n",
    "        fig = make_plot(U,k,rnorm,enorm)\n",
    "        figs.append(fig)\n",
    "        \n",
    "    if verbose:\n",
    "        print('iteration %3i:   2-norm(r) = %.2e,   max-norm(E) = %.2e' \\\n",
    "              % (k,rnorm,enorm))\n",
    "    \n",
    "    # check for convergence:\n",
    "    if rnorm < tol:\n",
    "        print('Satisfied rnorm < tol after %i iterations' % k)\n",
    "        break\n",
    "        \n",
    "    # determine next search direction:\n",
    "    b = rTr_k / rTr_km   # beta_{k-1} in CG algorithm\n",
    "    rTr_km = rTr_k       # for next iteration\n",
    "    p = r + b*p           # next search direction\n",
    "\n",
    "print('Stopped after %i iterations with 2-norm(r) = %.2e' \\\n",
    "   % (k,rnorm))\n"
   ]
  },
  {
   "cell_type": "code",
   "execution_count": null,
   "metadata": {},
   "outputs": [],
   "source": [
    "semilogy(range(1,len(errors)+1), errors, 'b-x')\n",
    "grid(True)"
   ]
  },
  {
   "cell_type": "code",
   "execution_count": null,
   "metadata": {},
   "outputs": [],
   "source": [
    "animate_figs(figs)"
   ]
  },
  {
   "cell_type": "markdown",
   "metadata": {},
   "source": [
    "### Try the following:\n",
    "\n",
    "- Take more iterations: set e.g. `maxiter = 200` and `kplot = 10`. You should find that it converges to machine precision in about 70 iterations.\n",
    "- Refine the grid, e.g. by a factor of 2 in each direction by setting `mx = 39, my = 19`. You should find it converges to machine precision in about 149 iterations.  Note that in this case there are 741 unknowns, about 4 times as many as when `mx = 19, my = 9`.  This pattern continues on finer grids.\n",
    "\n",
    "Recall that the convergence rate can be estimated in terms of the condition number of the matrix, and we expect the number of iterations required to grow like $k = O\\left(\\sqrt{\\kappa(A)}\\right)$ from the discussion following (4.60) in the text.\n",
    "\n",
    "Here $\\kappa(A) = O(1/h^2)$ if $h = \\Delta x = \\Delta y$, so we expect $k$ to grow like $O(1/h)$, as observed.  In three dimensions the condition number is roughly the same, so roughly twice as many iterations are required if we cut $h = \\Delta x = \\Delta y = \\Delta z$ in half, even though now this increases the size of the system by a factor of 8.\n",
    "\n",
    "Note also that requiring such a small tolerance is not reasonable for real problems, and the number of iterations required to reach an error consistent with the global error for most problems would be much less.  (Here we chose a problem where the global error is 0.)"
   ]
  }
 ],
 "metadata": {
  "kernelspec": {
   "display_name": "Python 3",
   "language": "python",
   "name": "python3"
  },
  "language_info": {
   "codemirror_mode": {
    "name": "ipython",
    "version": 3
   },
   "file_extension": ".py",
   "mimetype": "text/x-python",
   "name": "python",
   "nbconvert_exporter": "python",
   "pygments_lexer": "ipython3",
   "version": "3.6.7"
  }
 },
 "nbformat": 4,
 "nbformat_minor": 2
}
