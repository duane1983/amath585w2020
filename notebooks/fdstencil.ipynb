{
 "cells": [
  {
   "cell_type": "markdown",
   "metadata": {},
   "source": [
    "# Computing finite difference stencils\n",
    "\n",
    "[AMath 585, Winter Quarter 2020](http://staff.washington.edu/rjl/classes/am585w2020/) at the University of Washington. Developed by R.J. LeVeque and distributed under the [BSD license](https://github.com/rjleveque/amath585w2020/blob/master/LICENSE).  You are free to modify and use as you please, with attribution.\n",
    "\n",
    "These notebooks are all [available on Github](https://github.com/rjleveque/amath585w2020/)."
   ]
  },
  {
   "cell_type": "markdown",
   "metadata": {},
   "source": [
    "This notebook illustrates how finite difference coefficients can be determined for approximating the $k$th derivative of a function at some point $\\bar x$, based on function values at $n$ nearby points, with $n > k$.  If the points have uniform spacing $\\Delta x$, then the order of accuracy will be ${\\cal O}\\left((\\Delta x)^{n-k}\\right)$ in general, but the points need not be equally spaced.\n",
    "\n",
    "The general idea is to determine the interpolating polynomial of degree $n-1$ and compute the $k$th derivative of this at the specified point.\n"
   ]
  },
  {
   "cell_type": "code",
   "execution_count": null,
   "metadata": {
    "collapsed": false
   },
   "outputs": [],
   "source": [
    "%matplotlib inline"
   ]
  },
  {
   "cell_type": "code",
   "execution_count": null,
   "metadata": {
    "collapsed": false
   },
   "outputs": [],
   "source": [
    "from pylab import *\n",
    "from scipy.special import factorial"
   ]
  },
  {
   "cell_type": "markdown",
   "metadata": {},
   "source": [
    "## Vandermonde matrix solution\n",
    "\n",
    "The simplest way to determine the coefficients is to derive an $n \\times n$ linear system of equations involving a Vandermonde matrix, as described in Section 1.5 of [[FDM-book]](http://faculty.washington.edu/rjl/fdmbook/), and implemented there as a simple Matlab code (also available as `fdcoeffV.m` from the book website).  Here is the Python equivalent:"
   ]
  },
  {
   "cell_type": "code",
   "execution_count": null,
   "metadata": {
    "collapsed": false
   },
   "outputs": [],
   "source": [
    "def fdcoeffV(k,xbar,x):\n",
    "    x = array(x)  # in case a list or tuple passed in, convert to numpy array\n",
    "    n = len(x)\n",
    "    if k >=n:\n",
    "        raise ValueError('*** len(x) must be larger than k')\n",
    "        \n",
    "    A = ones((n,n))\n",
    "    xrow = x - xbar  # displacement vector\n",
    "    \n",
    "    for i in range(1,n):\n",
    "        A[i,:] = (xrow**i) / factorial(i)\n",
    "      \n",
    "    condA = cond(A)  # condition number\n",
    "    if condA > 1e8:\n",
    "        print(\"Warning: condition number of Vandermonde matrix is approximately %.1e\" % condA)\n",
    "        \n",
    "    b = zeros(x.shape)\n",
    "    b[k] = 1.\n",
    "    \n",
    "    c = solve(A,b)\n",
    "    \n",
    "    return c"
   ]
  },
  {
   "cell_type": "markdown",
   "metadata": {},
   "source": [
    "### 3-point approximation to 2nd derivative\n",
    "\n",
    "For example, a 3-point centered approximation to the 2nd derivative is computed via:"
   ]
  },
  {
   "cell_type": "code",
   "execution_count": null,
   "metadata": {},
   "outputs": [],
   "source": [
    "x = array([-0.1, 0, 0.1])\n",
    "xbar = 0.\n",
    "c = fdcoeffV(2,xbar,x)\n",
    "print(c)"
   ]
  },
  {
   "cell_type": "markdown",
   "metadata": {},
   "source": [
    "Since the points are equally spaced with $\\Delta x = 0.1$, this gives the expected weights \n",
    "$1/\\Delta x^2, ~-2/\\Delta x^2,~ 1/\\Delta x^2.$"
   ]
  },
  {
   "cell_type": "markdown",
   "metadata": {},
   "source": [
    "## Printing the stencil\n",
    "\n",
    "If you want to compute the weights in general, we can choose $\\Delta x = 1$ and then no\n",
    "te that any second-derivative difference approximation will have $\\Delta x^2$ in the denominator.  In the function below this is made more general, to work for any order $k$ derivative, but assuming equally spaced points.  "
   ]
  },
  {
   "cell_type": "code",
   "execution_count": null,
   "metadata": {},
   "outputs": [],
   "source": [
    "def fdstencil(k, jbar, stencil_points):\n",
    "    \"\"\"\n",
    "    Compute and print the finite difference stencil for an order k derivative\n",
    "    using at least k+1 equally spaced points.\n",
    "    The stencil_points are thus assumed to be integers (indices of stencil points)\n",
    "    as is jbar, the index at which the approximation is to be used.\n",
    "    \n",
    "    For example, the standard second order stencil for u''(x_0) \n",
    "    can be printed via\n",
    "        fdstencil(2, 0, [-1,0,1])\n",
    "    \"\"\"\n",
    "    assert type(jbar) is int, '*** jbar should be an integer'\n",
    "    stencil_pts = array(stencil_points)\n",
    "    assert stencil_pts.dtype == int, '*** stencil_points should be integers'\n",
    "    \n",
    "    c = fdcoeffV(k, jbar, stencil_pts)\n",
    "    \n",
    "    print(\"Stencil for approximation to order %s derivative at U_{%s} is:\" \\\n",
    "          % (str(k), str(jbar)))\n",
    "    coeffs = ['%s / h^2' % str(cj) for cj in c]\n",
    "    s = '[' \n",
    "    for j in range(len(c)):\n",
    "        subj = str(stencil_pts[j])\n",
    "        cj = c[j]\n",
    "        sj = '%g U_{%s}' % (abs(cj), stencil_pts[j])\n",
    "        if cj >= 0:\n",
    "            s = s + ' + ' + sj\n",
    "        else:\n",
    "            s = s + ' - ' + sj\n",
    "    s = s + '] / h^%i' % k\n",
    "    print(s)\n",
    "    return c"
   ]
  },
  {
   "cell_type": "code",
   "execution_count": null,
   "metadata": {},
   "outputs": [],
   "source": [
    "fdstencil(2, 0, [-1,0,1])"
   ]
  },
  {
   "cell_type": "markdown",
   "metadata": {},
   "source": [
    "### 5-point approximation to 2nd derivative\n",
    "\n",
    "A 5-point centered approximation to the 2nd derivative would be:"
   ]
  },
  {
   "cell_type": "code",
   "execution_count": null,
   "metadata": {},
   "outputs": [],
   "source": [
    "x = linspace(-0.2,0.2,5)\n",
    "xbar = 0.\n",
    "c = fdcoeffV(2,xbar,x)\n",
    "print(c)"
   ]
  },
  {
   "cell_type": "code",
   "execution_count": null,
   "metadata": {},
   "outputs": [],
   "source": [
    "fdstencil(2, 0, [-2,-1,0,1,2])"
   ]
  },
  {
   "cell_type": "markdown",
   "metadata": {},
   "source": [
    "## Fornberg's method\n",
    "\n",
    "The Vandermonde matrix works fine for small stencils, but if you increase $n$ significantly (as might be done in a spectral method, for example), then the severe ill-conditioning of the Vandermonde matrix can lead to problems.  Even with only $n=11$ the condition number for the 2nd derivative is greater than $10^{13}$ and few digits in the coefficients can be trusted (although in fact they are still quite accurate):"
   ]
  },
  {
   "cell_type": "code",
   "execution_count": null,
   "metadata": {},
   "outputs": [],
   "source": [
    "x = linspace(-0.5,0.5,11)\n",
    "xbar = 0.\n",
    "c = fdcoeffV(2,xbar,x)\n",
    "print(c)"
   ]
  },
  {
   "cell_type": "markdown",
   "metadata": {},
   "source": [
    "A more stable approach was introduced by B. Fornberg in \n",
    "- Generation of Finite Difference Formulas on Arbitrarily Spaced Grids, *Mathematics of Computation* 51(1988) pp. 699-706, [doi:10.1090/S0025-5718-1988-0935077-0](https://doi.org/10.1090/S0025-5718-1988-0935077-0)\n",
    "\n",
    "and explained in these classroom notes,\n",
    "- Calculation of weights in finite difference formulas, *SIAM Review* 40 (1998), pp. 685-691, [doi:10.1137/S0036144596322507](https://doi.org/10.1137/S0036144596322507)\n",
    "\n",
    "This approach is implemented in Matlab in the file `fdcoeffF.m` available from the website [[FDM-book]](http://faculty.washington.edu/rjl/fdmbook/).\n",
    "\n",
    "A Python version is below.  This is based directly on the Fortran code in the SIAM Review paper listed above (which uses 0-based indexing, like Python, whereas the Matlab code is 1-based).\n",
    "\n",
    "**Note:** Forberg's algorithm can be used to simultaneously compute the coefficients for derivatives of order `0, 1, ..., m` where `m <= n-1`. This gives a coefficient matrix `C(1:n,1:m)` whose k'th column gives the coefficients for the k'th derivative.\n",
    "\n",
    "In the version below we set `m=k` and only compute the coefficients for derivatives of order up to order k, and then return only the k'th column of the resulting `C` matrix (converted to a row vector).   This routine is then compatible with ` fdcoeffV` defined above.    If the optional argument `fullC` is `True` then the full matrix of coefficients for derivatives of all orders up to `n-1` will be returned."
   ]
  },
  {
   "cell_type": "code",
   "execution_count": null,
   "metadata": {
    "collapsed": false
   },
   "outputs": [],
   "source": [
    "def fdcoeffF(k, xbar, x, fullC=False):\n",
    "    n = len(x) - 1\n",
    "    if k > n:\n",
    "        raise ValueError('*** len(x) must be larger than k')\n",
    "    \n",
    "    m = k  # for consistency with Fornberg's notation\n",
    "    c1 = 1.\n",
    "    c4 = x[0] - xbar\n",
    "    C = zeros((n+1,m+1))\n",
    "    C[0,0] = 1.\n",
    "    for i in range(1,n+1):\n",
    "        mn = min(i,m)\n",
    "        c2 = 1.\n",
    "        c5 = c4\n",
    "        c4 = x[i] - xbar\n",
    "        for j in range(i):\n",
    "            c3 = x[i] - x[j]\n",
    "            c2 = c2*c3\n",
    "            if j==i-1:\n",
    "                for s in range(mn,0,-1):\n",
    "                    C[i,s] = c1*(s*C[i-1,s-1] - c5*C[i-1,s])/c2\n",
    "                C[i,0] = -c1*c5*C[i-1,0]/c2\n",
    "            for s in range(mn,0,-1):\n",
    "                C[j,s] = (c4*C[j,s] - s*C[j,s-1])/c3\n",
    "            C[j,0] = c4*C[j,0]/c3\n",
    "        c1 = c2\n",
    "    \n",
    "    if fullC:\n",
    "        return C\n",
    "    else:\n",
    "        c = C[:,-1] # last column of C\n",
    "        return c"
   ]
  },
  {
   "cell_type": "markdown",
   "metadata": {},
   "source": [
    "Confirm it gives the same results as `fdcoeffV` for a small example:"
   ]
  },
  {
   "cell_type": "code",
   "execution_count": null,
   "metadata": {},
   "outputs": [],
   "source": [
    "x = linspace(-0.2,0.2,5)\n",
    "xbar = 0.\n",
    "cF = fdcoeffF(2,xbar,x)\n",
    "print('Coefficients computed with fdcoeffF: \\n', cF)\n",
    "cV = fdcoeffV(2,xbar,x)\n",
    "print('Coefficients computed with fdcoeffV: \\n', cV)"
   ]
  },
  {
   "cell_type": "markdown",
   "metadata": {},
   "source": [
    "Even with 11 points the results agree to all digits printed, but with 19 points the conditioning of the Vandermonde matrix results in somewhat different coefficients:"
   ]
  },
  {
   "cell_type": "code",
   "execution_count": null,
   "metadata": {},
   "outputs": [],
   "source": [
    "x = linspace(-0.9,0.9,19)\n",
    "xbar = 0.\n",
    "cF = fdcoeffF(2,xbar,x)\n",
    "print('Coefficients computed with fdcoeffF: \\n', cF)\n",
    "cV = fdcoeffV(2,xbar,x)\n",
    "print('Coefficients computed with fdcoeffV: \\n', cV)"
   ]
  },
  {
   "cell_type": "markdown",
   "metadata": {},
   "source": [
    "### Computing several stencils simultaneously\n",
    "\n",
    "Here's an example where we use Fornberg's algorithm to compute the coefficients for the first 3 derivatives based on 5 values:"
   ]
  },
  {
   "cell_type": "code",
   "execution_count": null,
   "metadata": {},
   "outputs": [],
   "source": [
    "x = linspace(-0.2,0.2,5)\n",
    "xbar = 0.\n",
    "CF = fdcoeffF(2,xbar,x,True)\n",
    "print('Coefficients for function value: \\n', CF[:,0])\n",
    "print('Coefficients for first derivative: \\n', CF[:,1])\n",
    "print('Coefficients for second derivative: \\n', CF[:,2])"
   ]
  }
 ],
 "metadata": {
  "kernelspec": {
   "display_name": "Python 3",
   "language": "python",
   "name": "python3"
  },
  "language_info": {
   "codemirror_mode": {
    "name": "ipython",
    "version": 3
   },
   "file_extension": ".py",
   "mimetype": "text/x-python",
   "name": "python",
   "nbconvert_exporter": "python",
   "pygments_lexer": "ipython3",
   "version": "3.6.7"
  }
 },
 "nbformat": 4,
 "nbformat_minor": 2
}
