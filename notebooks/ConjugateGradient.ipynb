{
 "cells": [
  {
   "cell_type": "markdown",
   "metadata": {},
   "source": [
    "# Conjugate-Gradient Method\n",
    "\n",
    "[AMath 585, Winter Quarter 2020](http://staff.washington.edu/rjl/classes/am585w2020/) at the University of Washington. Developed by R.J. LeVeque and distributed under the [BSD license](https://github.com/rjleveque/amath585w2020/blob/master/LICENSE).  You are free to modify and use as you please, with attribution.\n",
    "\n",
    "These notebooks are all [available on Github](https://github.com/rjleveque/amath585w2020/).\n",
    "\n",
    "-----\n",
    "\n",
    "This notebook illustrates an implmentation of the Conjugate-Gradient method on a simple 1-dimensional boundary value problem $u''(x) = f(x)$ with Dirichlet boundary conditions.  This illustrates the basic algorithm, although for this particular problem it would of course be better to solve the tridiagonal system directly."
   ]
  },
  {
   "cell_type": "code",
   "execution_count": null,
   "metadata": {},
   "outputs": [],
   "source": [
    "%matplotlib inline"
   ]
  },
  {
   "cell_type": "code",
   "execution_count": null,
   "metadata": {},
   "outputs": [],
   "source": [
    "from pylab import *"
   ]
  },
  {
   "cell_type": "markdown",
   "metadata": {},
   "source": [
    "### Animating the iteration\n",
    "\n",
    "Here we allow two possible ways to animate figures.  The version defined in the module [jsanimate_figs.py](jsanimate_figs.py) creates an animation that works well even when the notebook is rendered as html (by embedding javascript into the notebook, hence the js). The code to do this is a bit long so it has been put in a separate file, but it is based on the matplotlib [animation tools](https://matplotlib.org/3.1.3/api/animation_api.html), in particular [FuncAnimation](https://matplotlib.org/api/_as_gen/matplotlib.animation.FuncAnimation.html) to loop over figures and the `to_jshtml` function to convert to javascript.\n",
    "\n",
    "The version using [ipywidgets](https://ipywidgets.readthedocs.io/en/latest/examples/Widget%20Basics.html) does not render in the html version but you may prefer using it if you are running the notebook live, since it executes more quickly.\n",
    "\n",
    "To use widgets, set `use_widgets = True`."
   ]
  },
  {
   "cell_type": "code",
   "execution_count": null,
   "metadata": {},
   "outputs": [],
   "source": [
    "use_widgets = True\n",
    "\n",
    "if use_widgets:\n",
    "    from ipywidgets import interact\n",
    "    import ipywidgets as widgets\n",
    "\n",
    "    def animate_figs(figs):\n",
    "        show_frame = lambda frameno: display(figs[frameno])\n",
    "        interact(show_frame, frameno=widgets.IntSlider(min=0,max=len(figs)-1, value=0))\n",
    "else:\n",
    "    from jsanimate_figs import animate_figs"
   ]
  },
  {
   "cell_type": "markdown",
   "metadata": {},
   "source": [
    "## Define the BVP\n",
    "\n",
    "Again we solve $u''(x) = f(x)$ with Dirichlet boundary conditions and choose a problem where the truncation error is zero so that the exact solution of the linear system is the solution of the ODE evaluated at the grid points."
   ]
  },
  {
   "cell_type": "markdown",
   "metadata": {},
   "source": [
    "### Discrete matrix\n",
    "\n",
    "In the notebook [IterativeMethods.ipynb](IterativeMethods.ipynb) we solved the system\n",
    "\n",
    "\\begin{align*}\n",
    "\\frac{1}{h^2} \n",
    "\\left[\n",
    "\\begin{array}{ccccccccccccccc}\n",
    "1&0\\\\\n",
    "1&-2&1\\\\\n",
    "&1&-2&1\\\\\n",
    "&&&\\ddots\\\\\n",
    "&&&&1&-2&1\\\\\n",
    "&&&&&0&1\n",
    "\\end{array}\n",
    "\\right]\n",
    "~\n",
    "\\left[  \n",
    "\\begin{array}{ccccccccccccccc}\n",
    "U_0 \\\\ U_1 \\\\ U_2 \\\\ \\vdots \\\\ U_m \\\\ U_{m+1}\n",
    "\\end{array} \n",
    "\\right]\n",
    "= \\left[  \n",
    "\\begin{array}{ccccccccccccccc}\n",
    "\\alpha \\\\ f(x_1) \\\\ f(x_2) \\\\ \\vdots \\\\ f(x_m) \\\\ \\beta\n",
    "\\end{array} \n",
    "\\right].\n",
    "\\end{align*}\n",
    "\n",
    "But note that this matrix is not symmetric and hence the conjugate gradient method cannot be used, or at least it will not work for general initial data.  It turns out if the initial data satisfies the Dirichlet boundary conditions then it does in fact work, because the first and last equations are always satisfied, but to avoid concerns that this is affecting the behavior we will instead solve the tridiagonal system for the interior unknowns,\n",
    "\n",
    "\\begin{align*}\n",
    "\\frac{1}{h^2} \n",
    "\\left[\n",
    "\\begin{array}{ccccccccccccccc}\n",
    "-2&1\\\\\n",
    "1&-2&1\\\\\n",
    "&&&\\ddots\\\\\n",
    "&&&&1&-2&1\\\\\n",
    "&&&&&1&-2\n",
    "\\end{array}\n",
    "\\right]\n",
    "~\n",
    "\\left[  \n",
    "\\begin{array}{ccccccccccccccc}\n",
    "U_1 \\\\ U_2 \\\\ \\vdots \\\\ U_{m-1} \\\\ U_m\n",
    "\\end{array} \n",
    "\\right]\n",
    "= \\left[  \n",
    "\\begin{array}{ccccccccccccccc}\n",
    "f(x_1) - \\alpha/h^2 \\\\ f(x_2) \\\\ \\vdots \\\\ f(x_{m-1}) \\\\ f(x_m) - \\beta/h^2\n",
    "\\end{array} \n",
    "\\right].\n",
    "\\end{align*}"
   ]
  },
  {
   "cell_type": "markdown",
   "metadata": {},
   "source": [
    "This complicates things a bit since we generally want to plot the full solution so we will use `U_full` to be the full set of grid points, including boundary points, and `U` to be the solution on the interior points, the actual solution to the linear system, with similar notation for other variables."
   ]
  },
  {
   "cell_type": "markdown",
   "metadata": {},
   "source": [
    "**Note:** This matrix $A$ is symmetric *negative* definite rather than positive definite.  We could negate both the matrix and right hand side to make it positive definite, but this isn't necessary:  the C-G algorithm as written in the text still works fine.  \n",
    "\n",
    "Also note that the first matrix above, in addition to being non-symmetric, has two positive eigenvalues equal to 1 and the rest of the eigenvalues are negative.  So even if it were symmetric, C-G would not work without negating some of the equations."
   ]
  },
  {
   "cell_type": "markdown",
   "metadata": {},
   "source": [
    "## Define the matrix-vector multiply function\n",
    "\n",
    "To implement the C-G algorithm we need to be able to multiply $Av$ for various vectors $v$.  The following `matvec` routine computes and returns this product.  This is the only place the matrix $A$ is needed, so not that in general we do not need to form or store the large sparse matrix."
   ]
  },
  {
   "cell_type": "code",
   "execution_count": null,
   "metadata": {},
   "outputs": [],
   "source": [
    "def matvec(v):\n",
    "    \"\"\"\n",
    "    Given v of length m \n",
    "    Return b = A*v\n",
    "    \"\"\"\n",
    "    \n",
    "    m = len(v)\n",
    "    h = 1./(m+1)\n",
    "    \n",
    "    # initialize vector for product:\n",
    "    b = empty(m, dtype=float)\n",
    "    \n",
    "    # set each value of b, noting that first and last rows are special:\n",
    "    for i in range(m):\n",
    "        if i>0:\n",
    "            vim = v[i-1]\n",
    "        else:\n",
    "            vim = 0.\n",
    "        if i<m-1:\n",
    "            vip = v[i+1]\n",
    "        else:\n",
    "            vip = 0.\n",
    "            \n",
    "        b[i] = (vim - 2*v[i] + vip) / h**2\n",
    "        \n",
    "    return b"
   ]
  },
  {
   "cell_type": "markdown",
   "metadata": {},
   "source": [
    "### Different version: extend v to include boundary points\n",
    "\n",
    "Here's a simpler way to define the `matvec` function that is more like what is done in the notebook [ConjugateGradient2D.ipynb](ConjugateGradient2D.ipynb)."
   ]
  },
  {
   "cell_type": "code",
   "execution_count": null,
   "metadata": {},
   "outputs": [],
   "source": [
    "def matvec(v):\n",
    "    \"\"\"\n",
    "    Given v of length m \n",
    "    Return b = A*v\n",
    "    \"\"\"\n",
    "    \n",
    "    # pad v with zeros at each boundary, needed for computing centered differences:\n",
    "\n",
    "    m = len(v)\n",
    "    h = 1./(m+1)\n",
    "    v_full = zeros(m+2)\n",
    "    v_full[1:-1] = v\n",
    "    \n",
    "    # compute b of length m at interior points only. \n",
    "    # Note that slicing with [1:-1] corresponds to interior points,\n",
    "    # [:-2] correspond to points to the left and \n",
    "    # [2:] are points to the right.\n",
    "    \n",
    "    b = (v_full[:-2] - 2*v_full[1:-1] + v_full[2:]) / h**2\n",
    "    \n",
    "    return b"
   ]
  },
  {
   "cell_type": "markdown",
   "metadata": {},
   "source": [
    "## The Conjugate-Gradient algorithm\n",
    "\n",
    "The next function implements the C-G algorithm."
   ]
  },
  {
   "cell_type": "code",
   "execution_count": null,
   "metadata": {},
   "outputs": [],
   "source": [
    "def solve_bvp_CG(f_fcn, utrue_fcn, m, maxiter, kplot, verbose=False):\n",
    "    \n",
    "    h = 1./(m+1)\n",
    "    x_full = linspace(0,1,m+2)\n",
    "    x = x_full[1:m+1] # interior points\n",
    "\n",
    "    utrue_full = utrue_fcn(x_full)\n",
    "    utrue = utrue_full[1:m+1]  # at interior points\n",
    "    \n",
    "    # Dirichlet boundary values from true solution:\n",
    "    alpha = utrue_fcn(0.)\n",
    "    beta = utrue_fcn(1.)\n",
    "\n",
    "    f_full = f_fcn(x_full)\n",
    "\n",
    "    # right-hand side:\n",
    "    f = f_full[1:m+1]  # at interior points\n",
    "\n",
    "    # adjust for Dirichlet BCs:\n",
    "    f[0] = f[0] - alpha / h**2\n",
    "    f[m-1] = f[m-1] - beta / h**2\n",
    "\n",
    "    # initial guess:\n",
    "    U0_full = linspace(alpha, beta, m+2)  # linear\n",
    "    U0 = U0_full[1:m+1]  # interior points\n",
    "\n",
    "    U = U0.copy() # current iterate\n",
    "    r = f - matvec(U)  # initial residual\n",
    "    p = r.copy()  # initial direction\n",
    "\n",
    "    tol = 1e-8  # stop if the residual \n",
    "\n",
    "    enorm = abs(U-utrue).max()\n",
    "    errors = [enorm]\n",
    "    figs = []  # for the list of figures we generate\n",
    "\n",
    "    rTr_km = dot(r,r)  # r^T * r at iteration k-1\n",
    "\n",
    "    for k in range(1,maxiter+1):\n",
    "        w = matvec(p)   # the only matrix-vector multiply\n",
    "        a = rTr_km / dot(p,w) # alpha_{k-1} in CG algorithm\n",
    "        U = U + a*p\n",
    "        r = r - a*w\n",
    "\n",
    "        enorm = abs(U-utrue).max()\n",
    "        errors.append(enorm)\n",
    "\n",
    "        if mod(k,kplot)==0 or k==maxiter:\n",
    "            # every kplot iterations create a plot:\n",
    "            fig = figure(figsize=(12,5))\n",
    "            plot(x_full,U0_full,'r-o', label='initial guess')\n",
    "            plot(x_full,utrue_full,'k-o', label='true solution')\n",
    "            U_full = hstack([alpha,U,beta])\n",
    "            plot(x_full,U_full,'bo-', label= 'iteration k = %i' % k)\n",
    "            legend()\n",
    "            grid(True)\n",
    "            xlim(0,1)\n",
    "            ylim(0,3)\n",
    "            title('After %i iterations, norm(error) = %.2e' \\\n",
    "                  % (k, enorm))\n",
    "            figs.append(fig)\n",
    "            close(fig)\n",
    "\n",
    "        rTr_k = dot(r,r)\n",
    "        rnorm = sqrt(rTr_k)\n",
    "        \n",
    "        if verbose:\n",
    "            print('iteration %3i:   2-norm(r) = %.2e,   max-norm(E) = %.2e' \\\n",
    "                  % (k,rnorm,enorm))\n",
    "        \n",
    "        if rnorm < tol:\n",
    "            if verbose: print('Stopping after %i iterations' % k)\n",
    "            break\n",
    "\n",
    "        # determine next search direction:\n",
    "        b = rTr_k / rTr_km   # beta_{k-1} in CG algorithm\n",
    "        rTr_km = rTr_k       # for next iteration\n",
    "        p = r + b*p           # next search direction\n",
    "         \n",
    "    return errors, figs"
   ]
  },
  {
   "cell_type": "markdown",
   "metadata": {},
   "source": [
    "## Test this on a cubic function\n",
    "\n",
    "Again we choose an example for which the exact solution of the linear system is just the ODE solution evaluated at the grid points..."
   ]
  },
  {
   "cell_type": "code",
   "execution_count": null,
   "metadata": {},
   "outputs": [],
   "source": [
    "f_fcn = lambda x: 6*x + 2\n",
    "utrue_fcn = lambda x: x**3 + x**2 - x + 1"
   ]
  },
  {
   "cell_type": "code",
   "execution_count": null,
   "metadata": {},
   "outputs": [],
   "source": [
    "errors,figs = solve_bvp_CG(f_fcn, utrue_fcn, m=19, maxiter=25, kplot=1, verbose=True)"
   ]
  },
  {
   "cell_type": "markdown",
   "metadata": {},
   "source": [
    "Note that this converged after 19 iterations, as expected.  Note that neither the residual nor the error were very small in iteration 18, and dropped dramatically in the final iteration!"
   ]
  },
  {
   "cell_type": "code",
   "execution_count": null,
   "metadata": {},
   "outputs": [],
   "source": [
    "semilogy(range(1,len(errors)+1), errors, 'b-x')\n",
    "grid(True)"
   ]
  },
  {
   "cell_type": "markdown",
   "metadata": {},
   "source": [
    "Note the behavior of the approximate solution, now plotted every iteration:"
   ]
  },
  {
   "cell_type": "code",
   "execution_count": null,
   "metadata": {},
   "outputs": [],
   "source": [
    "animate_figs(figs)"
   ]
  },
  {
   "cell_type": "markdown",
   "metadata": {},
   "source": [
    "## A different ODE\n",
    "\n",
    "Here's an even simpler ODE where the true solution is quadratic.  In this case we obtain convergence in 10 iterations, again with a big drop in the final iteration."
   ]
  },
  {
   "cell_type": "code",
   "execution_count": null,
   "metadata": {},
   "outputs": [],
   "source": [
    "f_fcn = lambda x: -6*ones(x.shape)\n",
    "utrue_fcn = lambda x: 2-3*(x-0.2)*(x-0.7)"
   ]
  },
  {
   "cell_type": "code",
   "execution_count": null,
   "metadata": {},
   "outputs": [],
   "source": [
    "errors,figs = solve_bvp_CG(f_fcn, utrue_fcn, m=19, maxiter=25, kplot=1, verbose=True)"
   ]
  },
  {
   "cell_type": "code",
   "execution_count": null,
   "metadata": {},
   "outputs": [],
   "source": [
    "semilogy(range(1,len(errors)+1), errors, 'b-x')\n",
    "grid(True)"
   ]
  },
  {
   "cell_type": "markdown",
   "metadata": {},
   "source": [
    "The behavior of the iterates is particularly simple in this case:"
   ]
  },
  {
   "cell_type": "code",
   "execution_count": null,
   "metadata": {},
   "outputs": [],
   "source": [
    "animate_figs(figs)"
   ]
  }
 ],
 "metadata": {
  "kernelspec": {
   "display_name": "Python 3",
   "language": "python",
   "name": "python3"
  },
  "language_info": {
   "codemirror_mode": {
    "name": "ipython",
    "version": 3
   },
   "file_extension": ".py",
   "mimetype": "text/x-python",
   "name": "python",
   "nbconvert_exporter": "python",
   "pygments_lexer": "ipython3",
   "version": "3.6.7"
  }
 },
 "nbformat": 4,
 "nbformat_minor": 2
}
