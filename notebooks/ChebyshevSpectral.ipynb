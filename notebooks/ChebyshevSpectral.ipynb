{
 "cells": [
  {
   "cell_type": "markdown",
   "metadata": {},
   "source": [
    "# Chebyshev spectral method\n",
    "\n",
    "[AMath 585, Winter Quarter 2020](http://staff.washington.edu/rjl/classes/am585w2020/) at the University of Washington. Developed by R.J. LeVeque and distributed under the [BSD license](https://github.com/rjleveque/amath585w2020/blob/master/LICENSE).  You are free to modify and use as you please, with attribution.\n",
    "\n",
    "These notebooks are all [available on Github](https://github.com/rjleveque/amath585w2020/).\n",
    "\n",
    "-----\n",
    "\n",
    "This notebook illustrates:\n",
    " - Polynomial interpolation using monomial and Chebyshev polynomial bases\n",
    " - The dangers of interpolating at equally spaced points using the Runge function\n",
    " - How to do Chebyshev interpolation\n",
    " - Approximating the first derivative of a function using the Chebyshev points.\n"
   ]
  },
  {
   "cell_type": "code",
   "execution_count": null,
   "metadata": {},
   "outputs": [],
   "source": [
    "%matplotlib inline"
   ]
  },
  {
   "cell_type": "code",
   "execution_count": null,
   "metadata": {},
   "outputs": [],
   "source": [
    "from pylab import *"
   ]
  },
  {
   "cell_type": "markdown",
   "metadata": {},
   "source": [
    "## Interpolation using the monomial basis\n",
    "\n",
    "First we illustrate polynomial interpolation using the monomial basis\n",
    "$$\n",
    "p(x) =  c_0 + c_1 x + c_2 x^2 + \\cdots c_{N-1}x^{N-1}  + c_N x^N \n",
    "$$\n",
    "Note that this can be rewritten as \n",
    "$$\n",
    "p(x) = ((\\cdots (c_N x + c_{N-1})x + c_{N-2})x + \\cdots + c_1)x + c_0\n",
    "$$\n",
    "A nice way to evaluate $p(x)$ that is sometimes called [Horner's method](https://en.wikipedia.org/wiki/Horner%27s_method).\n",
    "\n",
    "In the function below the Vandermonde matrix $B$ is set up, with $k$th column given by the values $x_j^k$ where $x_j$ are the desired interpolation points.  The system\n",
    "$$\n",
    "Bc = u\n",
    "$$\n",
    "is then solved for the polynomial coefficients, where $u$ is the vector of function values at each point.\n",
    "\n",
    "The resulting polynomials is then evaluated on a fine grid of points (using Horner's method) for plotting purposes and to estimate the error.\n",
    "\n",
    "Any set of $N+1$ distinct points $x$ could be used, here it's set up to use either equally spaced or Chebyshev points."
   ]
  },
  {
   "cell_type": "code",
   "execution_count": null,
   "metadata": {},
   "outputs": [],
   "source": [
    "def poly_interp_monomials(u_fcn, x):\n",
    "    \"\"\"\n",
    "    Peform polynomial interpolation of the function u_fcn at points x using the monomial basis.\n",
    "    \"\"\"\n",
    "    # Vandermonde matrix using monomial basis:\n",
    "    N = len(x) - 1\n",
    "    B = empty((N+1,N+1), dtype=float)  # initialize storage for B\n",
    "    for k in range(N+1):\n",
    "        B[:,k] = x**k\n",
    "    print('The condition number of the Vandermonde matrix B is %g' % cond(B))\n",
    "\n",
    "    # Solve for polynomial coefficients:\n",
    "    u = u_fcn(x)\n",
    "    c = solve(B,u)\n",
    "    return c\n",
    "\n",
    "def poly_plot_monomials(u_fcn, x, c):\n",
    "    \"\"\"\n",
    "    Plot the true function and the interpolating function\n",
    "    \"\"\"\n",
    "    xfine = linspace(-1,1,1000)\n",
    "    ufine = u_fcn(xfine)\n",
    "    \n",
    "    figure(figsize=(10,4))\n",
    "    plot(xfine, ufine, 'b', label='Original function')\n",
    "    \n",
    "    plot(x, u_fcn(x), 'bo', label=\"Interpolation points\")\n",
    "\n",
    "    # Evaluate p(xfine) using Horner's method:\n",
    "    p = c[N]\n",
    "    for k in range(N-1,-1,-1):\n",
    "        p = p*xfine + c[k]\n",
    "\n",
    "    plot(xfine, p, 'r', label='Polynomial interpolant')\n",
    "    plot(x, zeros(x.shape), 'k-+')\n",
    "    legend()\n",
    "    grid(True)\n",
    "    title('Using %i interpolation points' % N)\n",
    "    print('Max absolute error = %g' % abs(p-ufine).max())"
   ]
  },
  {
   "cell_type": "markdown",
   "metadata": {},
   "source": [
    "## Test on the Runge function\n",
    "\n",
    "This illustrate the danger of polynomial interpolation on a uniform grid."
   ]
  },
  {
   "cell_type": "code",
   "execution_count": null,
   "metadata": {},
   "outputs": [],
   "source": [
    "u_fcn = lambda x: 1 / (1 + 16*x**2)"
   ]
  },
  {
   "cell_type": "code",
   "execution_count": null,
   "metadata": {},
   "outputs": [],
   "source": [
    "N = 12\n",
    "x = linspace(-1,1,N+1)\n",
    "c = poly_interp_monomials(u_fcn, x)\n",
    "\n",
    "poly_plot_monomials(u_fcn, x, c)"
   ]
  },
  {
   "cell_type": "markdown",
   "metadata": {},
   "source": [
    "If you increase $N=12$ to a larger value you will see that the approximation gets much worse near the boundaries.\n",
    "\n",
    "### Using Chebyshev points\n",
    "\n",
    "If we instead use the Chebyshev interpolation points we get much better results:"
   ]
  },
  {
   "cell_type": "code",
   "execution_count": null,
   "metadata": {},
   "outputs": [],
   "source": [
    "N = 12\n",
    "x = cos(linspace(0, pi,N+1))\n",
    "c = poly_interp_monomials(u_fcn, x)\n",
    "\n",
    "poly_plot_monomials(u_fcn, x, c)"
   ]
  },
  {
   "cell_type": "code",
   "execution_count": null,
   "metadata": {},
   "outputs": [],
   "source": [
    "N = 24\n",
    "x = cos(linspace(0, pi,N+1))\n",
    "c = poly_interp_monomials(u_fcn, x)\n",
    "\n",
    "poly_plot_monomials(u_fcn, x, c)"
   ]
  },
  {
   "cell_type": "markdown",
   "metadata": {},
   "source": [
    "Although this works fine for relatively small $N$, note that the condition number of the Vandermonde matrix is getting very large.  That's because the monomial basis is poorly conditioned.\n",
    "\n",
    "It is much better to use the basis of Chebyshev polynomials."
   ]
  },
  {
   "cell_type": "markdown",
   "metadata": {},
   "source": [
    "## Evaluating Chebyshev polynomials\n",
    "\n",
    "We can use the 3-term recurrence relation to evaluate the Chebyshev polynomial $T_k(x)$ for any order $k$ at a set of points `x` (assumed to be a numpy array) as in the function below.\n",
    "\n",
    "The recurrence is:\n",
    "$$\n",
    "T_{n+1}(x) = 2xT_n(x) - T_{n-1}(x)\n",
    "$$\n",
    "with starting values:\n",
    "$$\n",
    "T_0(x) = 1, \\quad T_1(x) = x.\n",
    "$$\n"
   ]
  },
  {
   "cell_type": "code",
   "execution_count": null,
   "metadata": {},
   "outputs": [],
   "source": [
    "def T(n,x):\n",
    "    \"\"\"\n",
    "    Evaluate Chebyshev polynomial T_n(x) using 3-term recurrence relation.\n",
    "    Assumes x is a numpy array of values.\n",
    "    Does not work as written if x is just a single value!\n",
    "    \"\"\"\n",
    "    # Initialize Tnm = 1 and Tn = x and then iterate\n",
    "    Tnm = ones(x.shape)  # will be used for T_{n-1} in loop\n",
    "    if n==0:\n",
    "        return Tnm       # special case T_0 = 1 forall x\n",
    "    Tn = x               # will be used for T_n in loop\n",
    "    \n",
    "    for k in range(2,n+1):\n",
    "        Tnp = 2*x*Tn - Tnm\n",
    "        Tnm = Tn.copy()\n",
    "        Tn = Tnp.copy()\n",
    "    return Tn"
   ]
  },
  {
   "cell_type": "code",
   "execution_count": null,
   "metadata": {},
   "outputs": [],
   "source": [
    "xfine = linspace(-1,1,1000)\n",
    "k = 7\n",
    "plot(xfine, T(k,xfine), 'b')\n",
    "grid(True)\n",
    "title('Chebyshev polynomial T_%s' % k);"
   ]
  },
  {
   "cell_type": "markdown",
   "metadata": {},
   "source": [
    "## Evaluating a polynomial written in the Chebyshev basis\n",
    "\n",
    "Once we have computed coefficients $c$ by solving an interpolation problem in the Cheyshev basis, we need to be able to evaluate\n",
    "$$\n",
    "p(x) = c_0T_0(x) + \\cdots c_NT_N(x).\n",
    "$$\n",
    "This routine performs this sum using the 3-term recurrence:"
   ]
  },
  {
   "cell_type": "code",
   "execution_count": null,
   "metadata": {},
   "outputs": [],
   "source": [
    "def T_sum(c,x):\n",
    "    \"\"\"\n",
    "    Evaluate sum c_n * T_n(x) (from n=0 to N) using 3-term recurrence relation\n",
    "    \"\"\"\n",
    "    N = len(c) - 1\n",
    "    Tnm = ones(x.shape)  # will be used for T_{n-1} in loop\n",
    "    Tsum = c[0]*Tnm\n",
    "    \n",
    "    if N==0:\n",
    "        return Tsum      # special case T_0 = 1 forall x\n",
    "    Tn = x               # will be used for T_n in loop\n",
    "    Tsum += c[1]*Tn\n",
    "    \n",
    "    for n in range(2,N+1):\n",
    "        Tnp = 2*x*Tn - Tnm\n",
    "        Tsum += c[n]*Tnp\n",
    "        Tnm = Tn.copy()\n",
    "        Tn = Tnp.copy()\n",
    "    return Tsum"
   ]
  },
  {
   "cell_type": "markdown",
   "metadata": {},
   "source": [
    "Another way to evaluate the polynomial at an arbitrary set of points such as `xfine` is to set up a matrix $B$ with $j$ th column $T_j(x)$ and the multiply $Bc$ where $c$ are the coefficients.  Note this matrix can be rectangular $m \\times (N+1)$ where $m$ is the number of points where it should be evaluated.\n",
    "\n",
    "This idea will be useful for evaluating higher order derivatives, so we use this instead of the above:"
   ]
  },
  {
   "cell_type": "code",
   "execution_count": null,
   "metadata": {},
   "outputs": [],
   "source": [
    "def T_sum(c,x):\n",
    "    N = len(c) - 1\n",
    "    B = empty((len(x),N+1))\n",
    "    for k in range(N+1):\n",
    "        B[:,k] = T(k,x)\n",
    "    Tsum = dot(B,c)\n",
    "    return Tsum"
   ]
  },
  {
   "cell_type": "markdown",
   "metadata": {},
   "source": [
    "## Chebyshev interpolation\n",
    "\n",
    "The function below sets up a Vandermonde matrix using the Chebyshev basis, solves for the coefficients `c`, and then evaluates the resulting polynomial on a fine grid of points for plotting purposes and to estimate the error:"
   ]
  },
  {
   "cell_type": "code",
   "execution_count": null,
   "metadata": {},
   "outputs": [],
   "source": [
    "def poly_interp_chebyshev(u_fcn, x):\n",
    "    \n",
    "    # Vandermonde matrix using monomial basis:\n",
    "    N = len(x) - 1\n",
    "    B = empty((N+1,N+1), dtype=float)  # initialize storage for B\n",
    "    for k in range(N+1):\n",
    "        B[:,k] = T(k,x)\n",
    "    print('The condition number of the Vandermonde matrix B is %g' % cond(B))\n",
    "\n",
    "    # Solve for polynomial coefficients:\n",
    "    u = u_fcn(x)\n",
    "    c = solve(B,u)\n",
    "    return c\n",
    "\n",
    "def poly_plot_chebyshev(u_fcn, x, c):\n",
    "    \n",
    "    xfine = linspace(-1,1,1000)\n",
    "    ufine = u_fcn(xfine)\n",
    "    \n",
    "    figure(figsize=(10,4))\n",
    "    plot(xfine, ufine, 'b', label='Original function')\n",
    "    \n",
    "    plot(x, u_fcn(x), 'bo', label=\"Interpolation points\")\n",
    "\n",
    "    # Evaluate p(xfine) using T_sum:\n",
    "    p = T_sum(c,xfine)\n",
    "\n",
    "    plot(xfine, p, 'r', label='Polynomial interpolant')\n",
    "    plot(x, zeros(x.shape), 'k-+')\n",
    "    legend()\n",
    "    grid(True)\n",
    "    title('Using %i interpolation points' % N)\n",
    "    print('Max absolute error = %g' % abs(p-ufine).max())"
   ]
  },
  {
   "cell_type": "markdown",
   "metadata": {},
   "source": [
    "Test this on the Runge function.  Note that this should give the same polynomial approximation as obtained using the monomial basis, but with a much better conditioned Vandermonde matrix."
   ]
  },
  {
   "cell_type": "code",
   "execution_count": null,
   "metadata": {},
   "outputs": [],
   "source": [
    "u_fcn = lambda x: 1 / (1 + 16*x**2)\n",
    "N = 24\n",
    "x = cos(linspace(0, pi,N+1))\n",
    "c = poly_interp_chebyshev(u_fcn, x)\n",
    "\n",
    "poly_plot_chebyshev(u_fcn, x, c)"
   ]
  },
  {
   "cell_type": "markdown",
   "metadata": {},
   "source": [
    "## Evaluating the derivative\n",
    "\n",
    "First we define a function that evaluates the derivative $T_n'(x)$. It uses a 3-term recurrence derived from that of the $T_n$ by differentiating:\n",
    "$$\n",
    "T'_{n+1}(x) = 2T_n(x) + 2xT_n'(x) - T_{n-1}'(x)\n",
    "$$\n",
    "with starting values:\n",
    "$$\n",
    "T_0'(x) = 0, \\quad T_1'(x) = 1.\n",
    "$$"
   ]
  },
  {
   "cell_type": "code",
   "execution_count": null,
   "metadata": {},
   "outputs": [],
   "source": [
    "def Tx(n,x):\n",
    "    \"\"\"\n",
    "    Evaluate first derivative of Chebyshev polynomial T_n(x) using 3-term recurrence relation\n",
    "    Assumes x is a numpy array of points.\n",
    "    \"\"\"\n",
    "    Tnm = ones(x.shape)  # will be used for T_{n-1} in loop\n",
    "    Txnm = zeros(x.shape)\n",
    "    if n==0:\n",
    "        return Txnm       # special case T_0 = 1 forall x\n",
    "    Tn = x               # will be used for T_n in loop\n",
    "    Txn = ones(x.shape)\n",
    "    \n",
    "    for k in range(2,n+1):\n",
    "        Tnp = 2*x*Tn - Tnm\n",
    "        Txnp = 2*Tn + 2*x*Txn - Txnm\n",
    "        Tnm = Tn.copy()\n",
    "        Tn = Tnp.copy()\n",
    "        Txnm = Txn.copy()\n",
    "        Txn = Txnp.copy()\n",
    "    return Txn"
   ]
  },
  {
   "cell_type": "markdown",
   "metadata": {},
   "source": [
    "### Smooth test problem\n",
    "\n",
    "Try it out on $u(x) = \\sin(x)$:"
   ]
  },
  {
   "cell_type": "code",
   "execution_count": null,
   "metadata": {},
   "outputs": [],
   "source": [
    "u_fcn = lambda x: sin(2*x)\n",
    "ux_fcn = lambda x: 2*cos(2*x)"
   ]
  },
  {
   "cell_type": "code",
   "execution_count": null,
   "metadata": {},
   "outputs": [],
   "source": [
    "N = 4\n",
    "x = cos(linspace(0, pi, N+1))\n",
    "c = poly_interp_chebyshev(u_fcn, x)\n",
    "\n",
    "B = empty((len(xfine),N+1))\n",
    "\n",
    "# evaluate sum c_n * Tx_n(x) at xfine points:\n",
    "\n",
    "for k in range(N+1):\n",
    "    B[:,k] = Tx(k,xfine)\n",
    "pfine = dot(B,c)\n",
    "\n",
    "# true u'(x) at xfine points:\n",
    "ux_fine = ux_fcn(xfine)\n",
    "\n",
    "figure(figsize=(10,6))\n",
    "plot(xfine, ux_fine, 'b', label=\"u'(x)\")\n",
    "plot(xfine, pfine, 'r', label=\"p'(x)\")\n",
    "plot(x, ux_fcn(x), 'bo')\n",
    "plot(x, zeros(x.shape), 'k-+')\n",
    "grid(True)\n",
    "legend()\n",
    "title('Derivative of u and polynomial interpolant')\n",
    "print('Max absolute error in derivative = %g' % abs(pfine-ux_fine).max());"
   ]
  },
  {
   "cell_type": "markdown",
   "metadata": {},
   "source": [
    "With $N=4$ there is a noticable error but increasing to $N=5$ shows much better agreement and $N=18$ gives nearly full machine precision."
   ]
  },
  {
   "cell_type": "markdown",
   "metadata": {},
   "source": [
    "### Another test:\n",
    "\n",
    "Here's a more oscillatory function where a few more points are needed for good accuracy."
   ]
  },
  {
   "cell_type": "code",
   "execution_count": null,
   "metadata": {},
   "outputs": [],
   "source": [
    "u_fcn = lambda x: (x-0.5)*sin(10*x)\n",
    "ux_fcn = lambda x: sin(10*x) + 10*(x-0.5)*cos(10*x)"
   ]
  },
  {
   "cell_type": "code",
   "execution_count": null,
   "metadata": {},
   "outputs": [],
   "source": [
    "N = 40\n",
    "x = cos(linspace(0, pi, N+1))\n",
    "c = poly_interp_chebyshev(u_fcn, x)\n",
    "\n",
    "B = empty((len(xfine),N+1))\n",
    "\n",
    "# evaluate sum c_n * Tx_n(x) at xfine points:\n",
    "\n",
    "for k in range(N+1):\n",
    "    B[:,k] = Tx(k,xfine)\n",
    "pfine = dot(B,c)\n",
    "\n",
    "# true u'(x) at xfine points:\n",
    "ux_fine = ux_fcn(xfine)\n",
    "\n",
    "figure(figsize=(10,6))\n",
    "plot(xfine, ux_fine, 'b', label=\"u'(x)\")\n",
    "plot(xfine, pfine, 'r', label=\"p'(x)\")\n",
    "plot(x, ux_fcn(x), 'bo')\n",
    "plot(x, zeros(x.shape), 'k-+')\n",
    "grid(True)\n",
    "legend()\n",
    "title('Derivative of u and polynomial interpolant')\n",
    "print('Max absolute error in derivative = %g' % abs(pfine-ux_fine).max());"
   ]
  },
  {
   "cell_type": "markdown",
   "metadata": {},
   "source": [
    "Increasing $N$ to around 40 gives error around $10^{-12}$."
   ]
  },
  {
   "cell_type": "code",
   "execution_count": null,
   "metadata": {},
   "outputs": [],
   "source": []
  }
 ],
 "metadata": {
  "kernelspec": {
   "display_name": "Python 3",
   "language": "python",
   "name": "python3"
  },
  "language_info": {
   "codemirror_mode": {
    "name": "ipython",
    "version": 3
   },
   "file_extension": ".py",
   "mimetype": "text/x-python",
   "name": "python",
   "nbconvert_exporter": "python",
   "pygments_lexer": "ipython3",
   "version": "3.6.7"
  }
 },
 "nbformat": 4,
 "nbformat_minor": 2
}
