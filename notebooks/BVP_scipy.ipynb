{
 "cells": [
  {
   "cell_type": "markdown",
   "metadata": {},
   "source": [
    "# Using the BVP solver in scipy \n",
    "\n",
    "[AMath 585, Winter Quarter 2020](http://staff.washington.edu/rjl/classes/am585w2020/) at the University of Washington. Developed by R.J. LeVeque and distributed under the [BSD license](https://github.com/rjleveque/amath585w2020/blob/master/LICENSE).  You are free to modify and use as you please, with attribution.\n",
    "\n",
    "These notebooks are all [available on Github](https://github.com/rjleveque/amath585w2020/).\n",
    "\n",
    "-----\n",
    "\n",
    "\n",
    "It is valuable to understand how to go about setting up a BVP solver yourself in order to understand the various issues that arise, and the ways that things might go wrong.  But for many real problems the best way to actually solve it is to use high-quality software that has been designed by experts and that has features such as adaptive choice of grids built in.\n",
    "\n",
    "This notebook briefly illustrates how to use the [`scipy.integrate.solve_bvp`](https://docs.scipy.org/doc/scipy-0.18.1/reference/generated/scipy.integrate.solve_bvp.html), which uses a [collocation method](https://en.wikipedia.org/wiki/Collocation_method) and adaptively chooses the grid nodes based on a specified initial grid.\n",
    "\n",
    "The collocation method used does not return approximate solution values at a set of points (as the finite difference method does).  Instead it returns a representation of a cubic sline, a piecewise cubic function that is a cubic polynomial on each interval between *nodes*.  A spline has the property that it is continuous and also has continuous first and second derivatives at each node, and hence is quite smooth.  To plot the solution you have to evaluate this function at a set of points.\n",
    "\n",
    "### Specifying the BVP\n",
    "\n",
    "The `solve_bvp` function is written in a way that it can be used to solve BVPs with arbitrary order derivatives, e.g. both $u''(x) = f(x)$ and $u''''(x) = f(x)$ (and much more complicated nonlinear problems).  It does so by actually solving a *system* of ODEs of the form\n",
    "$$\n",
    "y'(x) = f(x,y)\n",
    "$$\n",
    "where $y(x)$ is a vector with $n$ components.  As described at the start of Chapter 5 in the textbook, a higher-order scalar equation can generally be rewritten as a first-order system.\n",
    "\n",
    "For example, for $u''(x) = f(x)$, let $y_0(x) = u(x)$ and $y_1(x) = u'(x)$.  Then the system of equations is\n",
    "\\begin{align*}\n",
    "y_0'(x) &= y_1(x),\\\\\n",
    "y_1'(x) &= f(x).\n",
    "\\end{align*}\n",
    "If the original problem had Dirichlet boundary conditions $u(a)=\\alpha$, $u(b)=\\beta$ then the system has boundary conditions\n",
    "\\begin{align*}\n",
    "y_0(a) &= \\alpha,\\\\\n",
    "y_0(b) &= \\beta.\n",
    "\\end{align*}\n",
    "A Neumann boundary condition $u'(a) = \\alpha_1$ could be expressed as $y_1(a) = \\alpha_1$ in place of the first equation above.\n",
    "\n",
    "The `solve_bvp` function has one argument that is the function `f` and another argument that is a function `bc` that takes two n-vectors `ya, yb` as input and returns $n$ values that should be zero, e.g. `ya[0]-alpha` and `yb[0]-beta` for the Dirichlet case in this second-order ($n=2$) equation.  You also have to specify the initial set of nodes (the first and last of which are the end points of the interval), and an initial guess for the solution values at these nodes.  The software will adjust the nodes to try to achieve some estimated error.\n",
    "\n",
    "There are many other optional arguments that can be specified, see the [documentation](https://docs.scipy.org/doc/scipy-0.18.1/reference/generated/scipy.integrate.solve_bvp.html).\n"
   ]
  },
  {
   "cell_type": "code",
   "execution_count": null,
   "metadata": {
    "collapsed": false
   },
   "outputs": [],
   "source": [
    "%matplotlib inline"
   ]
  },
  {
   "cell_type": "code",
   "execution_count": null,
   "metadata": {
    "collapsed": false
   },
   "outputs": [],
   "source": [
    "from pylab import *"
   ]
  },
  {
   "cell_type": "code",
   "execution_count": null,
   "metadata": {
    "collapsed": false
   },
   "outputs": [],
   "source": [
    "from scipy.integrate import solve_bvp\n",
    "from scipy.interpolate import interp1d  # used for continuation"
   ]
  },
  {
   "cell_type": "markdown",
   "metadata": {},
   "source": [
    "## Beam equation\n",
    "\n",
    "First let's solve $u''''(x) = f(x)$ as in Homework 2, with \n",
    "$$\n",
    "u(0)=\\alpha_0,\\quad u'(0)=\\alpha_1,\\quad u(L)=\\beta_0,\\quad u'(L)=\\beta_1.\n",
    "$$\n",
    "\n",
    "In this case we introduce \n",
    "$$\n",
    "y_0(x) = u(x), \\quad y_1(x) = u'(x), \\quad y_2(x) = u''(x), \\quad y_3(x) = u'''(x),\n",
    "$$\n",
    "and the system of ODEs is then\n",
    "\\begin{align*}\n",
    "y_0'(x) &= y_1(x),\\\\\n",
    "y_1'(x) &= y_2(x),\\\\\n",
    "y_2'(x) &= y_3(x),\\\\\n",
    "y_3'(x) &= f(x).\n",
    "\\end{align*}"
   ]
  },
  {
   "cell_type": "code",
   "execution_count": null,
   "metadata": {
    "collapsed": false
   },
   "outputs": [],
   "source": [
    "L = 5.\n",
    "gamma = -0.01\n",
    "ax = 0.\n",
    "bx = L\n",
    "alpha0 = 0.\n",
    "alpha1 = 0.\n",
    "beta0 = 0\n",
    "beta1 = 0\n",
    "\n",
    "def f(x,y):\n",
    "    fval = zeros(y.shape)\n",
    "    fval[0,:] = y[1,:]       # y0' = y1\n",
    "    fval[1,:] = y[2,:]       # y1' = y2\n",
    "    fval[2,:] = y[3,:]       # y2' = y3\n",
    "    fval[3,:] = gamma        # y3' = gamma\n",
    "    return fval\n",
    "\n",
    "def bc(ya, yb):\n",
    "    bcval = array([ya[0]-alpha0,\n",
    "                   ya[1]-alpha1,\n",
    "                   yb[0]-beta0,\n",
    "                   yb[1]-beta1])\n",
    "    return bcval"
   ]
  },
  {
   "cell_type": "markdown",
   "metadata": {},
   "source": [
    "Choose an initial set of only 10 nodes and initial guess that is identically zero:"
   ]
  },
  {
   "cell_type": "code",
   "execution_count": null,
   "metadata": {
    "scrolled": false
   },
   "outputs": [],
   "source": [
    "x_initial = linspace(ax, bx, 10)\n",
    "y_initial = zeros((4,len(x_initial)))\n",
    "\n",
    "bvp_output = solve_bvp(f, bc, x_initial, y_initial,\n",
    "                       max_nodes=1000, tol=1e-3)\n",
    "\n",
    "print('niter = ', bvp_output.niter)\n",
    "print('status = ', bvp_output.status)\n",
    "print('message = ', bvp_output.message)\n",
    "if not bvp_output.success:\n",
    "    print('*** Warning, did not succeed!')"
   ]
  },
  {
   "cell_type": "markdown",
   "metadata": {},
   "source": [
    "Note that it says convergence was obtained in 1 iteration.  For a general nonlinear problem a \"damped Newton\" method is used and for this linear problem it converges in 1 iteration from any initial guess."
   ]
  },
  {
   "cell_type": "markdown",
   "metadata": {},
   "source": [
    "### Evaluating the solution\n",
    "\n",
    "Note that `bvp_output.sol` is the solution, as a function that could be evaluated at any point in the interval:"
   ]
  },
  {
   "cell_type": "code",
   "execution_count": null,
   "metadata": {},
   "outputs": [],
   "source": [
    "bvp_output.sol"
   ]
  },
  {
   "cell_type": "code",
   "execution_count": null,
   "metadata": {},
   "outputs": [],
   "source": [
    "bvp_output.sol(2.5)"
   ]
  },
  {
   "cell_type": "markdown",
   "metadata": {},
   "source": [
    "The first component of this is the approximation to $y_0(2.5) = u(2.5)$.  \n",
    "Note that at this point, the midpoint of the interval, the first and third derivatives are close to zero. "
   ]
  },
  {
   "cell_type": "markdown",
   "metadata": {},
   "source": [
    "### Plotting the solution\n",
    "\n",
    "If there are lots of nodes you could simply evaluate the function at these nodes and plot the resulting points. But recall the `plot` function connects points with linear segments, so in this case we get something that looks piecewise linear:"
   ]
  },
  {
   "cell_type": "code",
   "execution_count": null,
   "metadata": {
    "scrolled": false
   },
   "outputs": [],
   "source": [
    "x = bvp_output.x\n",
    "y = bvp_output.sol(x)  # evaluate the sol function returned at the x points\n",
    "u = y[0,:]  # select the y_0 = u component\n",
    "plot(x, u, 'rx-')\n",
    "title('Solution returned with %i nodes' % len(x));"
   ]
  },
  {
   "cell_type": "markdown",
   "metadata": {},
   "source": [
    "This might not look very accurate, but here we have only plotted the solution at the 10 nodes in the solution returned.  If we evaluate the function returned on a finer grid we see that it agrees well with the expected exact solution:"
   ]
  },
  {
   "cell_type": "code",
   "execution_count": null,
   "metadata": {},
   "outputs": [],
   "source": [
    "utrue = lambda x: gamma/24. * (x**4 - 2*L * x**3 + L**2 * x**2)\n",
    "xfine = linspace(ax, bx, 101)\n",
    "\n",
    "figure(figsize=(12,6))\n",
    "plot(x, u, 'r+', markersize=10, label='nodes') # plot nodes\n",
    "\n",
    "# evaluate the numerical solution on the xfine grid:\n",
    "y = bvp_output.sol(xfine)\n",
    "ufine = y[0,:]  # select the y_0 = u component\n",
    "plot(xfine, ufine, 'r-', linewidth=2, label='numerical')\n",
    "\n",
    "# plot the true solution on the xfine grid:\n",
    "plot(xfine, utrue(xfine), 'b--', label='exact')\n",
    "legend()\n",
    "\n",
    "# compute the max error at these xfine points:\n",
    "err = abs(ufine - utrue(xfine)).max()\n",
    "print('Maximum error on fine grid is %g' % err)"
   ]
  },
  {
   "cell_type": "markdown",
   "metadata": {},
   "source": [
    "### Cantilever beam\n",
    "\n",
    "We can easily change the boundary conditions to model a cantilever beam, that is rigidly supported at the left boundary but unsupported at the right (e.g. a beam supporting a balcony sticking out from a building).  In this case the proper BCs at the free boundary are $u''(L) = u'''(L) = 0$, which become $y_2(L)=y_3(L)=0$ in the system."
   ]
  },
  {
   "cell_type": "code",
   "execution_count": null,
   "metadata": {},
   "outputs": [],
   "source": [
    "def bc(ya, yb):\n",
    "    bcval = array([ya[0]-alpha0,\n",
    "                   ya[1]-alpha1,\n",
    "                   yb[2],\n",
    "                   yb[3]])\n",
    "    return bcval\n",
    "\n",
    "x_initial = linspace(ax, bx, 10)\n",
    "y_initial = zeros((4,len(x_initial)))\n",
    "\n",
    "bvp_output = solve_bvp(f, bc, x_initial, y_initial,\n",
    "                       max_nodes=1000, tol=1e-3)\n",
    "\n",
    "print('niter = ', bvp_output.niter)\n",
    "print('status = ', bvp_output.status)\n",
    "print('message = ', bvp_output.message)\n",
    "if not bvp_output.success:\n",
    "    print('*** Warning, did not succeed!')"
   ]
  },
  {
   "cell_type": "code",
   "execution_count": null,
   "metadata": {},
   "outputs": [],
   "source": [
    "x = bvp_output.x\n",
    "y = bvp_output.sol(x)  # evaluate the sol function returned at the x points\n",
    "u = y[0,:]  # select the y_0 = u component\n",
    "plot(x, u, 'rx')\n",
    "# evaluate the numerical solution on the xfine grid:\n",
    "y = bvp_output.sol(xfine)\n",
    "ufine = y[0,:]  # select the y_0 = u component\n",
    "plot(xfine, ufine, 'r-', linewidth=2, label='numerical')\n",
    "title('Solution returned with %i nodes' % len(x));"
   ]
  },
  {
   "cell_type": "markdown",
   "metadata": {},
   "source": [
    "## Singular perturbation problem\n",
    "\n",
    "Solve the nonlinear BVP\n",
    "$$\n",
    "\\epsilon u''(x) + u(x)(u'(x) - 1) = f(x)\n",
    "$$\n",
    "with Dirichlet boundary conditions, in the case where $\\epsilon > 0$ is very small, the singular perturbation problem discussed in Section 2.17 of the textbook.\n",
    "\n",
    "First try a large `epsilon` for which the solution is smooth:"
   ]
  },
  {
   "cell_type": "code",
   "execution_count": null,
   "metadata": {
    "collapsed": false
   },
   "outputs": [],
   "source": [
    "ax = 0.; alpha = -1.;\n",
    "bx = 1.; beta = 1.5; \n",
    "epsilon = 0.1"
   ]
  },
  {
   "cell_type": "code",
   "execution_count": null,
   "metadata": {
    "collapsed": false
   },
   "outputs": [],
   "source": [
    "def f(x,y):\n",
    "    fval = zeros(y.shape)\n",
    "    fval[0,:] = y[1,:]                          # y0' = y1\n",
    "    fval[1,:] = -y[0,:]*(y[1,:] - 1) / epsilon  # y1' = -y0(y1-1)/epsilon\n",
    "    return fval\n",
    "\n",
    "def bc(ya, yb):\n",
    "    return array([ya[0]-alpha, yb[0]-beta])\n",
    "    "
   ]
  },
  {
   "cell_type": "code",
   "execution_count": null,
   "metadata": {},
   "outputs": [],
   "source": [
    "x_initial = linspace(ax, bx, 10)\n",
    "y0_initial = alpha + x_initial * (beta-alpha) / (bx-ax)\n",
    "y1_initial = (beta-alpha) / (bx-ax)  * ones(x_initial.shape)\n",
    "y_initial = vstack((y0_initial, y1_initial))\n",
    "\n",
    "bvp_output = solve_bvp(f, bc, x_initial, y_initial,\n",
    "                       max_nodes=10000, tol=1e-3)\n",
    "\n",
    "print('niter = ', bvp_output.niter)\n",
    "print('status = ', bvp_output.status)\n",
    "print('message = ', bvp_output.message)\n",
    "if not bvp_output.success:\n",
    "    print('*** Warning, did not succeed!')\n",
    "    \n",
    "x = bvp_output.x\n",
    "y = bvp_output.sol(x)\n",
    "u = y[0,:]\n",
    "plot(x, u, 'rx-')\n",
    "title('Solution returned with %i nodes' % len(x));"
   ]
  },
  {
   "cell_type": "code",
   "execution_count": null,
   "metadata": {},
   "outputs": [],
   "source": [
    "epsilon = 0.005\n",
    "def f(x,y):\n",
    "    fval = zeros(y.shape)\n",
    "    fval[0,:] = y[1,:]                          # y0' = y1\n",
    "    fval[1,:] = -y[0,:]*(y[1,:] - 1) / epsilon  # y1' = -y0(y1-1)/epsilon\n",
    "    return fval\n",
    "\n",
    "    \n",
    "x_initial = linspace(ax, bx, 500)\n",
    "y0_initial = alpha + x_initial * (beta-alpha) / (bx-ax)\n",
    "y1_initial = (beta-alpha) / (bx-ax)  * ones(x_initial.shape)\n",
    "y_initial = vstack((y0_initial, y1_initial))\n",
    "\n",
    "bvp_output = solve_bvp(f, bc, x_initial, y_initial,\n",
    "                       max_nodes=10000, tol=1e-3)\n",
    "\n",
    "print('niter = ', bvp_output.niter)\n",
    "print('status = ', bvp_output.status)\n",
    "print('message = ', bvp_output.message)\n",
    "if not bvp_output.success:\n",
    "    print('*** Warning, did not succeed!')"
   ]
  },
  {
   "cell_type": "code",
   "execution_count": null,
   "metadata": {},
   "outputs": [],
   "source": [
    "x = bvp_output.x\n",
    "y = bvp_output.sol(x)\n",
    "u = y[0,:]\n",
    "plot(x, u, 'rx-')\n",
    "title('Solution returned with %i nodes' % len(x));"
   ]
  },
  {
   "cell_type": "markdown",
   "metadata": {},
   "source": [
    "Note that in this case it refined the grid substantially.  Mostly it added small cells near the interior layer, as we can see by plotting the cell widths:"
   ]
  },
  {
   "cell_type": "code",
   "execution_count": null,
   "metadata": {},
   "outputs": [],
   "source": [
    "dx0 = x_initial[1] - x_initial[0]\n",
    "print('Initial interval length: %g' % dx0)\n",
    "dx = diff(x)\n",
    "xmid = 0.5*(x[1:] + x[:-1])\n",
    "plot(xmid, dx, 'b')\n",
    "title('Final interval lengths');"
   ]
  },
  {
   "cell_type": "markdown",
   "metadata": {},
   "source": [
    "## Convergence failure\n",
    "\n",
    "Newton's method can fail to converge if the initial guess isn't good enough, or doesn't have enough nodes:"
   ]
  },
  {
   "cell_type": "code",
   "execution_count": null,
   "metadata": {},
   "outputs": [],
   "source": [
    "epsilon = 0.005\n",
    "def f(x,y):\n",
    "    fval = zeros(y.shape)\n",
    "    fval[0,:] = y[1,:]                          # y0' = y1\n",
    "    fval[1,:] = -y[0,:]*(y[1,:] - 1) / epsilon  # y1' = -y0(y1-1)/epsilon\n",
    "    return fval\n",
    "\n",
    "    \n",
    "x_initial = linspace(ax, bx, 100)\n",
    "y0_initial = alpha + x_initial * (beta-alpha) / (bx-ax)\n",
    "y1_initial = (beta-alpha) / (bx-ax)  * ones(x_initial.shape)\n",
    "y_initial = vstack((y0_initial, y1_initial))\n",
    "\n",
    "bvp_output = solve_bvp(f, bc, x_initial, y_initial,\n",
    "                       max_nodes=10000, tol=1e-3)\n",
    "\n",
    "print('niter = ', bvp_output.niter)\n",
    "print('status = ', bvp_output.status)\n",
    "print('message = ', bvp_output.message)\n",
    "if not bvp_output.success:\n",
    "    print('*** Warning, did not succeed!')"
   ]
  },
  {
   "cell_type": "code",
   "execution_count": null,
   "metadata": {},
   "outputs": [],
   "source": [
    "x = bvp_output.x\n",
    "y = bvp_output.sol(x)\n",
    "u = y[0,:]\n",
    "plot(x, u, 'rx-')\n",
    "title('Solution returned with %i nodes' % len(x));"
   ]
  },
  {
   "cell_type": "markdown",
   "metadata": {},
   "source": [
    "### A better initial guess\n",
    "\n",
    "Rather than choosing an initial guess that's just linear, for this problem we know roughly what the solution looks like.  Start with a discontinuity at the correct location:"
   ]
  },
  {
   "cell_type": "code",
   "execution_count": null,
   "metadata": {},
   "outputs": [],
   "source": [
    "x_initial = linspace(ax, bx, 200)\n",
    "y0_initial = where(x_initial<0.25, x_initial-1., x_initial+0.5)\n",
    "y1_initial = ones(x_initial.shape)\n",
    "y_initial = vstack((y0_initial, y1_initial))\n",
    "\n",
    "plot(x_initial, y0_initial, 'bx-')\n",
    "title('Initial guess')"
   ]
  },
  {
   "cell_type": "code",
   "execution_count": null,
   "metadata": {},
   "outputs": [],
   "source": [
    "bvp_output = solve_bvp(f, bc, x_initial, y_initial,\n",
    "                       max_nodes=10000, tol=1e-3)\n",
    "\n",
    "print('niter = ', bvp_output.niter)\n",
    "print('status = ', bvp_output.status)\n",
    "print('message = ', bvp_output.message)\n",
    "if not bvp_output.success:\n",
    "    print('*** Warning, did not succeed!')"
   ]
  },
  {
   "cell_type": "code",
   "execution_count": null,
   "metadata": {},
   "outputs": [],
   "source": [
    "x = bvp_output.x\n",
    "y = bvp_output.sol(x)\n",
    "u = y[0,:]\n",
    "plot(x, u, 'rx-')\n",
    "title('Solution returned with %i nodes' % len(x));"
   ]
  },
  {
   "cell_type": "code",
   "execution_count": null,
   "metadata": {},
   "outputs": [],
   "source": [
    "dx0 = x_initial[1] - x_initial[0]\n",
    "print('Initial interval length: %g' % dx0)\n",
    "dx = diff(x)\n",
    "xmid = 0.5*(x[1:] + x[:-1])\n",
    "plot(xmid, dx, 'b')\n",
    "title('Final interval lengths');"
   ]
  },
  {
   "cell_type": "markdown",
   "metadata": {},
   "source": [
    "Note that there are many small intervals near $x=0.25$, clearer if we plot `dx` vs. index `i` rather than vs. `x[i]`:"
   ]
  },
  {
   "cell_type": "code",
   "execution_count": null,
   "metadata": {},
   "outputs": [],
   "source": [
    "plot(dx, 'b')\n",
    "title('Final interval lengths vs. index');"
   ]
  },
  {
   "cell_type": "code",
   "execution_count": null,
   "metadata": {
    "collapsed": false
   },
   "outputs": [],
   "source": []
  }
 ],
 "metadata": {
  "kernelspec": {
   "display_name": "Python 3",
   "language": "python",
   "name": "python3"
  },
  "language_info": {
   "codemirror_mode": {
    "name": "ipython",
    "version": 3
   },
   "file_extension": ".py",
   "mimetype": "text/x-python",
   "name": "python",
   "nbconvert_exporter": "python",
   "pygments_lexer": "ipython3",
   "version": "3.6.7"
  }
 },
 "nbformat": 4,
 "nbformat_minor": 2
}
