{
 "cells": [
  {
   "cell_type": "markdown",
   "metadata": {},
   "source": [
    "# Chebyshev polynomials on the unit circle\n",
    "\n",
    "[AMath 585, Winter Quarter 2020](http://staff.washington.edu/rjl/classes/am585w2020/) at the University of Washington. Developed by R.J. LeVeque and distributed under the [BSD license](https://github.com/rjleveque/amath585w2020/blob/master/LICENSE).  You are free to modify and use as you please, with attribution.\n",
    "\n",
    "These notebooks are all [available on Github](https://github.com/rjleveque/amath585w2020/).\n",
    "\n",
    "-------\n",
    "\n",
    "This notebook illustrates the relation between Fourier modes on the unit circle and Chebyshev polynomials.\n",
    "\n",
    "If running interactively, change the first cell to \n",
    "\n",
    "    %matplotlib notebook\n",
    "    \n",
    "so that you can rotate the 3D plots."
   ]
  },
  {
   "cell_type": "code",
   "execution_count": null,
   "metadata": {},
   "outputs": [],
   "source": [
    "%matplotlib inline"
   ]
  },
  {
   "cell_type": "code",
   "execution_count": null,
   "metadata": {},
   "outputs": [],
   "source": [
    "from pylab import *\n",
    "from mpl_toolkits.mplot3d import Axes3D"
   ]
  },
  {
   "cell_type": "code",
   "execution_count": null,
   "metadata": {},
   "outputs": [],
   "source": [
    "k = 15  # wave number.  Try 1, 2\n",
    "\n",
    "fig = plt.figure()\n",
    "ax = fig.add_subplot(111, projection='3d')\n",
    "theta = linspace(0, 2*pi, 1000)\n",
    "x = cos(theta)\n",
    "y = sin(theta)\n",
    "z = cos(k*theta)\n",
    "ax.plot(x,y,z,'b')\n",
    "ax.plot(x,y,0*z,'k')  # plot unit circle\n",
    "\n",
    "ax.set_xlabel('x')\n",
    "ax.set_ylabel('y')\n",
    "ax.set_zlabel('z')\n",
    "\n",
    "draw()"
   ]
  },
  {
   "cell_type": "markdown",
   "metadata": {},
   "source": [
    "If you run this notebook you should be able to rotate the figure above.  If you view it in the $x$-$z$ plane, you get the figure below.\n",
    "\n",
    "## Chebyshev polynomial\n",
    "\n",
    "Plotting $z = \\cos(k \\theta)$ as a function of $x = \\cos(\\theta)$ gives the Chebyshev polynomial $T_k(x)$:"
   ]
  },
  {
   "cell_type": "code",
   "execution_count": null,
   "metadata": {
    "scrolled": false
   },
   "outputs": [],
   "source": [
    "figure(figsize=(8,4))\n",
    "plot(x,z)\n",
    "plot([-1,1],[0,0],'k');"
   ]
  },
  {
   "cell_type": "code",
   "execution_count": null,
   "metadata": {},
   "outputs": [],
   "source": [
    "xfine = linspace(-1.1, 1.1, 1000)\n",
    "Tnm = ones(xfine.shape)\n",
    "Tn = xfine\n",
    "for n in range(2,k+1):\n",
    "    Tnp = 2*xfine*Tn - Tnm\n",
    "    Tnm = Tn.copy()\n",
    "    Tn = Tnp.copy()\n",
    "    \n",
    "figure(figsize=(8,4))\n",
    "plot(xfine,Tn,'r', label='T_k(x)')\n",
    "plot(x,z,'b--', label='cos(k arcos(x))')\n",
    "grid(True)\n",
    "legend(loc='lower right')\n",
    "title('Chebyshev polynomial grows rapidly outside [-1,1]')\n",
    "\n",
    "figure(figsize=(8,4))\n",
    "plot(xfine,Tn,'r', label='T_k(x)')\n",
    "plot(x,z,'b--', label='cos(k arcos(x))')\n",
    "ylim(-2,2)\n",
    "grid(True)\n",
    "legend(loc='lower right')\n",
    "title('Zooming in')\n"
   ]
  },
  {
   "cell_type": "markdown",
   "metadata": {},
   "source": [
    "# Aliasing\n",
    "\n",
    "Because of the relation between Chebyshev polynomials and Fourier modes on the unit circle, aliasing takes place as described in Theorem 4.1 of Trefethen's [Approximation Theory and Approximation Practice](https://my.siam.org/Store/Product/viewproduct/?ProductId=31254869) and illustrated below."
   ]
  },
  {
   "cell_type": "code",
   "execution_count": null,
   "metadata": {},
   "outputs": [],
   "source": [
    "n = 7   # Use Chebyshev grid with n+1 points\n",
    "         \n",
    "k = 17  # Start with T_k\n",
    "m = abs(mod(k+n-1,2*n) - (n-1))  # aliased to T_m\n",
    "\n",
    "# Fine grid for plotting polynomials:\n",
    "theta = linspace(0, pi, 500)\n",
    "x = cos(theta)\n",
    "Tk = cos(k*theta)\n",
    "Tm = cos(m*theta)\n",
    "         \n",
    "# Grid points:\n",
    "theta_j = linspace(0, pi, n+1)\n",
    "xj = cos(theta_j)\n",
    "Tk_j = cos(k*theta_j)\n",
    "\n",
    "plt.figure()\n",
    "plt.plot(x,Tk,'b')\n",
    "plt.plot(xj, Tk_j, 'bo')\n",
    "plt.plot(x,Tm,'r')\n",
    "\n",
    "plt.title(\"The Chebyshev polynomial T_{%s} gets aliased to T_{%s}\" % (k,m))\n"
   ]
  },
  {
   "cell_type": "markdown",
   "metadata": {},
   "source": [
    "### On the unit circle\n",
    "\n",
    "Note that each Chebyshev point in the interval (with the exception of the endpoints) maps to two points on the unit circle.  Below only one of these points is plotted."
   ]
  },
  {
   "cell_type": "code",
   "execution_count": null,
   "metadata": {},
   "outputs": [],
   "source": [
    "fig = plt.figure()\n",
    "ax = fig.add_subplot(111, projection='3d')\n",
    "theta = linspace(0, 2*pi, 1000)\n",
    "x = cos(theta)\n",
    "y = sin(theta)\n",
    "Tk = cos(k*theta)\n",
    "Tm = cos(m*theta)\n",
    "ax.plot(x,y,Tm,'b')\n",
    "ax.plot(x,y,Tk,'r')\n",
    "ax.plot(x,y,0*Tm,'k')  # plot unit circle\n",
    "\n",
    "theta_j = linspace(0, pi, n+1)\n",
    "xj = cos(theta_j)\n",
    "yj = sin(theta_j)\n",
    "Tk_j = cos(k*theta_j)\n",
    "ax.plot(xj, yj, Tk_j, 'bo')\n",
    "\n",
    "ax.set_xlabel('x')\n",
    "ax.set_ylabel('y')\n",
    "ax.set_zlabel('z')\n",
    "\n",
    "plt.draw()"
   ]
  },
  {
   "cell_type": "markdown",
   "metadata": {
    "collapsed": false
   },
   "source": [
    "## Fourier Aliasing\n",
    "\n",
    "Aliasing occurs when a high frequency Fourier component is evaluated on a grid that is too coarse to represent it, and agrees with a lower frequency Fourier mode on the grid.\n",
    "\n",
    "If we have a grid with $N$ nodes $x_j = 2\\pi j/N$ (and suppose $N$ is even), then the highest wavenumber that can be represented by a Fourier mode of the form $e^{ikx}$ on this grid is $k = \\pm N/2$.  This is the \"sawtooth\" mode since $e^{i(\\pm N/2)x_j} = e^{\\pm i\\pi j} = \\left(e^{\\pm i\\pi}\\right)^j = (-1)^j$. \n",
    "\n",
    "If $k_1$ and $k_2$ differ by an integer multiple of $N$, then the two are indistinguishable on a grid of $N$ points, since $k_2 = k_1 + mN$ implies that $e^{ik_2x_j} = e^{ik_1x_j + imNjh} = e^{ik_1x_j} \\left(e^{2\\pi i}\\right)^m = e^{ik_1x_j}$.\n",
    "\n",
    "The code below illustrates this for $\\sin(k_2 x)$, the imaginary part of the complex exponential (see also Figure 2.1 in [Spectral Methods in Matlab](https://my.siam.org/Store/Product/viewproduct/?ProductId=1186))."
   ]
  },
  {
   "cell_type": "code",
   "execution_count": null,
   "metadata": {},
   "outputs": [],
   "source": [
    "N = 10\n",
    "h = 2*pi/N\n",
    "x = linspace(h, 2*pi, N)\n",
    "x_fine = linspace(0, 2*pi, 1000)\n",
    "\n",
    "def alias_plot(k1):\n",
    "    # assumes k1 > 0\n",
    "    k2 = mod(k1, N)\n",
    "    if k2>N/2: \n",
    "        k2 = k2-N\n",
    "    figure(figsize=(8,4))\n",
    "    plot(x_fine, sin(k1*x_fine),'b')\n",
    "    plot(x, sin(k1*x), 'bo')\n",
    "    plot(x_fine, sin(k2*x_fine), 'r')\n",
    "    xlim(0, 2*pi)\n",
    "    title('sin(%s x) (blue) and sin(%s x) (red)' % (k1,k2))\n",
    "    "
   ]
  },
  {
   "cell_type": "code",
   "execution_count": null,
   "metadata": {},
   "outputs": [],
   "source": [
    "alias_plot(19)"
   ]
  },
  {
   "cell_type": "code",
   "execution_count": null,
   "metadata": {},
   "outputs": [],
   "source": []
  }
 ],
 "metadata": {
  "kernelspec": {
   "display_name": "Python 2",
   "language": "python",
   "name": "python2"
  },
  "language_info": {
   "codemirror_mode": {
    "name": "ipython",
    "version": 3
   },
   "file_extension": ".py",
   "mimetype": "text/x-python",
   "name": "python",
   "nbconvert_exporter": "python",
   "pygments_lexer": "ipython3",
   "version": "3.6.7"
  }
 },
 "nbformat": 4,
 "nbformat_minor": 1
}
