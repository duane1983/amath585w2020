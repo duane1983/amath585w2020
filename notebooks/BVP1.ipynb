{
 "cells": [
  {
   "cell_type": "markdown",
   "metadata": {},
   "source": [
    "# BVP1 - Example of solving a 2-point boundary value problem\n",
    "\n",
    "[AMath 585, Winter Quarter 2020](http://staff.washington.edu/rjl/classes/am585w2020/) at the University of Washington. Developed by R.J. LeVeque and distributed under the [BSD license](https://github.com/rjleveque/amath585w2020/blob/master/LICENSE).  You are free to modify and use as you please, with attribution.\n",
    "\n",
    "These notebooks are all [available on Github](https://github.com/rjleveque/amath585w2020/).\n",
    "\n",
    "----\n",
    "\n",
    "In this notebook we set up and solve a simple two-point boundary value problem $u''(x) = f(x)$ on an interval $a \\leq x \\leq b$.  The centered second-order accurate finite difference is used, leading to a tridiagonal system of equations. \n",
    "\n",
    "The generation of a *manufactured solution* and a test of convergence are also included."
   ]
  },
  {
   "cell_type": "code",
   "execution_count": null,
   "metadata": {
    "collapsed": false
   },
   "outputs": [],
   "source": [
    "%matplotlib inline"
   ]
  },
  {
   "cell_type": "code",
   "execution_count": null,
   "metadata": {
    "collapsed": false
   },
   "outputs": [],
   "source": [
    "from pylab import *"
   ]
  },
  {
   "cell_type": "code",
   "execution_count": null,
   "metadata": {},
   "outputs": [],
   "source": [
    "def solve_bvp1(f, ainfo, binfo, m):\n",
    "    \"\"\"\n",
    "    Solve the 2-point BVP with Dirichlet BCs\n",
    "    Input:\n",
    "        f is a function defining the right hand side,\n",
    "        ainfo = (ax, alpha) defines the Dirichlet boundary condition u(ax) = alpha,\n",
    "        binfo = (bx, beta) defines the Dirichlet boundary condition u(bx) = beta,\n",
    "        m is the number of (equally spaced) interior grid points to use.\n",
    "    \n",
    "    Returns:\n",
    "        x = array of grid points (including boundaries, so of length m+2)\n",
    "        u = array of approximate solution at these points.\n",
    "    \"\"\"\n",
    "    from scipy import sparse\n",
    "    from scipy.sparse.linalg import spsolve\n",
    "    \n",
    "    ax, alpha = ainfo\n",
    "    bx, beta = binfo\n",
    "    \n",
    "    h = (bx-ax)/float(m+1)    # h = delta x\n",
    "    x = linspace(ax,bx,m+2)   # note x[0]=ax, x[m+1]=bx\n",
    "    \n",
    "    # set up m by m matrix A:\n",
    "    # note that sparse.diags is analogous to the matlab spdiags function\n",
    "    em = ones(m)\n",
    "    em1 = ones(m-1)\n",
    "    A = sparse.diags([em1, -2*em, em1], [-1, 0, 1], shape=(m,m))\n",
    "    A = A / h**2\n",
    "\n",
    "    # right hand side:\n",
    "    b = f(x)\n",
    "    b[1] = b[1] - alpha / h**2\n",
    "    b[m] = b[m] - beta / h**2\n",
    "    rhs = b[1:-1]   # interior points\n",
    "    \n",
    "    # solve system for m interior points:\n",
    "    uint = spsolve(A, rhs)\n",
    "    \n",
    "    # augment with boundary values to form u of length m+2:\n",
    "    u = hstack([alpha, uint, beta])\n",
    "    \n",
    "    return x,u\n"
   ]
  },
  {
   "cell_type": "code",
   "execution_count": null,
   "metadata": {
    "collapsed": false
   },
   "outputs": [],
   "source": [
    "f = lambda x: 12*x**2\n",
    "ax = 0.; alpha = 3.; ainfo = (ax, alpha)\n",
    "bx = 1.; beta = 2.;   binfo = (bx, beta)\n",
    "utrue = lambda x: x**4 + 3. - 2*x"
   ]
  },
  {
   "cell_type": "code",
   "execution_count": null,
   "metadata": {},
   "outputs": [],
   "source": [
    "xfine = linspace(ax, bx, 1001)\n",
    "ufine = utrue(xfine)\n",
    "plot(xfine, ufine, 'b')"
   ]
  },
  {
   "cell_type": "code",
   "execution_count": null,
   "metadata": {},
   "outputs": [],
   "source": [
    "m = 9\n",
    "x,u = solve_bvp1(f, ainfo, binfo, m)\n",
    "\n",
    "figure(figsize=(12,6))\n",
    "h = (bx - ax) / (m+1)\n",
    "subplot(121)\n",
    "plot(xfine, ufine, 'b')\n",
    "plot(x, u, 'rx')\n",
    "grid(True)\n",
    "title('Solution with h = %.3e' % h)\n",
    "\n",
    "subplot(122)\n",
    "E = u - utrue(x)\n",
    "plot(x, E, 'rx-')\n",
    "ylim(-0.003, 0.003)\n",
    "grid(True)\n",
    "Emax = abs(E).max()\n",
    "title('Maximum Error = %.3e' % Emax)"
   ]
  },
  {
   "cell_type": "markdown",
   "metadata": {},
   "source": [
    "### Warnings:\n",
    "\n",
    "The warning printed out by scipy can be ignored.  We used `sparse.diags` to define the sparse matrix and later we will talk about *compressed sparse row* (CSR) or *column* (CSC) storage.  The following cell can be used to suppress printing the warning everytime we call the `solve_bvp1` function:"
   ]
  },
  {
   "cell_type": "code",
   "execution_count": null,
   "metadata": {
    "collapsed": false
   },
   "outputs": [],
   "source": [
    "import logging\n",
    "logging.captureWarnings(True)"
   ]
  },
  {
   "cell_type": "markdown",
   "metadata": {},
   "source": [
    "## Manufactured solution\n",
    "\n",
    "For the simple ODE $u''(x) = f(x)$ one can easily solve the equation for reasonable choices of $f(x)$, so it is relatively easy to generate exact solutions to use as test problems.  For many differential equations this is not the case, in particular for most equations for which you need to develop a numerical method.  \n",
    "\n",
    "The method of \"manufactured solutions\" is an approach to generate test problems. In the case of our simple problem it consists of first choosing $u(x)$ and the interval on which we want the this function to be the solution, and then computing $f(x)$ and the boundary conditions so that it is the solution.  We will see more interesting cases later.\n",
    "\n",
    "As an example, suppose we want to test the `solve_bvp` function on a problem with a more oscillatory solution.  We might choose $u(x) = x\\sin(\\pi x)$ on $2.5 \\leq x \\leq 10$ as our target solution.  Then we can easily compute that\n",
    "$$\n",
    "f(x) = 2\\pi\\cos(\\pi x) - x\\pi^2\\sin(\\pi x)\n",
    "$$\n",
    "and $u(2.5) = 2.5, ~u(10) = 0$.  This is our test problem."
   ]
  },
  {
   "cell_type": "code",
   "execution_count": null,
   "metadata": {
    "collapsed": false
   },
   "outputs": [],
   "source": [
    "utrue = lambda x: x*sin(pi*x)\n",
    "f = lambda x: 2*pi*cos(pi*x) - x*pi**2 * sin(pi*x)\n",
    "ax = 2.5; alpha = utrue(ax); ainfo = (ax, alpha)\n",
    "bx = 10.; beta = utrue(bx);   binfo = (bx, beta)"
   ]
  },
  {
   "cell_type": "code",
   "execution_count": null,
   "metadata": {},
   "outputs": [],
   "source": [
    "xfine = linspace(ax, bx, 1001)\n",
    "ufine = utrue(xfine)\n",
    "plot(xfine, ufine, 'b')"
   ]
  },
  {
   "cell_type": "markdown",
   "metadata": {},
   "source": [
    "We need more grid points to get a decent solution than with the previous problem.  Try `m=99` and the error should go down by roughly a factor of 4."
   ]
  },
  {
   "cell_type": "code",
   "execution_count": null,
   "metadata": {},
   "outputs": [],
   "source": [
    "m = 49\n",
    "x,u = solve_bvp1(f, ainfo, binfo, m)\n",
    "\n",
    "figure(figsize=(12,6))\n",
    "h = (bx - ax) / (m+1)\n",
    "subplot(121)\n",
    "plot(xfine, ufine, 'b')\n",
    "plot(x, u, 'rx')\n",
    "grid(True)\n",
    "title('Solution with h = %.3e' % h)\n",
    "\n",
    "subplot(122)\n",
    "E = u - utrue(x)\n",
    "plot(x, E, 'rx-')\n",
    "ylim(-0.2, 0.2)\n",
    "grid(True)\n",
    "Emax = abs(E).max()\n",
    "title('Maximum Error = %.3e' % Emax)"
   ]
  },
  {
   "cell_type": "markdown",
   "metadata": {},
   "source": [
    "Note that the error has a similar shape to the solution, and is roughly proportional to the fourth derivative of the solution, due to the form of the local truncation error."
   ]
  },
  {
   "cell_type": "markdown",
   "metadata": {},
   "source": [
    "## Test the order of accuracy\n",
    "\n",
    "Solve the problem for several different grid resolutions.  Since $h = (b-a)/(m+1)$ we choose values of $m+1$, first increasing by a factor of 2 for each test and then some much larger values increasing by factors of 10 to illustrate that second-order accuracy is seen until rounding errors become noticeable.  Note that solving a tridiagonal system is extremely quick so even with 1,000,000 grid points the BVP is solved very quickly in 1 dimension."
   ]
  },
  {
   "cell_type": "code",
   "execution_count": null,
   "metadata": {},
   "outputs": [],
   "source": [
    "# values of m+1:\n",
    "mp1_vals = array([50, 100, 200, 400, 1000, 10000, 100000, 1000000])\n",
    "h_vals = (bx - ax) / mp1_vals   # correspoinding h values\n",
    "\n",
    "errors = []\n",
    "print('\\n    h                 error ')\n",
    "for jtest in range(len(mp1_vals)):\n",
    "    m = mp1_vals[jtest] - 1\n",
    "    h = h_vals[jtest]\n",
    "    x,u = solve_bvp1(f, ainfo, binfo, m)\n",
    "    \n",
    "    x_true = linspace(ax, bx, m+2)\n",
    "    u_true = utrue(x_true)\n",
    "    error_max = abs(u - u_true).max()\n",
    "    errors.append(error_max)\n",
    "    print('%10.8f   %20.16f' % (h,error_max))\n"
   ]
  },
  {
   "cell_type": "markdown",
   "metadata": {},
   "source": [
    "You can easily observe in some entries of the table above that decreasing h by a factor of 10 decreases the error by a factor of 100, though not in the last row where rounding errors are affecting the solution.\n",
    "\n",
    "Below we make a log-log plot of these errors, and also show a \"reference line\" of slope 2.  We expect the errors to have this slope for a second-order accurate method.  The constant $C$ in the error expression $Ch^2 + {\\cal O}(h^4)$ will depend on higher order derivatives of the true solution (giving a bound on the local truncation error) and on bounds for the norm of the inverse of the tridiagonal matrix (coming from the relation between local and global errors)."
   ]
  },
  {
   "cell_type": "code",
   "execution_count": null,
   "metadata": {},
   "outputs": [],
   "source": [
    "loglog(h_vals, errors, 'bx-', label='Observed errors')\n",
    "grid(True)\n",
    "xlabel('h = Delta x')\n",
    "ylabel('max norm of error')\n",
    "\n",
    "eref = h_vals**2\n",
    "loglog(h_vals, eref, 'r-', label='Reference line of slope 2')\n",
    "legend(loc='lower right')"
   ]
  },
  {
   "cell_type": "code",
   "execution_count": null,
   "metadata": {
    "collapsed": false
   },
   "outputs": [],
   "source": []
  }
 ],
 "metadata": {
  "kernelspec": {
   "display_name": "Python 3",
   "language": "python",
   "name": "python3"
  },
  "language_info": {
   "codemirror_mode": {
    "name": "ipython",
    "version": 3
   },
   "file_extension": ".py",
   "mimetype": "text/x-python",
   "name": "python",
   "nbconvert_exporter": "python",
   "pygments_lexer": "ipython3",
   "version": "3.6.7"
  }
 },
 "nbformat": 4,
 "nbformat_minor": 2
}
