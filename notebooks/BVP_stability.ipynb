{
 "cells": [
  {
   "cell_type": "markdown",
   "metadata": {},
   "source": [
    "# BVP stability\n",
    "\n",
    "[AMath 585, Winter Quarter 2020](http://staff.washington.edu/rjl/classes/am585w2020/) at the University of Washington. Developed by R.J. LeVeque and distributed under the [BSD license](https://github.com/rjleveque/amath585w2020/blob/master/LICENSE).  You are free to modify and use as you please, with attribution.\n",
    "\n",
    "These notebooks are all [available on Github](https://github.com/rjleveque/amath585w2020/).\n",
    "\n",
    "-----\n",
    "\n",
    "Compute the inverse of tridiagonal matrices (augmented by boundary conditions) coming from the BVP $u''(x) = f(x)$."
   ]
  },
  {
   "cell_type": "code",
   "execution_count": null,
   "metadata": {
    "collapsed": false
   },
   "outputs": [],
   "source": [
    "%matplotlib inline"
   ]
  },
  {
   "cell_type": "code",
   "execution_count": null,
   "metadata": {
    "collapsed": false
   },
   "outputs": [],
   "source": [
    "from pylab import *"
   ]
  },
  {
   "cell_type": "code",
   "execution_count": null,
   "metadata": {
    "collapsed": false
   },
   "outputs": [],
   "source": [
    "from scipy.sparse import diags\n",
    "\n",
    "# import a module with a new local name for brevity:\n",
    "import scipy.sparse.linalg as sp_linalg"
   ]
  },
  {
   "cell_type": "markdown",
   "metadata": {},
   "source": [
    "Suppress warnings coming from adding new nonzeros in a crc matrix:"
   ]
  },
  {
   "cell_type": "code",
   "execution_count": null,
   "metadata": {
    "collapsed": false
   },
   "outputs": [],
   "source": [
    "import logging\n",
    "logging.captureWarnings(True)"
   ]
  },
  {
   "cell_type": "markdown",
   "metadata": {},
   "source": [
    "## Set up the matrix\n",
    "\n",
    "We will investigate the matrix given in equation (2.43) of the textbook for Dirichlet boundary conditions.  This uses the formulation where the standard tridiagonal matrix is augmented by two additional rows for $U_0$ and $U_{m+1}$ that correspond to the equations $U_0 = \\alpha$ and $U_1 = \\beta$.\n",
    "\n",
    "We will also consider the matrix given at the top of page 32, which is similar but implements a Neumann boundary condition with a second-order accurate one-sided approximation to $u''(x_0)$.\n",
    "\n",
    "**NOTE:** The equation at the bottom of page 31 should have $-\\sigma$ on the right hand side, and the matrix at the top of page 32 is incorrect.  The first row should correspond to the corrected equation from p. 31.  The correct version is:"
   ]
  },
  {
   "cell_type": "markdown",
   "metadata": {},
   "source": [
    "\\begin{align*}\n",
    "\\frac{1}{h^2} \n",
    "\\left[\n",
    "\\begin{array}{ccccccccccccccc}\n",
    "-3h/2 & 2h & -h/2\\\\\n",
    "1&-2&1\\\\\n",
    "&1&-2&1\\\\\n",
    "&&&\\ddots\\\\\n",
    "&&&&1&-2&1\\\\\n",
    "&&&&&0&h^2\n",
    "\\end{array}\n",
    "\\right]\n",
    "~\n",
    "\\left[  \n",
    "\\begin{array}{ccccccccccccccc}\n",
    "U_0 \\\\ U_1 \\\\ U_2 \\\\ \\vdots \\\\ U_m \\\\ U_{m+1}\n",
    "\\end{array} \n",
    "\\right]\n",
    "= \\left[  \n",
    "\\begin{array}{ccccccccccccccc}\n",
    "\\sigma \\\\ f(x_1) \\\\ f(x_2) \\\\ \\vdots \\\\ f(x_m) \\\\ \\beta\n",
    "\\end{array} \n",
    "\\right]\n",
    "\\end{align*}\n",
    "\n",
    "Note that the first equation in this system approximates $u'(x_0) = \\sigma$ with a second-order one-sided difference, and the last equation is simply the Dirichlet BC $u(x_{m+1}) = \\beta$."
   ]
  },
  {
   "cell_type": "markdown",
   "metadata": {},
   "source": [
    "The function below creates such a matrix, and also prints out some information about it, including the norm of the inverse. The `bc` parameter controls whether the left boundary is Dirchlet or Neumann.  In the Dirichlet case the first row is simpler, with only one nonzero."
   ]
  },
  {
   "cell_type": "code",
   "execution_count": null,
   "metadata": {
    "collapsed": false
   },
   "outputs": [],
   "source": [
    "ax = 0.\n",
    "bx = 1.\n",
    "def test_A(m, bc='dirichlet'):\n",
    "    h = (bx-ax) / (m+1)\n",
    "    em = ones(m+2)\n",
    "    em1 = ones(m+1)\n",
    "    A = diags([em1, -2*em, em1], [-1, 0, 1], format='csc')\n",
    "\n",
    "    # fix the first row:\n",
    "    if bc=='dirichlet':\n",
    "        A[0,0] = h**2\n",
    "        A[0,1] = 0.\n",
    "    elif bc=='neumann':\n",
    "        A[0,0] = -3*h/2.\n",
    "        A[0,1] = 2*h\n",
    "        A[0,2] = -h/2.  # adding a new nonzero\n",
    "    else:\n",
    "        raise ValueError('Unrecognized bc: %s' % bc)\n",
    "    \n",
    "    # fix the last row:\n",
    "    A[m+1,m] = 0.\n",
    "    A[m+1,m+1] = h**2\n",
    "    \n",
    "    A = A / h**2\n",
    "    \n",
    "    print('m = ', m)\n",
    "    print('A has type %s, of shape %s' % (type(A), A.shape))\n",
    "        \n",
    "    Ainv = sp_linalg.inv(A)\n",
    "    normAinv = sp_linalg.norm(Ainv,inf)\n",
    "    print('Infinity norm of Ainv = %g' % normAinv)\n",
    "    \n",
    "    return A\n",
    "    "
   ]
  },
  {
   "cell_type": "markdown",
   "metadata": {},
   "source": [
    "## Dirichlet boundary conditions\n",
    "\n",
    "Here's what the matrix looks like for a small value of $m$:"
   ]
  },
  {
   "cell_type": "code",
   "execution_count": null,
   "metadata": {},
   "outputs": [],
   "source": [
    "A = test_A(5, 'dirichlet')\n",
    "print(A.toarray())"
   ]
  },
  {
   "cell_type": "markdown",
   "metadata": {},
   "source": [
    "Note that the max-norm of $A^{-1}$ is 1.125.  For stability we hope this is uniformly bounded as we increase $m$ (and decrease $h$).  In fact we see it is constant:"
   ]
  },
  {
   "cell_type": "code",
   "execution_count": null,
   "metadata": {},
   "outputs": [],
   "source": [
    "A = test_A(99, 'dirichlet')\n",
    "A = test_A(199, 'dirichlet')"
   ]
  },
  {
   "cell_type": "markdown",
   "metadata": {},
   "source": [
    "### Plot the columns of $A^{-1}$\n",
    "\n",
    "Rather than printing out $A^{-1}$, it is more illuminating to plot the values in each column vs. the row index.\n",
    "\n",
    "From the discussion of Section 2.11 you should know what values to expect for the interior columns of $A^{-1}$  (see Figure 2.1 in the book).  The first and last column are plotted separately below since they are scaled differently.  Think about what these columns represent in terms of the way we have included the boundary conditions into the matrix formulation."
   ]
  },
  {
   "cell_type": "code",
   "execution_count": null,
   "metadata": {},
   "outputs": [],
   "source": [
    "m = 5\n",
    "x = linspace(ax,bx,m+2)\n",
    "A = test_A(m, bc='dirichlet')\n",
    "Ainv = sp_linalg.inv(A).toarray()\n",
    "\n",
    "figure(figsize=(12,5))\n",
    "subplot(1,2,1)\n",
    "for j in range(1,m+1):\n",
    "    plot(Ainv[:,j], 'o-', label='column %i' % j)\n",
    "legend()\n",
    "xlabel('row index')\n",
    "ylabel('Ainv value')\n",
    "    \n",
    "subplot(1,2,2)\n",
    "plot(Ainv[:,0], 'o-', label='column 0')\n",
    "plot(Ainv[:,m+1], 'o-', label='column %i' % (m+1))\n",
    "legend()\n",
    "xlabel('row index')"
   ]
  },
  {
   "cell_type": "markdown",
   "metadata": {},
   "source": [
    "## Neumann boundary conditions\n",
    "\n",
    "Repeat these tests with Neumman conditions:"
   ]
  },
  {
   "cell_type": "code",
   "execution_count": null,
   "metadata": {},
   "outputs": [],
   "source": [
    "A = test_A(5, 'neumann')\n",
    "print(A.toarray())"
   ]
  },
  {
   "cell_type": "markdown",
   "metadata": {},
   "source": [
    "Note that again the max-norm of $A^{-1}$ stays constant as we increase $m$:"
   ]
  },
  {
   "cell_type": "code",
   "execution_count": null,
   "metadata": {},
   "outputs": [],
   "source": [
    "A = test_A(99, bc='neumann')\n",
    "A = test_A(199, bc='neumann')"
   ]
  },
  {
   "cell_type": "markdown",
   "metadata": {},
   "source": [
    "### Plot the columns of $A^{-1}$\n",
    "\n",
    "Think about why these columns have the form they do."
   ]
  },
  {
   "cell_type": "code",
   "execution_count": null,
   "metadata": {},
   "outputs": [],
   "source": [
    "m = 5\n",
    "x = linspace(ax,bx,m+2)\n",
    "A = test_A(m, bc='neumann')\n",
    "Ainv = sp_linalg.inv(A).toarray()\n",
    "\n",
    "figure(figsize=(12,5))\n",
    "subplot(1,2,1)\n",
    "for j in range(1,m+1):\n",
    "    plot(Ainv[:,j], 'o-', label='column %i' % j)\n",
    "legend()\n",
    "xlabel('row index')\n",
    "ylabel('Ainv value')\n",
    "    \n",
    "subplot(1,2,2)\n",
    "plot(Ainv[:,0], 'o-', label='column 0')\n",
    "plot(Ainv[:,m+1], 'o-', label='column %i' % (m+1))\n",
    "legend()\n",
    "xlabel('row index')"
   ]
  },
  {
   "cell_type": "code",
   "execution_count": null,
   "metadata": {
    "collapsed": false
   },
   "outputs": [],
   "source": []
  }
 ],
 "metadata": {
  "kernelspec": {
   "display_name": "Python 3",
   "language": "python",
   "name": "python3"
  },
  "language_info": {
   "codemirror_mode": {
    "name": "ipython",
    "version": 3
   },
   "file_extension": ".py",
   "mimetype": "text/x-python",
   "name": "python",
   "nbconvert_exporter": "python",
   "pygments_lexer": "ipython3",
   "version": "3.6.7"
  }
 },
 "nbformat": 4,
 "nbformat_minor": 2
}
