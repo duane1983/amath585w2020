{
 "cells": [
  {
   "cell_type": "markdown",
   "metadata": {},
   "source": [
    "# AMath 585 Notebooks\n",
    "\n",
    "[AMath 585, Winter Quarter 2020](http://staff.washington.edu/rjl/classes/am585w2020/) at the University of Washington. Developed by R.J. LeVeque and distributed under the [BSD license](https://github.com/rjleveque/amath585w2020/blob/master/LICENSE).  You are free to modify and use as you please, with attribution.\n",
    "\n",
    "These notebooks are all [available on Github](https://github.com/rjleveque/amath585w2020/).\n"
   ]
  },
  {
   "cell_type": "markdown",
   "metadata": {},
   "source": [
    "## Introductory notebooks\n",
    "\n",
    " - [Demo1.ipynb](Demo1.ipynb)\n",
    " - [Debugging_hints.ipynb](Debugging_hints.ipynb)\n",
    " - [Numpy_array_hints.ipynb](Numpy_array_hints.ipynb) Some notes on indexing and slicing, and mutable objects\n",
    " \n",
    "## Finite difference approximations\n",
    "\n",
    " - [fdstencil.ipynb](fdstencil.ipynb) Computing finite difference coefficients\n",
    " - [fdstencil_errors.ipynb](fdstencil_errors.ipynb) Testing two approximations to $u''(\\bar x)$\n",
    " \n",
    "## 2-point boundary values problems\n",
    "\n",
    " - [Banded.ipynb](Banded.ipynb) Tips on working with banded matrices\n",
    " - [BVP_stability.ipynb](BVP_stability.ipynb) Compute banded matrices for $u''(x)=f(x)$ and investigate inverse matrix and max-norm stability.\n",
    " - [BVP1.ipynb](BVP1.ipynb) Solve $u''(x) = f(x)$ with Dirichlet BCs and test on a manufactured solution\n",
    " - [BVP_nonlinear.ipynb](BVP_nonlinear.ipynb) Solve $\\epsilon u''(x) + u(x)(u'(x) - 1) = f(x)$ using Newton iteration\n",
    " - [BVP_layer.ipynb](BVP_layer.ipynb) Solve $\\epsilon u''(x) + u(x)(u'(x) - 1) = f(x)$ in the singularly perturbed case\n",
    " - [BVP_scipy.ipynb](BVP_scipy.ipynb) Illustrate use of [`scipy.integrate.solve_bvp`](https://docs.scipy.org/doc/scipy-0.18.1/reference/generated/scipy.integrate.solve_bvp.html)\n",
    " \n",
    "## Function space methods\n",
    "\n",
    " - [FourierSpectral.ipynb](FourierSpectral.ipynb) Introduction to Discrete Fourier Transform and use in solving a BVP with periodic boundary conditions.\n",
    " - [ChebPolyOnCircle.ipynb](ChebPolyOnCircle.ipynb) Illustrates the relation between Chebyshev polynomials and Fourier series, with some discussion of aliasing in both cases.\n",
    " - [ChebyshevSpectral.ipynb](ChebyshevSpectral.ipynb) Illustrates Chebyshev interpolation and using to to obtain a spectrally accurate approximation to a derivative."
   ]
  },
  {
   "cell_type": "markdown",
   "metadata": {},
   "source": [
    "## Sparse matrix solvers\n",
    "\n",
    " - [Grids2D.ipynb](Grids2D.ipynb) Defining and plotting functions on a 2D grid.\n",
    " - [LaplacianMatrix.ipynb](LaplacianMatrix.ipynb) Converting 2D grid functions to vectors,creating 5-point Laplacian matrix using Kronecker products.\n",
    " - [IterativeMethods.ipynb](IterativeMethods.ipynb) Illustrates the classic matrix spitting methods: Jacobi, Gauss-Seidel, and SOR."
   ]
  }
 ],
 "metadata": {
  "kernelspec": {
   "display_name": "Python 3",
   "language": "python",
   "name": "python3"
  },
  "language_info": {
   "codemirror_mode": {
    "name": "ipython",
    "version": 3
   },
   "file_extension": ".py",
   "mimetype": "text/x-python",
   "name": "python",
   "nbconvert_exporter": "python",
   "pygments_lexer": "ipython3",
   "version": "3.6.7"
  }
 },
 "nbformat": 4,
 "nbformat_minor": 2
}
