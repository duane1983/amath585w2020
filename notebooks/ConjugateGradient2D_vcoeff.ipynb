{
 "cells": [
  {
   "cell_type": "markdown",
   "metadata": {},
   "source": [
    "# Conjugate-Gradient Method in 2D with variable coefficients\n",
    "\n",
    "[AMath 585, Winter Quarter 2020](http://staff.washington.edu/rjl/classes/am585w2020/) at the University of Washington. Developed by R.J. LeVeque and distributed under the [BSD license](https://github.com/rjleveque/amath585w2020/blob/master/LICENSE).  You are free to modify and use as you please, with attribution.\n",
    "\n",
    "These notebooks are all [available on Github](https://github.com/rjleveque/amath585w2020/).\n",
    "\n",
    "-----\n",
    "\n",
    "This notebook illustrates an implmentation of the Conjugate-Gradient method on a two-dimensional Poisson problem.\n",
    "\n",
    "We solve the elliptic equation $(\\kappa u_x)_x + (\\kappa u_y)_y = f(x,y)$ where $\\kappa(x,y)$ is a specified function satisfying $\\kappa(x,y) > 0$ at all points in the domain.\n",
    "\n",
    "We use Dirichlet boundary conditions and the method of manufactured solutions to choose a problem where the truncation error is zero so that the exact solution of the linear system is the solution of the PDE evaluated at the grid points.\n",
    "\n",
    "Note that this notebook is set up to solve a particular problem on an `mx` by `my` grid with things hardwired.  If you want to change `kappa`, `f` (and the true solution) and/or the grid resolution or domain, make sure to re-execute all cells below where these are defined."
   ]
  },
  {
   "cell_type": "code",
   "execution_count": null,
   "metadata": {},
   "outputs": [],
   "source": [
    "%matplotlib inline"
   ]
  },
  {
   "cell_type": "code",
   "execution_count": null,
   "metadata": {},
   "outputs": [],
   "source": [
    "from pylab import *"
   ]
  },
  {
   "cell_type": "markdown",
   "metadata": {},
   "source": [
    "### Animating the iteration\n",
    "\n",
    "To use widgets, set `use_widgets = True`. For javascript animation, set it to `False`."
   ]
  },
  {
   "cell_type": "code",
   "execution_count": null,
   "metadata": {},
   "outputs": [],
   "source": [
    "use_widgets = True\n",
    "\n",
    "if use_widgets:\n",
    "    from ipywidgets import interact\n",
    "    import ipywidgets as widgets\n",
    "\n",
    "    def animate_figs(figs):\n",
    "        show_frame = lambda frameno: display(figs[frameno])\n",
    "        interact(show_frame, frameno=widgets.IntSlider(min=0,max=len(figs)-1, value=0))\n",
    "else:\n",
    "    from jsanimate_figs import animate_figs"
   ]
  },
  {
   "cell_type": "code",
   "execution_count": null,
   "metadata": {},
   "outputs": [],
   "source": [
    "def inner_product(V,W):\n",
    "    \"\"\"\n",
    "    Given two grid functions V and W on an mx by my grid. \n",
    "    Return their inner product when viewed as vectors of unknowns\n",
    "    \"\"\"\n",
    "    return sum(V*W)"
   ]
  },
  {
   "cell_type": "markdown",
   "metadata": {},
   "source": [
    "## Define the domain, grid, and true solution"
   ]
  },
  {
   "cell_type": "code",
   "execution_count": null,
   "metadata": {},
   "outputs": [],
   "source": [
    "ax = 0.\n",
    "bx = 2.\n",
    "mx = 19\n",
    "dx = (bx-ax)/(mx+1.)\n",
    "x_full = linspace(0,2,mx+2)\n",
    "\n",
    "ay = 0.\n",
    "by = 1.\n",
    "my = 9\n",
    "dy = (by-ay)/(my+1.)\n",
    "y_full = linspace(0,1,my+2)\n",
    "\n",
    "X_full, Y_full = meshgrid(x_full, y_full, indexing='ij')\n",
    "X = X_full[1:-1, 1:-1]\n",
    "Y = Y_full[1:-1, 1:-1]"
   ]
  },
  {
   "cell_type": "markdown",
   "metadata": {},
   "source": [
    "## Define kappa and the true solution\n",
    "\n",
    "Recall we need $\\kappa(x,y) >0$ everywhere in order for the PDE to be elliptic and well-posed.  Here we take a simple function $\\kappa(x,y) = 1 + x + y$.  We also use the same exact solution $u(x,y) = x^2 + y^2 -3$ as in [ConjugateGradient2D.ipynb](ConjugateGradient2D.ipynb) and you can check that the truncation error is identically zero again, for this variable coefficient problem, so we expect the exact solution of the linear system to agree with the exact solution of the PDE at the grid points.\n",
    "\n",
    "We now calculate $(\\kappa u_x)_x + (\\kappa u_y)_y = 6(x+y) + 4$ so this is the right hand side function $f(x,y)$ we should use in order to have the desired solution."
   ]
  },
  {
   "cell_type": "code",
   "execution_count": null,
   "metadata": {},
   "outputs": [],
   "source": [
    "kappa = lambda X,Y: 1 + X + Y\n",
    "utrue_fcn = lambda X,Y: X**2 + Y**2 - 3.\n",
    "f_fcn = lambda X,Y: 6*(X + Y) + 4\n",
    "\n",
    "Utrue_full = utrue_fcn(X_full, Y_full)\n",
    "Utrue = Utrue_full[1:-1, 1:-1]"
   ]
  },
  {
   "cell_type": "markdown",
   "metadata": {},
   "source": [
    "## A function to plot the approximate and true solution\n",
    "\n",
    "As in [ConjugateGradient2D.ipynb](ConjugateGradient2D.ipynb)."
   ]
  },
  {
   "cell_type": "code",
   "execution_count": null,
   "metadata": {},
   "outputs": [],
   "source": [
    "def make_plot(U,k,rnorm,enorm):\n",
    "    levels = linspace(-4,4,17)\n",
    "    cmap = get_cmap('bwr')  # blue-white-red\n",
    "    vmin = -4; vmax = 4 # symmetric so white is in center\n",
    "    fig = figure(figsize=(10,6))\n",
    "    subplot(2,1,1)\n",
    "    U_full = Utrue_full.copy()\n",
    "    U_full[1:-1, 1:-1] = U\n",
    "    contourf(X_full,Y_full,U_full,levels,\n",
    "             cmap=cmap,vmin=vmin,vmax=vmax)\n",
    "    axis('scaled')\n",
    "    colorbar(shrink=0.8)\n",
    "    contour(X_full,Y_full,Utrue_full,levels,colors='k')\n",
    "    title('iteration %3i:   2-norm(r) = %.2e,   max-norm(E) = %.2e\\n' \\\n",
    "          % (k,rnorm,enorm) \\\n",
    "          + 'Approximate solution and contours of true solution')\n",
    "\n",
    "    subplot(2,1,2)\n",
    "    contourf(X_full,Y_full,Utrue_full,levels,\n",
    "             cmap=cmap,vmin=vmin,vmax=vmax)\n",
    "    axis('scaled')\n",
    "    colorbar(shrink=0.8)\n",
    "    contour(X_full,Y_full,Utrue_full,levels,colors='k')\n",
    "    title('True solution')\n",
    "    tight_layout()  # make room for titles on subplots\n",
    "    close(fig)\n",
    "    return fig"
   ]
  },
  {
   "cell_type": "markdown",
   "metadata": {},
   "source": [
    "## Define kappa function and evaluate at midpoints\n",
    "\n",
    "The difference stencil is chosen so that the resulting matrix $A$ is symmetric, as discussed in section 2.15 of the text in 1D.  This can be extended to 2D by using it separately for the $(\\kappa u_x)_x$ and $(\\kappa u_y)_y$ terms, and so the $(i,j)$ element of the grid function representing $Au$ is:\n",
    "\n",
    "\\begin{align*}\n",
    "\\frac{1}{\\Delta x^2} \\left(\\kappa_{i+1/2,j}(U_{i+1,j} - U_{i,j}) - \\kappa_{i-1/2,j}(U_{ij} - U_{i-1,j})\\right) \\\\\n",
    "+\n",
    "\\frac{1}{\\Delta y^2} \\left(\\kappa_{i,j+1/2}(U_{i,j+1} - U_{i,j}) - \\kappa_{i,j-1/2}(U_{ij} - U_{i,j-1})\\right)\n",
    "\\end{align*}\n",
    "\n",
    "To clarify the implementation we define 4 different arrays below with, for example, `kappa_imh_j` holding values $\\kappa_{i-1/2,j} = \\kappa(x_i - \\Delta x/2, y_j)$ and \n",
    "`kappa_iph_j` holding values $\\kappa_{i+1/2,j} = \\kappa(x_i + \\Delta x/2, y_j)$.  These two arrays hold mostly the same values, except shifted and with values included near one $x$ boundary and not the other.  So for a large problem when trying to minimize storage and computation time, a single slightly larger array could hold all these values.   But here we opt for clarity."
   ]
  },
  {
   "cell_type": "code",
   "execution_count": null,
   "metadata": {},
   "outputs": [],
   "source": [
    "X_imh_j = X - dx/2.\n",
    "Y_imh_j = Y\n",
    "kappa_imh_j = kappa(X_imh_j, Y_imh_j)\n",
    "\n",
    "X_iph_j = X + dx/2.\n",
    "Y_iph_j = Y\n",
    "kappa_iph_j = kappa(X_iph_j, Y_iph_j)\n",
    "\n",
    "X_i_jmh = X\n",
    "Y_i_jmh = Y - dy/2.\n",
    "kappa_i_jmh = kappa(X_i_jmh, Y_i_jmh)\n",
    "\n",
    "X_i_jph = X\n",
    "Y_i_jph = Y + dy/2.\n",
    "kappa_i_jph = kappa(X_i_jph, Y_i_jph)"
   ]
  },
  {
   "cell_type": "code",
   "execution_count": null,
   "metadata": {},
   "outputs": [],
   "source": [
    "def matvec(V):\n",
    "    \"\"\"\n",
    "    Given a grid function v on an mx by my grid. \n",
    "    Return b = A*v\n",
    "    \"\"\"\n",
    "   \n",
    "    # pad V with zeros around border, needed for computing centered differences:\n",
    "    V_full = zeros((mx+2, my+2))\n",
    "    V_full[1:-1, 1:-1] = V\n",
    "    \n",
    "    # set array B of shape (mx,my) at interior points (same shape as V) \n",
    "    # Note that slicing with [1:-1] corresponds to interior points,\n",
    "    # [:-2] correspond to points to the left (or below) and \n",
    "    # [2:] are points to the right (or above)\n",
    "    \n",
    "    B =   (kappa_iph_j*(V_full[2:, 1:-1] - V_full[1:-1, 1:-1]) \\\n",
    "         - kappa_imh_j*(V_full[1:-1, 1:-1] - V_full[:-2, 1:-1])) / dx**2 \\\n",
    "        + (kappa_i_jph*(V_full[1:-1, 2:] - V_full[1:-1, 1:-1]) \\\n",
    "         - kappa_i_jmh*(V_full[1:-1, 1:-1] - V_full[1:-1, :-2])) / dy**2\n",
    "                    \n",
    "    return B"
   ]
  },
  {
   "cell_type": "markdown",
   "metadata": {},
   "source": [
    "## The Conjugate-Gradient algorithm\n",
    "\n",
    "The next cell implements the C-G algorithm.  This is almost identical to the corresponding cell in [ConjugateGradient2D.ipynb](ConjugateGradient2D.ipynb), except for the way the Dirichlet boundary conditions are incorporated into the right hand side `F`, since the coefficient that multiplies these values in the new 5-point stencil for variable coefficients is no longer just `1/dx**2` or `1/dy**2` but now includes `kappa` values."
   ]
  },
  {
   "cell_type": "code",
   "execution_count": null,
   "metadata": {},
   "outputs": [],
   "source": [
    "maxiter = 100\n",
    "kplot = 10\n",
    "verbose = False\n",
    "tol = 1e-14  # stop if the residual falls below tol\n",
    "\n",
    "print('Solving on %i by %i grid with %i unknowns' \\\n",
    "      % (mx,my,mx*my))\n",
    "print('    using tol = %.2e with maxiter = %i' % (tol,maxiter))\n",
    "\n",
    "# right-hand side:\n",
    "F_full = f_fcn(X_full, Y_full)\n",
    "F = F_full[1:-1, 1:-1]  # at interior points\n",
    "\n",
    "# adjust for Dirichlet BCs:\n",
    "F[0,:] = F[0,:] - kappa_imh_j[0,:]*Utrue_full[0, 1:-1] / dx**2\n",
    "F[-1,:] = F[-1,:] - kappa_iph_j[-1,:]*Utrue_full[-1, 1:-1] / dx**2\n",
    "F[:,0] = F[:,0] - kappa_i_jmh[:,0]*Utrue_full[1:-1, 0] / dy**2\n",
    "F[:,-1] = F[:,-1] - kappa_i_jph[:,-1]*Utrue_full[1:-1, -1] / dy**2\n",
    "\n",
    "\n",
    "# initial guess:\n",
    "U0_full = 0*X_full\n",
    "U0 = U0_full[1:-1, 1:-1]  # interior points\n",
    "\n",
    "U = U0.copy() # current iterate\n",
    "r = F - matvec(U)  # initial residual\n",
    "p = r.copy()  # initial direction\n",
    "\n",
    "k = 0\n",
    "enorm = abs(U-Utrue).max()\n",
    "errors = [enorm]\n",
    "rTr_k = inner_product(r,r)\n",
    "rnorm = sqrt(rTr_k)\n",
    "\n",
    "if verbose:\n",
    "    print('iteration %3i:   2-norm(r) = %.2e,   max-norm(E) = %.2e' \\\n",
    "          % (k,rnorm,enorm))\n",
    "    \n",
    "figs = []  # for the list of figures we generate\n",
    "\n",
    "fig = make_plot(U,k,rnorm,enorm) # plot initial guess\n",
    "figs.append(fig)\n",
    "\n",
    "rTr_km = rTr_k  # in general will hold r^T * r at iteration k-1\n",
    "\n",
    "for k in range(1,maxiter+1):\n",
    "    w = matvec(p)   # the only matrix-vector multiply\n",
    "    a = rTr_km / inner_product(p,w)  # alpha_{k-1} in CG algorithm\n",
    "    U = U + a*p\n",
    "    r = r - a*w\n",
    "\n",
    "    enorm = abs(U-Utrue).max()\n",
    "    errors.append(enorm)\n",
    "    \n",
    "    rTr_k = inner_product(r,r)\n",
    "    rnorm = sqrt(rTr_k)\n",
    "\n",
    "    if mod(k,kplot)==0 or k==maxiter:\n",
    "        # every kplot iterations create a plot:\n",
    "        fig = make_plot(U,k,rnorm,enorm)\n",
    "        figs.append(fig)\n",
    "        \n",
    "    if verbose:\n",
    "        print('iteration %3i:   2-norm(r) = %.2e,   max-norm(E) = %.2e' \\\n",
    "              % (k,rnorm,enorm))\n",
    "    \n",
    "    # check for convergence:\n",
    "    if rnorm < tol:\n",
    "        print('Satisfied rnorm < tol after %i iterations' % k)\n",
    "        break\n",
    "        \n",
    "    # determine next search direction:\n",
    "    b = rTr_k / rTr_km   # beta_{k-1} in CG algorithm\n",
    "    rTr_km = rTr_k       # for next iteration\n",
    "    p = r + b*p           # next search direction\n",
    "\n",
    "print('Stopped after %i itereations with 2-norm(r) = %.2e' \\\n",
    "   % (k,rnorm))\n"
   ]
  },
  {
   "cell_type": "code",
   "execution_count": null,
   "metadata": {},
   "outputs": [],
   "source": [
    "semilogy(range(1,len(errors)+1), errors, 'b-x')\n",
    "grid(True)"
   ]
  },
  {
   "cell_type": "code",
   "execution_count": null,
   "metadata": {},
   "outputs": [],
   "source": [
    "animate_figs(figs)"
   ]
  },
  {
   "cell_type": "code",
   "execution_count": null,
   "metadata": {},
   "outputs": [],
   "source": []
  }
 ],
 "metadata": {
  "kernelspec": {
   "display_name": "Python 3",
   "language": "python",
   "name": "python3"
  },
  "language_info": {
   "codemirror_mode": {
    "name": "ipython",
    "version": 3
   },
   "file_extension": ".py",
   "mimetype": "text/x-python",
   "name": "python",
   "nbconvert_exporter": "python",
   "pygments_lexer": "ipython3",
   "version": "3.6.7"
  }
 },
 "nbformat": 4,
 "nbformat_minor": 2
}
