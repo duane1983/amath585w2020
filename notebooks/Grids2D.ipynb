{
 "cells": [
  {
   "cell_type": "markdown",
   "metadata": {},
   "source": [
    "# Grids in two space dimensions\n",
    "\n",
    "[AMath 585, Winter Quarter 2020](http://staff.washington.edu/rjl/classes/am585w2020/) at the University of Washington. Developed by R.J. LeVeque and distributed under the [BSD license](https://github.com/rjleveque/amath585w2020/blob/master/LICENSE).  You are free to modify and use as you please, with attribution.\n",
    "\n",
    "These notebooks are all [available on Github](https://github.com/rjleveque/amath585w2020/).\n",
    "\n",
    "-----\n",
    "\n",
    "This notebook illustrates how to define a function $u(x,y)$ on a two-dimensional grid, with some demos of different ways to plot such functions."
   ]
  },
  {
   "cell_type": "code",
   "execution_count": null,
   "metadata": {},
   "outputs": [],
   "source": [
    "%matplotlib inline"
   ]
  },
  {
   "cell_type": "code",
   "execution_count": null,
   "metadata": {},
   "outputs": [],
   "source": [
    "from pylab import *\n",
    "from scipy import sparse"
   ]
  },
  {
   "cell_type": "markdown",
   "metadata": {},
   "source": [
    "## Defining 2D grid functions\n",
    "\n",
    "In two space dimensions we will be approximating functions of $(x,y)$ by arrays with two indices so that $U_{ij} \\approx u(x_i, y_j)$.  So it is natural to define a 2D numpy array `U` so that `U[i,j] = ` $U_{ij}$.\n",
    "\n",
    "First suppose we have some function like $u(x,y) = x + 10y$ that we want to approximate on a grid with `mx=9` points in `x` on the interval $0\\leq x\\leq 1$ and `my=3` interior points in `y` on the interval $5\\leq y \\leq 6$.  Then we can do the following:"
   ]
  },
  {
   "cell_type": "code",
   "execution_count": null,
   "metadata": {},
   "outputs": [],
   "source": [
    "mx = 9\n",
    "x = linspace(0,1,mx+2)\n",
    "print('x = ',x)\n",
    "\n",
    "my = 3\n",
    "y = linspace(5,6,my+2)\n",
    "print('y = ',y)\n",
    "\n",
    "# turn into 2D arrays:\n",
    "X,Y = meshgrid(x,y,indexing='ij')\n",
    "\n",
    "print('X = \\n', X)\n",
    "print('Y = \\n', Y)\n",
    "print()"
   ]
  },
  {
   "cell_type": "markdown",
   "metadata": {},
   "source": [
    "Note that the arrays `X,Y` are defined so that `(X[i,j], Y[i,j]) = (x[i], y[j])` is the `(i,j)` grid point:"
   ]
  },
  {
   "cell_type": "code",
   "execution_count": null,
   "metadata": {},
   "outputs": [],
   "source": [
    "i = 2\n",
    "j = 1\n",
    "print('x[i] = ',x[i], '  y[j] = ', y[j])\n",
    "print('X[i,j] = ',X[i,j], '  Y[i,j] = ',Y[i,j])"
   ]
  },
  {
   "cell_type": "markdown",
   "metadata": {},
   "source": [
    "Having 2D arrays `X,Y` makes it easier to evaluate a function at all the grid points, e.g."
   ]
  },
  {
   "cell_type": "code",
   "execution_count": null,
   "metadata": {},
   "outputs": [],
   "source": [
    "U = X + 10*Y\n",
    "print('U = \\n', U)"
   ]
  },
  {
   "cell_type": "code",
   "execution_count": null,
   "metadata": {},
   "outputs": [],
   "source": [
    "i=5\n",
    "j=3\n",
    "print('x[i] = ',x[i], '  y[j] = ', y[j])\n",
    "print('U[i,j] = ', U[i,j])"
   ]
  },
  {
   "cell_type": "markdown",
   "metadata": {},
   "source": [
    "## Plotting the grid lines / points\n",
    "\n",
    "We can use the fact that `plot(X,Y)` plots each column of `X` against the corresponding column of `Y` to produce one set of grid lines, and then transpose the matrices to plot the others, e.g."
   ]
  },
  {
   "cell_type": "code",
   "execution_count": null,
   "metadata": {},
   "outputs": [],
   "source": [
    "figure(figsize=(12,4))\n",
    "\n",
    "subplot(1,3,1)\n",
    "plot(X,Y,'k')\n",
    "\n",
    "subplot(1,3,2)\n",
    "plot(X.T,Y.T,'k')\n",
    "\n",
    "subplot(1,3,3)\n",
    "plot(X,Y,'k')\n",
    "plot(X.T,Y.T,'k')\n",
    "\n",
    "# put red dots at the interior points:\n",
    "plot(X[1:-1,1:-1],Y[1:-1,1:-1],'ro');"
   ]
  },
  {
   "cell_type": "markdown",
   "metadata": {},
   "source": [
    "Make a little function to plot grids this way:\n",
    "\n",
    "We also use `axis('scaled')` so that squares turn out square (one unit in `x` is the same length as in `y`)."
   ]
  },
  {
   "cell_type": "code",
   "execution_count": null,
   "metadata": {},
   "outputs": [],
   "source": [
    "def plot_grid(X,Y):\n",
    "    plot(X,Y,'k')\n",
    "    plot(X.T,Y.T,'k')\n",
    "    #plot(X[1:-1,1:-1],Y[1:-1,1:-1],'ro') # for the red dots\n",
    "    axis('scaled')"
   ]
  },
  {
   "cell_type": "markdown",
   "metadata": {},
   "source": [
    "## Contour plots\n",
    "The [matplotlib contour](https://matplotlib.org/api/_as_gen/matplotlib.pyplot.contour.html) command can be used to make contour plots:"
   ]
  },
  {
   "cell_type": "code",
   "execution_count": null,
   "metadata": {},
   "outputs": [],
   "source": [
    "plot_grid(X,Y)\n",
    "contour(X,Y,U,range(50,62,1),colors='g');"
   ]
  },
  {
   "cell_type": "markdown",
   "metadata": {},
   "source": [
    "### Filled contours\n",
    "\n",
    "The [contourf](https://matplotlib.org/api/_as_gen/matplotlib.pyplot.contourf.html) command can be used to plot filled contours.  Here we use the default colormap:"
   ]
  },
  {
   "cell_type": "code",
   "execution_count": null,
   "metadata": {},
   "outputs": [],
   "source": [
    "plot_grid(X,Y)\n",
    "contourf(X,Y,U,range(50,63,2))\n",
    "colorbar()"
   ]
  },
  {
   "cell_type": "markdown",
   "metadata": {},
   "source": [
    "Many other colormaps are available or you can generate your own.  See in particular:\n",
    "- [Choosing colormaps in matplotlib](https://matplotlib.org/3.1.0/tutorials/colors/colormaps.html)\n",
    "- [Creating colormaps in matplotlib](https://matplotlib.org/3.1.0/tutorials/colors/colormap-manipulation.html)"
   ]
  },
  {
   "cell_type": "code",
   "execution_count": null,
   "metadata": {},
   "outputs": [],
   "source": [
    "cmap_cool=get_cmap('cool')  # uses function from matplotlib.pyplot"
   ]
  },
  {
   "cell_type": "code",
   "execution_count": null,
   "metadata": {},
   "outputs": [],
   "source": [
    "plot_grid(X,Y)\n",
    "contourf(X,Y,U,range(50,63,2), cmap=cmap_cool)\n",
    "colorbar();"
   ]
  },
  {
   "cell_type": "markdown",
   "metadata": {},
   "source": [
    "### Choice of colormaps\n",
    "\n",
    "For many years \"jet\" was the default colormap in Matlab and also Matplotlib, but this is known to be a poor choice for many reasons.  Depending on what you are trying to show, the choice of a good colormap can be critical.  See for example,\n",
    "- [How bad is your colormap?](https://jakevdp.github.io/blog/2014/10/16/how-bad-is-your-colormap/)\n",
    "- [A dangerous rainbow: Why colormaps matter](https://blogs.mathworks.com/headlines/2018/10/10/a-dangerous-rainbow-why-colormaps-matter/)"
   ]
  },
  {
   "cell_type": "code",
   "execution_count": null,
   "metadata": {},
   "outputs": [],
   "source": [
    "plot_grid(X,Y)\n",
    "contourf(X,Y,U,range(50,63,2), cmap=get_cmap('jet'))\n",
    "colorbar();\n",
    "title('With jet colormap');"
   ]
  },
  {
   "cell_type": "markdown",
   "metadata": {},
   "source": [
    "## pcolor plots\n",
    "\n",
    "The [pcolor](https://matplotlib.org/api/_as_gen/matplotlib.pyplot.pcolor.html) and [pcolormesh](https://matplotlib.org/api/_as_gen/matplotlib.pyplot.pcolormesh.html) functions are similar but the latter is more efficient if the grid is uniform. By default it gives uniform colors or patches defined by `X,Y`, but perhaps not what you expect to see. Although `X, Y, U` are all $11\\times 5$ arrays, `pcolor` gives a $10\\times 4$ array of patches, colored according to the value of `U` at the bottom left corner of a patch (see the documentation)."
   ]
  },
  {
   "cell_type": "code",
   "execution_count": null,
   "metadata": {},
   "outputs": [],
   "source": [
    "pcolormesh(X,Y,U,edgecolors='r')\n",
    "colorbar();"
   ]
  },
  {
   "cell_type": "markdown",
   "metadata": {},
   "source": [
    "With more work you can get `pcolormesh` to plot patches that are centered at the `X,Y` points. In particular, `X,Y` have to be one row and column larger than `U` in order to use all the data in `U`."
   ]
  },
  {
   "cell_type": "code",
   "execution_count": null,
   "metadata": {},
   "outputs": [],
   "source": [
    "dx = x[1] - x[0]\n",
    "dy = y[1] - y[0]\n",
    "mx = len(x) - 2\n",
    "my = len(y) - 2\n",
    "xcells = linspace(x[0]-dx/2, x[-1]+dx/2, mx+3)\n",
    "ycells = linspace(y[0]-dy/2, y[-1]+dy/2, my+3)\n",
    "Xcells,Ycells = meshgrid(xcells,ycells,indexing='ij')\n",
    "pcolor(Xcells,Ycells,U,edgecolors='r')\n",
    "plot(X,Y,'ro')\n",
    "#axis('scaled')\n",
    "\n",
    "# plot a white box around the actual domain,\n",
    "# assuming `X,Y` points lie on boundary:\n",
    "plot([x[0],x[-1],x[-1],x[0],x[0]],  [y[0],y[0],y[-1],y[-1],y[0]], 'w');\n",
    "\n",
    "# restrict plot to interior points if desired:\n",
    "#xlim(x[0],x[-1])\n",
    "#ylim(y[0],y[-1])\n",
    "\n",
    "print('Xcells.shape = ', Xcells.shape)\n",
    "print('U.shape = ', U.shape)"
   ]
  },
  {
   "cell_type": "markdown",
   "metadata": {},
   "source": [
    "For our plotting purposes it's easiest to use `contourf`."
   ]
  }
 ],
 "metadata": {
  "kernelspec": {
   "display_name": "Python 3",
   "language": "python",
   "name": "python3"
  },
  "language_info": {
   "codemirror_mode": {
    "name": "ipython",
    "version": 3
   },
   "file_extension": ".py",
   "mimetype": "text/x-python",
   "name": "python",
   "nbconvert_exporter": "python",
   "pygments_lexer": "ipython3",
   "version": "3.6.7"
  }
 },
 "nbformat": 4,
 "nbformat_minor": 2
}
