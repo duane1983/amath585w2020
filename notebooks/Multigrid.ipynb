{
 "cells": [
  {
   "cell_type": "markdown",
   "metadata": {},
   "source": [
    "# Multigrid methods\n",
    "\n",
    "[AMath 585, Winter Quarter 2020](http://staff.washington.edu/rjl/classes/am585w2020/) at the University of Washington. Developed by R.J. LeVeque and distributed under the [BSD license](https://github.com/rjleveque/amath585w2020/blob/master/LICENSE).  You are free to modify and use as you please, with attribution.\n",
    "\n",
    "These notebooks are all [available on Github](https://github.com/rjleveque/amath585w2020/).\n",
    "\n",
    "-----\n",
    "\n",
    "This notebooks explains and illustrates some of the key ideas used in multigrid methods, following Section 4.6 of the text."
   ]
  },
  {
   "cell_type": "code",
   "execution_count": null,
   "metadata": {},
   "outputs": [],
   "source": [
    "%matplotlib inline"
   ]
  },
  {
   "cell_type": "code",
   "execution_count": null,
   "metadata": {},
   "outputs": [],
   "source": [
    "from pylab import *"
   ]
  },
  {
   "cell_type": "code",
   "execution_count": null,
   "metadata": {},
   "outputs": [],
   "source": [
    "use_widgets = True\n",
    "\n",
    "if use_widgets:\n",
    "    from ipywidgets import interact\n",
    "    import ipywidgets as widgets\n",
    "\n",
    "    def animate_figs(figs):\n",
    "        show_frame = lambda frameno: display(figs[frameno])\n",
    "        interact(show_frame, frameno=widgets.IntSlider(min=0,max=len(figs)-1, value=0))\n",
    "else:\n",
    "    from jsanimate_figs import animate_figs"
   ]
  },
  {
   "cell_type": "markdown",
   "metadata": {},
   "source": [
    "## Define a simple BVP in 1D\n",
    "\n",
    "For illustration we will solve $u''(x) = f(x)$ in $0\\leq x \\leq 1$ with Dirichlet boundary conditions.\n",
    "\n",
    "We choose a true solution $u(x)$ that is more interesting than in previous examples, the same function used in the text as (4.83), $u(x) = 1 + 12x - 10x^2 + \\sin(\\phi(x))$, with $\\phi(x) = 20 \\pi x^3$.  Note that this oscillates with higher frequency (shorter wavelength) as $x$ increases since $\\phi(x)$ grows like $x^3$.  We choose $f(x)$ to give this solution."
   ]
  },
  {
   "cell_type": "code",
   "execution_count": null,
   "metadata": {},
   "outputs": [],
   "source": [
    "phi_fcn = lambda x: 20.0 * pi * x**3   # phi(x)\n",
    "phip_fcn = lambda x: 60.0 * pi * x**2  # phi'(x)\n",
    "phipp_fcn = lambda x: 120.0 * pi * x   # phi''(x)\n",
    "f_fcn = lambda x: -20.0 + 0.5 * (phipp_fcn(x) * cos(phi_fcn(x)) \\\n",
    "                                 - (phip_fcn(x))**2 * sin(phi_fcn(x)))\n",
    "utrue_fcn = lambda x: 1.0 + 12.0 * x - 10.0 * x**2 + 0.5 * sin(phi_fcn(x))\n",
    "alpha = utrue_fcn(0.)\n",
    "beta = utrue_fcn(1.)\n",
    "print('Boundary values: alpha = %g, beta = %g' % (alpha,beta))"
   ]
  },
  {
   "cell_type": "markdown",
   "metadata": {},
   "source": [
    "## Function to solve the system using Gauss Elimination\n",
    "\n",
    "For this test problem the local truncation error does not vanish the way it did in previous examples.  So the true solution of the linear system is not equal to the true solution of the ODE evaluated at the grid points.  In order to observe how the error (in the linear system) behaves as we iterate, we thus need to compute the true solution of the linear system.  \n",
    "\n",
    "We do this using code adapted from the notebook [BVP1.ipynb](BVP1.ipynb), but simplified to just take the right-hand side as input."
   ]
  },
  {
   "cell_type": "code",
   "execution_count": null,
   "metadata": {},
   "outputs": [],
   "source": [
    "def solve_tridiag_GE(rhs):\n",
    "    \"\"\"\n",
    "    Solve the tridiagonal system A*uint = rhs\n",
    "    \"\"\"\n",
    "    from scipy import sparse\n",
    "    from scipy.sparse.linalg import spsolve\n",
    "    \n",
    "    m = len(rhs)\n",
    "    h = 1./float(m+1)    # h = delta x\n",
    "    \n",
    "    # set up m by m matrix A:\n",
    "    # note that sparse.diags is analogous to the matlab spdiags function\n",
    "    em = ones(m)\n",
    "    em1 = ones(m-1)\n",
    "    A = sparse.diags([em1, -2*em, em1], [-1, 0, 1], \n",
    "                     shape=(m,m), format='csc')\n",
    "    A = A / h**2\n",
    "    \n",
    "    # solve system for m interior points:\n",
    "    uint = spsolve(A, rhs)\n",
    "    \n",
    "    return uint\n"
   ]
  },
  {
   "cell_type": "code",
   "execution_count": null,
   "metadata": {},
   "outputs": [],
   "source": [
    "m = 255\n",
    "h = 1./float(m+1)\n",
    "x_GE = linspace(0,1,m+2)\n",
    "xint = x_GE[1:-1]\n",
    "rhs = f_fcn(xint)\n",
    "rhs[0] = rhs[0] - alpha / h**2\n",
    "rhs[-1] = rhs[-1] - beta / h**2\n",
    "uint_GE = solve_tridiag_GE(rhs)\n",
    "u_GE = hstack([alpha, uint_GE, beta])"
   ]
  },
  {
   "cell_type": "code",
   "execution_count": null,
   "metadata": {},
   "outputs": [],
   "source": [
    "utrue = utrue_fcn(x_GE)\n",
    "error = u_GE - utrue\n",
    "\n",
    "figure(figsize=(12,6))\n",
    "xfine = linspace(0,1,1001)\n",
    "ufine = utrue_fcn(xfine)\n",
    "plot(xfine, ufine, 'r')\n",
    "plot(x_GE,u_GE,'bo')\n",
    "title('Approximate solution with m = %i points, max error = %g' \\\n",
    "      % (m, abs(error).max()))\n",
    "grid(True);"
   ]
  },
  {
   "cell_type": "markdown",
   "metadata": {},
   "source": [
    "## Function to iterate on solution with an iterative method\n",
    "\n",
    "This `iterate_bvp` function takes iterations with iterative method that is defined by the argurment `update_u`, which should be a function to take a single step of some iterative method.\n",
    "\n",
    "This allows us to easily test different methods by passing in a different `update_u` function, without repeating all the other stuff, as in the notebook [IterativeMethods.ipynb](IterativeMethods.ipynb).\n",
    "\n",
    "But the arguments are changed a bit from `solve_bvp` in that notebook.  We now pass in a vector `U0` of initial conditions so we can illustrate the behavior with different choices.\n",
    "\n",
    "Note also that this has been modified to compute the error in the iterate `U` relative to `u_GE` as computed with Gauss Elimination. "
   ]
  },
  {
   "cell_type": "markdown",
   "metadata": {},
   "source": [
    "As in [IterativeMethods.ipynb](IterativeMethods.ipynb), this is set up to solve the system in which the tridiagonal matrix has been augmented by a row of the identity matrix at the top and bottom with right hand sides values given by the Dirichlet boundary conditions, i.e., the first and last equations in the system are `U[0] = alpha` and `U[m+1] = beta`.  This is convenient for plotting purposes and also if you want to try modifying the problem to use Neumann BCs at one of the boundaries, for example."
   ]
  },
  {
   "cell_type": "code",
   "execution_count": null,
   "metadata": {},
   "outputs": [],
   "source": [
    "def iterate_bvp(f_fcn, U0, update_u, maxiter, kplot):\n",
    "\n",
    "    m = len(U0) - 2\n",
    "    h = 1./(m+1)\n",
    "    x = linspace(0,1,m+2)\n",
    "    \n",
    "    alpha = U0[0]\n",
    "    beta = U0[-1]\n",
    "    \n",
    "    # Compute discrete solution by solving with Gauss Elimination:\n",
    "    f = f_fcn(x)\n",
    "    rhs = f[1:-1]  # restrict to interior points\n",
    "    rhs[0] = rhs[0] - alpha / h**2\n",
    "    rhs[-1] = rhs[-1] - beta / h**2\n",
    "    uint_GE = solve_tridiag_GE(rhs)\n",
    "    u_GE = hstack([alpha, uint_GE, beta])\n",
    "\n",
    "    # Set up for iterative method:\n",
    "    F = f_fcn(x)\n",
    "    U = U0.copy() # current iterate\n",
    "    \n",
    "    max_error = abs(U-u_GE).max()\n",
    "    errors = [max_error]\n",
    "\n",
    "    figs = []  # for the list of figures we generate\n",
    "    \n",
    "    for k in range(1,maxiter+1):\n",
    "                \n",
    "        U = update_u(U, F, h)  # take one iteration\n",
    "        \n",
    "        max_error = abs(U-u_GE).max()\n",
    "        errors.append(max_error)\n",
    "\n",
    "        if mod(k,kplot)==0 or k==maxiter:\n",
    "            # every kplot iterations create a plot:\n",
    "            fig = figure(figsize=(12,10))\n",
    "            subplot(2,1,1)\n",
    "            plot(x,U0,'r-o', label='initial guess')\n",
    "            plot(x,u_GE,'k-', label='true solution')\n",
    "\n",
    "            plot(x,U,'bo-', label= 'iteration k = %i' % k)\n",
    "            legend()\n",
    "            grid(True)\n",
    "            xlim(0,1)\n",
    "            ylim(0,6)\n",
    "            title('After %i iterations, max error = %.2e' \\\n",
    "                  % (k, max_error))\n",
    "            \n",
    "            subplot(2,1,2)\n",
    "            plot(x,U-u_GE,'bo-', label= 'error at iteration k = %i' % k)\n",
    "            legend()\n",
    "            grid(True)\n",
    "            xlim(0,1)\n",
    "            ylim(-4,1)\n",
    "            figs.append(fig)\n",
    "            close(fig)\n",
    "            \n",
    "    errors = array(errors)  # convert list to numpy array\n",
    "    return errors, figs\n"
   ]
  },
  {
   "cell_type": "markdown",
   "metadata": {},
   "source": [
    "## Jacobi iteration\n",
    "\n",
    "This function does one update step for Jacobi.  Note that the way we have defined the system to include the boundary values, Jacobi does not change the first or last element of `U`."
   ]
  },
  {
   "cell_type": "code",
   "execution_count": null,
   "metadata": {},
   "outputs": [],
   "source": [
    "def update_u_Jacobi(U, F, h):\n",
    "    \"\"\"\n",
    "    Input: Current iterate U^[k-1]\n",
    "    Output: Next iterate U^[k]\n",
    "    \"\"\"\n",
    "    m = len(U) - 2\n",
    "    Uprev = U.copy()  # save current iterate so it's not overwritten\n",
    "    \n",
    "    for i in range(1,m+1):\n",
    "        U[i] = 0.5*(Uprev[i-1] + Uprev[i+1] - h**2 * F[i])\n",
    "        \n",
    "    return U"
   ]
  },
  {
   "cell_type": "markdown",
   "metadata": {},
   "source": [
    "### Test Jacobi\n",
    "\n",
    "First plot every iteration, starting with a linear initial guess:"
   ]
  },
  {
   "cell_type": "code",
   "execution_count": null,
   "metadata": {},
   "outputs": [],
   "source": [
    "m = 255\n",
    "h = 1./(m+1)\n",
    "U0 = linspace(alpha, beta, m+2)\n",
    "errors_Jacobi, figs = iterate_bvp(f_fcn, U0, update_u=update_u_Jacobi, \n",
    "                                maxiter=30, kplot=1)\n",
    "animate_figs(figs)"
   ]
  },
  {
   "cell_type": "markdown",
   "metadata": {},
   "source": [
    "The bottom plot now shows the error.  Note that the error starts out oscillatory but becomes smoother, with the more highly oscillatory part smoothing out most quickly.\n",
    "\n",
    "Here it is over more iterations:"
   ]
  },
  {
   "cell_type": "code",
   "execution_count": null,
   "metadata": {},
   "outputs": [],
   "source": [
    "errors_Jacobi, figs = iterate_bvp(f_fcn, U0, update_u=update_u_Jacobi, \n",
    "                                maxiter=1500, kplot=50)\n",
    "animate_figs(figs)"
   ]
  },
  {
   "cell_type": "markdown",
   "metadata": {},
   "source": [
    "## Key idea\n",
    "\n",
    "The high-frequency part of error is smoothed more quickly.\n",
    "\n",
    "Recall that if our iterative method is $U^{[k+1]} = GU^{[k]} + c$ as in (4.10), then the error satisfies $e^{[k+1]} = Ge^{[k]}$ and so expanding the error in eigenvectors of $G$ we can relate the decay of different eigencomponents to the eigenvalues of $G$, and recall that for this system and Jacobi, the $p$th eigenvector has $j$th component $\\sin(p\\pi jh) = \\sin(p\\pi x_j)$.\n",
    "\n",
    "Once the error is smooth, we can:\n",
    "- Approximate the error on a coarser grid (as described below),\n",
    "- Interpolate the approximate error back to the original grid,\n",
    "- Correct the solution on this grid using the approximate error to get a **much** better approximate solution.\n",
    "\n",
    "### Approximating the error\n",
    "\n",
    "If we are trying to solve $Au^* = f$ for exact solution $u^*$, and the residual for some approximate solution $u$ is defined as $r = f - Au$, then we can compute the residual $r^{[k]} = f - AU^{[k]}$ for the iterate in any step. By subtracting $Au^* = f$ from $AU^{[k]} = f - r^{[k]}$ we also see that $Ae^{[k]} = -r^{[k]}$, which is (4.91) in the book with slightly different notation.  \n",
    "\n",
    "So from the residual $r^{[k]}$ we can approximate the error $e^{[k]}$ by solving a linear system that involves $A$.  \n",
    "\n",
    "Using this, we can expand the algorithm above to:\n",
    "\n",
    "- Compute the residual (which is also smooth),\n",
    "- Sample the residual on a coarser grid,\n",
    "- Approximately solve $Ae = r$ on the coarser grid for the error,\n",
    "- Interpolate the approximate error back to the original grid,\n",
    "- Correct the solution on this grid using the approximate error to get a **much** better approximate solution.\n",
    "\n",
    "Note that solving $Ae = r$ on the coarser grid has two big advantages: \n",
    "1. It is a smaller system, so less work per iteration, and \n",
    "2. Components of the error that were decaying slowly on the original grid, because there were many points per wavelength, decay much faster on a coarser grid, where there are fewer points per wavelength.\n",
    "\n",
    "### Repeat recursively\n",
    "\n",
    "Another key point is that to approximate the error on a coarser grid, we don't need to solve the system exactly on that grid -- after iterating a few times we will have smoothed out the error in this system and can transfer to an even coarser grid, with fewer grid points and fewer points per wavelength in some components of the remaining error. "
   ]
  },
  {
   "cell_type": "markdown",
   "metadata": {},
   "source": [
    "## A better smoother than Jacobi\n",
    "\n",
    "It seems like Jacobi has done a good job of smoothing all the high-frequency components, but in fact the example above is a bit misleading because it is deficient in the highest frequencies possible on this grid (e.g. the saw-tooth mode is the highest, corresponding to the eigenvector of $G$ with components $\\sin(m\\pi jh)$.\n",
    "\n",
    "Add a component of this eigenvector to our initial guess `U0`:"
   ]
  },
  {
   "cell_type": "code",
   "execution_count": null,
   "metadata": {},
   "outputs": [],
   "source": [
    "m = 255\n",
    "x = linspace(0, 1, m+2)\n",
    "U0 = linspace(alpha, beta, m+2) # initial guess\n",
    "U0 = U0 + 0.5*sin(m*pi*x)\n",
    "figure(figsize=(12,4))\n",
    "plot(x,U0,'r-')\n",
    "grid(True);"
   ]
  },
  {
   "cell_type": "code",
   "execution_count": null,
   "metadata": {},
   "outputs": [],
   "source": [
    "errors_Jacobi, figs = iterate_bvp(f_fcn, U0, update_u=update_u_Jacobi, \n",
    "                                maxiter=30, kplot=1)\n",
    "animate_figs(figs)"
   ]
  },
  {
   "cell_type": "markdown",
   "metadata": {},
   "source": [
    "The eigenvectors of the iteration matrix $G$ for Jacobi are the same as those of the original tridiagonal matrix $A$ and are $u_j^p = \\sin(\\pi p x_j)$, while the corresponding eigenvalues are $\\gamma_p = \\cos(p\\pi h)$, for $p=1,~2,~\\ldots, ~m$. \n",
    "\n",
    "As discussed in the text (p. 105), the most highly oscillatory mode corresponds to $p=m$ and note that $\\gamma_m = -\\gamma_1 \\approx -1 + \\frac 1 2 \\pi^2 h^2$, so this mode decays just as slowly as the lowest mode $p=1$.  \n",
    "\n",
    "The modes that decay the most rapidly are for  $p\\approx m/2$.  For any mode $p$ with $m/4 \\leq p \\leq 3m/4$ we have $|\\gamma_p| \\leq 1/\\sqrt{2} \\approx 0.7$ and $|\\gamma_p|^{20} < 10^{-3}$."
   ]
  },
  {
   "cell_type": "markdown",
   "metadata": {},
   "source": [
    "### Underrelaxed Jacobi\n",
    "\n",
    "For multigrid we would prefer if all the *highest* wave numbers decay most rapidly, which suggests using **underrelaxed Jacobi**,\n",
    "\n",
    "$$\n",
    "u_{k+1} = (1-\\omega)u_k + \\omega Gu_k\n",
    "$$\n",
    "\n",
    "Then the iteration matrix is $(1-\\omega)I + \\omega G$ and has eigenvalues $\\gamma_p = (1-\\omega) + \\omega \\cos(p\\pi h)$ \n",
    "\n",
    "If we choose $\\omega$ to minimize $\\max_{m/2 \\leq p \\leq m} |\\gamma_p|$ we find that $\\omega = 2/3$ is best and then $|\\gamma_p| \\leq 1/3$ for all $p \\geq m/2$."
   ]
  },
  {
   "cell_type": "code",
   "execution_count": null,
   "metadata": {},
   "outputs": [],
   "source": [
    "p = linspace(1,m,m)\n",
    "for omega in [0.5, 2/3., 0.75, 1.]:\n",
    "    gammap = (1-omega) + omega*cos(p*pi/(m+1))\n",
    "    plot(p,abs(gammap),label='omega = %.4f' % omega)\n",
    "plot(p, 1/3. * ones(p.shape), 'k--')\n",
    "legend()\n",
    "title('abs(gamma_p) vs. p')\n",
    "grid();"
   ]
  },
  {
   "cell_type": "markdown",
   "metadata": {},
   "source": [
    "Here is an update function for underrelaxed Jacobi:"
   ]
  },
  {
   "cell_type": "code",
   "execution_count": null,
   "metadata": {},
   "outputs": [],
   "source": [
    "def update_u_underJacobi(U, F, h):\n",
    "    \"\"\"\n",
    "    Input: Current iterate U^[k-1]\n",
    "    Output: Next iterate U^[k]\n",
    "    \"\"\"\n",
    "    m = len(U) - 2\n",
    "    Uprev = U.copy()  # save current iterate so it's not overwritten\n",
    "    UJac = U.copy()   # for Jacobi value, all overwritten except boundary values\n",
    "    \n",
    "    for i in range(1,m+1):\n",
    "        UJac[i] = 0.5*(Uprev[i-1] + Uprev[i+1] - h**2 * F[i])\n",
    "        \n",
    "    omega = 2./3.\n",
    "    U = (1-omega)*Uprev + omega*UJac\n",
    "    return U"
   ]
  },
  {
   "cell_type": "markdown",
   "metadata": {},
   "source": [
    "Testing this out, we see that the sawtooth mode in the error is now damped out within the first few iterations:"
   ]
  },
  {
   "cell_type": "code",
   "execution_count": null,
   "metadata": {},
   "outputs": [],
   "source": [
    "m = 255\n",
    "h = 1./(m+1)\n",
    "\n",
    "errors_underJacobi, figs = iterate_bvp(f_fcn, U0, update_u=update_u_underJacobi, \n",
    "                                maxiter=30, kplot=1)\n",
    "animate_figs(figs)"
   ]
  },
  {
   "cell_type": "markdown",
   "metadata": {},
   "source": [
    "Note that in only 4 iterations, for example, all components of the error for $p > m/2$ have been reduced by a factor of at least $(1/3)^4 \\approx 0.012$.  At this point one might sample the residual at every other point and switch to solving $Ae = r$ for this system.  Again only a few iterations are needed to damp all the the higher frequencies, which now means all $p > m/4$ from the original system size $m$.  Since convergence now starts to slow down on this grid, repeat by subsampling only every other point to get a new system of size $m/4$.  Continue this process until the system is small enough to solve the system by Gauss Elimination.  And then work your way back up correcting each solution as you go.\n",
    "\n",
    "This is a very brief description of the V-cycle approach that is shown on page 109.  \n",
    "\n",
    "For more information, see for example:\n",
    "\n",
    "W. L. Briggs, V. Emden Henson, and S. F. McCormick, A Multigrid Tutorial, Second Edition, SIAM, 2000. [ebook](https://epubs.siam.org/doi/book/10.1137/1.9780898719505?mobileUi=0)."
   ]
  }
 ],
 "metadata": {
  "kernelspec": {
   "display_name": "Python 3",
   "language": "python",
   "name": "python3"
  },
  "language_info": {
   "codemirror_mode": {
    "name": "ipython",
    "version": 3
   },
   "file_extension": ".py",
   "mimetype": "text/x-python",
   "name": "python",
   "nbconvert_exporter": "python",
   "pygments_lexer": "ipython3",
   "version": "3.6.7"
  }
 },
 "nbformat": 4,
 "nbformat_minor": 2
}
