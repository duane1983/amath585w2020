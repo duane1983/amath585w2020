{
 "cells": [
  {
   "cell_type": "markdown",
   "metadata": {},
   "source": [
    "# Fourier Spectral methods\n",
    "\n",
    "[AMath 585, Winter Quarter 2020](http://staff.washington.edu/rjl/classes/am585w2020/) at the University of Washington. Developed by R.J. LeVeque and distributed under the [BSD license](https://github.com/rjleveque/amath585w2020/blob/master/LICENSE).  You are free to modify and use as you please, with attribution.\n",
    "\n",
    "These notebooks are all [available on Github](https://github.com/rjleveque/amath585w2020/).\n",
    "\n",
    "-----\n",
    "\n",
    "This notebook illustrates using the Discrete Fourier Transform to compute a Fourier series interpolant of specified data, how to approximate $u''(x)$ from given discrete values of a function $u(x)$ on $0 \\leq x \\leq 2\\pi$, and how this can be used to solve a boudary value problem with periodic boundary conditions."
   ]
  },
  {
   "cell_type": "code",
   "execution_count": null,
   "metadata": {},
   "outputs": [],
   "source": [
    "%matplotlib inline"
   ]
  },
  {
   "cell_type": "code",
   "execution_count": null,
   "metadata": {},
   "outputs": [],
   "source": [
    "from pylab import *"
   ]
  },
  {
   "cell_type": "markdown",
   "metadata": {},
   "source": [
    "## The numpy FFT module\n",
    "\n",
    "First we illustrate use of the [numpy.fft](https://docs.scipy.org/doc/numpy/reference/routines.fft.html) functions. See the documentation for more information.\n",
    "\n",
    "See also the handout [fourier.pdf](http://staff.washington.edu/rjl/classes/am585w2020/_static/fourier.pdf) for more about the notation used in the discrete Fourier transform, and how this transform relates to other Fourier transforms."
   ]
  },
  {
   "cell_type": "code",
   "execution_count": null,
   "metadata": {
    "collapsed": false
   },
   "outputs": [],
   "source": [
    "from numpy import fft"
   ]
  },
  {
   "cell_type": "markdown",
   "metadata": {},
   "source": [
    "We provide data `u[k]` at grid points $x_j = jh$ for $j=0,~1,~\\ldots,~N-1$ with $h=2\\pi/N$.\n",
    "\n",
    "Transform $\\sin(kx)$ and check that only one set of coefficients is nonzero:"
   ]
  },
  {
   "cell_type": "code",
   "execution_count": null,
   "metadata": {},
   "outputs": [],
   "source": [
    "N = 16\n",
    "x = linspace(0, 2*pi*(1-1./N), N)\n",
    "\n",
    "k = 3.\n",
    "u = sin(k*x)\n",
    "u_hat = fft.fft(u)\n",
    "\n",
    "for k in range(N):\n",
    "    print('k = %3i:   u_hat[k] = %05f %+05fi ' % (k,u_hat[k].real,u_hat[k].imag))"
   ]
  },
  {
   "cell_type": "markdown",
   "metadata": {},
   "source": [
    "Note that for $k=3$ and $N=16$, we find $\\hat u_3 = -8i$ and $\\hat u_{13} = 8i$.  \n",
    "\n",
    "In general \n",
    "$$\n",
    "e^{i(N-k)x_j} = e^{iNjh}e^{-ikjh} = e^{-ikx_j}\n",
    "$$ \n",
    "since $h = 2\\pi/N$ and so \n",
    "$$\n",
    "e^{iNjh} = \\left(e^{2\\pi i}\\right)^N = 1,\n",
    "$$\n",
    "and so the coefficient for $N-k = 13$ in the example above could also be viewed as the coefficient of $e^{-3ix}$, and so the discrete Fourier transform above tells us that $N\\sin(kx)$ is interpolated by the function\n",
    "$$\n",
    "-8ie^{3ix} + 8ie^{-3ix} = 16 i(-i\\sin(3x)) = 16 \\sin(3x).\n",
    "$$\n",
    "This is what we expect since the function we chose agrees with the interpolant in this case.\n",
    "\n",
    "In general if the original data is real-valued then we expect `u[N-k]` to be the complex conjugate of `u[k]`."
   ]
  },
  {
   "cell_type": "markdown",
   "metadata": {},
   "source": [
    "### Inverse transform\n",
    "\n",
    "If we apply the `ifft` to `u_hat`, we should recover the original `u` values:"
   ]
  },
  {
   "cell_type": "code",
   "execution_count": null,
   "metadata": {},
   "outputs": [],
   "source": [
    "v = fft.ifft(u_hat)\n",
    "for k in range(N):\n",
    "    print('k = %3i:   v[k] = %.5f %+.5fi   Original u[k] = %5f' \\\n",
    "          % (k, v[k].real, v[k].imag, u[k]))"
   ]
  },
  {
   "cell_type": "markdown",
   "metadata": {},
   "source": [
    "Note that the imaginary part of `v` is zero (to machine precision if you print more digits)."
   ]
  },
  {
   "cell_type": "markdown",
   "metadata": {},
   "source": [
    "## Fourier interpolation\n",
    "\n",
    "First consider the function that obtain from the Fourier transform as an interpolant of the data,\n",
    "$$\n",
    "\\tilde u(x) = \\frac{1}{N} \\sum_{k=0}^{N-1} e^{ikx} \\hat u_k.\n",
    "$$\n",
    "\n",
    "If the data comes from a function that is smooth (including at the boundaries, after extending periodically), then a very accurate interpolant can be obtained with few points."
   ]
  },
  {
   "cell_type": "markdown",
   "metadata": {},
   "source": [
    "Consider $u(x) = \\exp(\\cos(x))$, which is $2\\pi$-perioidic and the periodic extension is $C^\\infty$ (infinitely differentiable with continuous derivatives at all orders). "
   ]
  },
  {
   "cell_type": "code",
   "execution_count": null,
   "metadata": {},
   "outputs": [],
   "source": [
    "u_fcn = lambda x: exp(cos(x))\n",
    "\n",
    "N = 8\n",
    "N2 = int(N/2)\n",
    "x = linspace(0, 2*pi*(1-1./N), N)\n",
    "u = u_fcn(x)\n",
    "\n",
    "u_hat = fft.fft(u)\n",
    "\n",
    "# i * wave number vector (fft ordering):\n",
    "ik = 1j*hstack((range(0,N2+1), range(-N2+1,0)));   \n",
    "\n",
    "def u_tilde(x):\n",
    "    u_tilde = u_hat[0] * ones(x.shape, dtype=complex)\n",
    "    for k in range(1,N):\n",
    "        u_tilde += exp(ik[k]*x) * u_hat[k]\n",
    "    u_tilde = u_tilde / N\n",
    "    return u_tilde.real\n",
    "        \n",
    "\n",
    "xfine = linspace(0,2*pi,1000)\n",
    "ufine = u_fcn(xfine)\n",
    "plot(xfine, ufine, 'b', label='original u(x)')\n",
    "\n",
    "u_tilde_fine = u_tilde(xfine)\n",
    "\n",
    "u = u_fcn(x)\n",
    "plot(x, u, 'bo', label='data points u_j')\n",
    "\n",
    "plot(xfine, u_tilde_fine, 'r-', label='interpolant u tilde')\n",
    "legend()\n",
    "title('Original function u(x) and interpolant at %i points' % N);"
   ]
  },
  {
   "cell_type": "markdown",
   "metadata": {},
   "source": [
    "The fit above looks very good even with only 8 points!\n",
    "\n",
    "It would not look so good if the periodic extesion of $u(x)$ were not $C^\\infty$.\n",
    "\n",
    "### Discontinuous $u(x)$\n",
    "\n",
    "Consider for example $u(x) = x$, which is $C^\\infty$ in the interval but the periodic extension is discontinuous, so it is not even $C^0$ (continuous)."
   ]
  },
  {
   "cell_type": "code",
   "execution_count": null,
   "metadata": {
    "scrolled": false
   },
   "outputs": [],
   "source": [
    "u_fcn = lambda x: x\n",
    "\n",
    "N = 16\n",
    "N2 = int(N/2)\n",
    "x = linspace(0, 2*pi*(1-1./N), N)\n",
    "u = u_fcn(x)\n",
    "\n",
    "u_hat = fft.fft(u)\n",
    "\n",
    "# i * wave number vector (fft ordering):\n",
    "ik = 1j*hstack((range(0,N2+1), range(-N2+1,0)));   \n",
    "\n",
    "def u_tilde(x):\n",
    "    u_tilde = u_hat[0] * ones(x.shape, dtype=complex)\n",
    "    for k in range(1,N):\n",
    "        u_tilde += exp(ik[k]*x) * u_hat[k]\n",
    "    u_tilde = u_tilde / N\n",
    "    return u_tilde.real\n",
    "        \n",
    "\n",
    "xfine = linspace(0,2*pi,1000)\n",
    "ufine = u_fcn(xfine)\n",
    "plot(xfine, ufine, 'b', label='original u(x)')\n",
    "\n",
    "u_tilde_fine = u_tilde(xfine)\n",
    "\n",
    "u = u_fcn(x)\n",
    "plot(x, u, 'bo', label='data points u_j')\n",
    "\n",
    "plot(xfine, u_tilde_fine, 'r-', label='interpolant u tilde')\n",
    "legend()\n",
    "title('Original function u(x) and interpolant at %i points' % N);"
   ]
  },
  {
   "cell_type": "markdown",
   "metadata": {},
   "source": [
    "In this case the Fourier interpolant is a $C^\\infty$ periodic function, so we observe the *Gibbs phenomena* near the point of discontinuity of $u(x)$ (the boundary).\n",
    "\n",
    "**Note:** Differentiating this interpolant would not give good approximations to the derivative, at least near the boundary, no matter how many points we used.\n",
    "\n",
    "If we compute more Fourier coefficients, we see they only decay like $1/k$ for a discontinuous function:"
   ]
  },
  {
   "cell_type": "code",
   "execution_count": null,
   "metadata": {},
   "outputs": [],
   "source": [
    "N = 512\n",
    "N2 = int(N/2)\n",
    "x = linspace(0, 2*pi*(1-1./N), N)\n",
    "u = u_fcn(x)\n",
    "\n",
    "k = range(1,N2)\n",
    "u_hat = fft.fft(u)\n",
    "\n",
    "figure(figsize=(8,4))\n",
    "u_hat_mag = abs(u_hat) / sqrt(N)\n",
    "loglog(k, u_hat_mag[k], 'b-o', label='FFT')\n",
    "for p in range(1,4):\n",
    "    kpower = 1./array(k)**p\n",
    "    loglog(k, kpower, label='1/k^%i' % p)\n",
    "legend()\n",
    "xlabel('wavenumber k')\n",
    "ylabel('abs(u_hat[k])');"
   ]
  },
  {
   "cell_type": "markdown",
   "metadata": {},
   "source": [
    "Actually the decay flattens out for larger $k$ because we are looking at the discrete Fourier coefficients rather than the behavior of the full set, but we won't go into that.\n",
    "\n",
    "If the periodic extension were $C^0$ then the initial decay would be like $1/k^2$ and more generally if it is $C^\\ell$ (i.e. $\\ell$ derivatives exist everywhere are are continuous function, even at the boundary when extended periodically) then the decay would start out like $1/k^{\\ell + 2}$."
   ]
  },
  {
   "cell_type": "markdown",
   "metadata": {},
   "source": [
    "### Smooth periodic function\n",
    "\n",
    "Again consider $u(x) = \\exp(\\cos(x))$, which is $2\\pi$-perioidic and the periodic extension is $C^\\infty$ (infinitely differentiable with continuous derivatives at all orders).  In this case the Fourier components decay faster than any power $1/k^p$ and approximations of derivatives have \"spectral accuracy\".  Using $N$ points we expect the error to decay faster than $1/N^p$ for any power $p$.  (Recall that a finite diffference method generally has order of accuracy $p$ for some small $p$, e.g. $p=2$ for the 3-point centered approximation to $u''(x)$.)"
   ]
  },
  {
   "cell_type": "code",
   "execution_count": null,
   "metadata": {},
   "outputs": [],
   "source": [
    "u_fcn = lambda x: exp(cos(x))"
   ]
  },
  {
   "cell_type": "markdown",
   "metadata": {},
   "source": [
    "Observe the rapid decay of `u_hat[k]` with `k` in the plot below.  We only plot the first `N/2` wavenumbers since for a real-valued function we expect `u[N-k]` to be the complex conjugate of `u[k]`."
   ]
  },
  {
   "cell_type": "code",
   "execution_count": null,
   "metadata": {},
   "outputs": [],
   "source": [
    "N = 64\n",
    "N2 = int(N/2)\n",
    "x = linspace(0, 2*pi*(1-1./N), N)\n",
    "u = u_fcn(x)\n",
    "\n",
    "k = range(1,N2)\n",
    "u_hat = fft.fft(u)\n",
    "\n",
    "figure(figsize=(8,4))\n",
    "loglog(k, abs(u_hat[k]), 'b-o', label='FFT')\n",
    "for p in range(1,4):\n",
    "    kpower = 1./array(k)**p\n",
    "    loglog(k, kpower, label='1/k^%i' % p)\n",
    "legend()\n",
    "xlabel('wavenumber k')\n",
    "ylabel('abs(u_hat[k])');"
   ]
  },
  {
   "cell_type": "markdown",
   "metadata": {},
   "source": [
    "The fact that the slope continues to get more negative in this log-log plot means that we have spectral accuracy.  Note that the function can be represented almost to machine accuracy with only `k=15` modes, and beyond that rounding error dominates.\n",
    "\n",
    "Likewise, very good approximations to the derivative can be achieved with small values of `N`, and we expect full precision by about `N = 30` (so `N/2 = 15`):"
   ]
  },
  {
   "cell_type": "markdown",
   "metadata": {},
   "source": [
    "## Spectral differentiation\n",
    "\n",
    "Consider the problem of approximating $u''(x_j)$ at a set of $N$ points when given function values $U_j = u(x_j)$.  If $u(x)$ is assumed to be $2\\pi$-periodic then it is appropriate to use a spectral Fourier method.  Again we use grid points $x_j = jh$ for $j=0,~1,~\\ldots,~N-1$ with $h=2\\pi/N$."
   ]
  },
  {
   "cell_type": "code",
   "execution_count": null,
   "metadata": {
    "collapsed": false
   },
   "outputs": [],
   "source": [
    "u_fcn = lambda x: exp(cos(x))\n",
    "uxx_fcn = lambda x: (sin(x)**2 - cos(x)) * exp(cos(x))"
   ]
  },
  {
   "cell_type": "code",
   "execution_count": null,
   "metadata": {},
   "outputs": [],
   "source": [
    "# Discrete points:\n",
    "N = 30  # should be even\n",
    "h = 2*pi/N\n",
    "x = linspace(0, 2*pi-h, N)\n",
    "\n",
    "xfine = linspace(0,2*pi,1000)\n",
    "ufine = u_fcn(xfine)\n",
    "plot(xfine, ufine, 'b')\n",
    "\n",
    "u = u_fcn(x)\n",
    "plot(x, u, 'bo')\n",
    "title('Original function u(x) and %i points' % N);"
   ]
  },
  {
   "cell_type": "code",
   "execution_count": null,
   "metadata": {},
   "outputs": [],
   "source": [
    "N2 = int(N/2)\n",
    "\n",
    "# i * wave number vector (fft ordering):\n",
    "ik = 1j*hstack((range(0,N2+1), range(-N2+1,0)))  \n",
    "ik2 = ik*ik;          # multiplication factor for second derivative\n",
    "\n",
    "# FFT of u at discrete points:\n",
    "u_hat = fft.fft(u)\n",
    "\n",
    "# multiply by ik2 to get approximate DFT of u'' at these points:\n",
    "v_hat = ik2 * u_hat \n",
    "\n",
    "# Inverse FFT to get v with v[j] approximating u''(x[j]):\n",
    "v = real(fft.ifft(v_hat))     \n",
    "# imaginary part should be at machine precision level\n",
    "\n",
    "error = v - uxx_fcn(x)\n",
    "print(\"Max-norm of error in u'' at points is: %g\" % norm(error,inf))\n",
    "\n",
    "uxxfine = uxx_fcn(xfine)\n",
    "plot(xfine, uxxfine, 'b')\n",
    "\n",
    "u = u_fcn(x)\n",
    "plot(x, v, 'ro')\n",
    "title(\"True function u''(x) and approximation at %i points\" % N);"
   ]
  },
  {
   "cell_type": "markdown",
   "metadata": {},
   "source": [
    "## Solving a BVP\n",
    "\n",
    "Now let's try solving the boundary value problem $u''(x) = f(x)$ with periodic boundary conditions, $u(0)=u(2\\pi)$.\n",
    "As the $f(x)$ we will use the second derivative of the function $u(x) = \\exp(\\cos(x))$ we used above.  This has the required property that $\\int_0^{2\\pi} f(x) dx = 0$ for there to be a solution.  The solution is not unique, and indeed we will see that the solution computed by the Fourier spectral method below is shifted by a constant value from the $u(x)$ we started with (because it is computed with the additional constraint that its mean should be zero)."
   ]
  },
  {
   "cell_type": "code",
   "execution_count": null,
   "metadata": {
    "scrolled": false
   },
   "outputs": [],
   "source": [
    "u_fcn = lambda x: exp(cos(x))\n",
    "uxx_fcn = lambda x: (sin(x)**2 - cos(x)) * exp(cos(x))\n",
    "\n",
    "# Discrete points:\n",
    "N = 30  # should be even\n",
    "h = 2*pi/N\n",
    "x = linspace(0, 2*pi-h, N)\n",
    "\n",
    "f = uxx_fcn(x)\n",
    "print('Sum of f[j] = ', f.sum())\n",
    "\n",
    "N2 = int(N/2)\n",
    "ik = 1j*hstack((range(0,N2+1), range(-N2+1,0)));   # i * wave number vector (fft ordering)\n",
    "ik2 = ik*ik;          # multiplication factor for second derivative\n",
    "ik2[0] = 1.    # but set the factor for k=0 to 1 so we don't divide by zero below!\n",
    "\n",
    "# FFT of f at discrete points:\n",
    "f_hat = fft.fft(f)\n",
    "\n",
    "# divide by ik2 to get approximate DFT of u at these points:\n",
    "v_hat = f_hat / ik2\n",
    "\n",
    "# Expect f_hat[0] = 0 and so will v_hat[0]=0\n",
    "print('v_hat[0] = %.5f %+.5fi to 0.' % (v_hat[0].real, v_hat[0].imag))\n",
    "\n",
    "# Inverse FFT to get v with v[j] approximating solution:\n",
    "v = real(fft.ifft(v_hat))     \n",
    "# imaginary part should be at machine precision level\n",
    "\n",
    "ufine = u_fcn(xfine) # true solution\n",
    "plot(xfine, ufine, 'b')\n",
    "\n",
    "plot(x, v, 'ro')\n",
    "title(\"True function u(x) and approximation at %i points\" % N);"
   ]
  },
  {
   "cell_type": "markdown",
   "metadata": {},
   "source": [
    "The approximation we computed has the property that `v_hat[0] = 0` and so the mean of the data values `v[k]` is zero, whereas the \"true solution\" we specified does not have mean 0.  But recall the solution to this BVP is only unique up to a constant, and if we shift the \"true solution\" to have mean 0, then they agree to machine precision:"
   ]
  },
  {
   "cell_type": "code",
   "execution_count": null,
   "metadata": {},
   "outputs": [],
   "source": [
    "u = u_fcn(x)\n",
    "umean = u.mean()\n",
    "print('Mean of u[j] is %g' % umean)\n",
    "print('Shifting u to have mean 0')\n",
    "ushifted = u - umean\n",
    "plot(xfine, ufine - umean, 'b')\n",
    "plot(x, v, 'ro')\n",
    "title(\"Shifted function u(x) and approximation at %i points\" % N);\n",
    "err = abs(v - ushifted).max()\n",
    "print('Max error between v and shifted u: %g' % err)"
   ]
  },
  {
   "cell_type": "code",
   "execution_count": null,
   "metadata": {
    "collapsed": false
   },
   "outputs": [],
   "source": []
  }
 ],
 "metadata": {
  "kernelspec": {
   "display_name": "Python 3",
   "language": "python",
   "name": "python3"
  },
  "language_info": {
   "codemirror_mode": {
    "name": "ipython",
    "version": 3
   },
   "file_extension": ".py",
   "mimetype": "text/x-python",
   "name": "python",
   "nbconvert_exporter": "python",
   "pygments_lexer": "ipython3",
   "version": "3.6.7"
  }
 },
 "nbformat": 4,
 "nbformat_minor": 2
}
