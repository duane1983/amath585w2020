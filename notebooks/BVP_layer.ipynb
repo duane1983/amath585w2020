{
 "cells": [
  {
   "cell_type": "markdown",
   "metadata": {},
   "source": [
    "# BVP layer -- Solve a singular perturbation problem\n",
    "\n",
    "[AMath 585, Winter Quarter 2020](http://staff.washington.edu/rjl/classes/am585w2020/) at the University of Washington. Developed by R.J. LeVeque and distributed under the [BSD license](https://github.com/rjleveque/amath585w2020/blob/master/LICENSE).  You are free to modify and use as you please, with attribution.\n",
    "\n",
    "These notebooks are all [available on Github](https://github.com/rjleveque/amath585w2020/).\n",
    "\n",
    "-----\n",
    "\n",
    "Solve the nonlinear BVP\n",
    "$$\n",
    "\\epsilon u''(x) + u(x)(u'(x) - 1) = f(x)\n",
    "$$\n",
    "with Dirichlet boundary conditions.\n",
    "\n",
    "In this notebook we consider the case where $\\epsilon > 0$ is very small, the singular perturbation problem discussed in Section 2.17 of the textbook.\n",
    "\n",
    "*Continuation* in both $\\epsilon$ and the size of the system are illustrated as well."
   ]
  },
  {
   "cell_type": "code",
   "execution_count": null,
   "metadata": {},
   "outputs": [],
   "source": [
    "%matplotlib inline"
   ]
  },
  {
   "cell_type": "code",
   "execution_count": null,
   "metadata": {},
   "outputs": [],
   "source": [
    "from pylab import *"
   ]
  },
  {
   "cell_type": "code",
   "execution_count": null,
   "metadata": {},
   "outputs": [],
   "source": [
    "from scipy.interpolate import interp1d  # used for continuation"
   ]
  },
  {
   "cell_type": "markdown",
   "metadata": {},
   "source": [
    "The `BVP_nonlinear.py` module contains the function `solve_bvp_nonlinear` that is illustrated in the notebook [BVP_nonlinear.ipynb](BVP_nonlinear.ipynb)."
   ]
  },
  {
   "cell_type": "code",
   "execution_count": null,
   "metadata": {
    "collapsed": false
   },
   "outputs": [],
   "source": [
    "from BVP_nonlinear import solve_bvp_nonlinear"
   ]
  },
  {
   "cell_type": "code",
   "execution_count": null,
   "metadata": {},
   "outputs": [],
   "source": [
    "ax = 0.; alpha = -1.; ainfo = (ax, alpha)\n",
    "bx = 1.; beta = 1.5;   binfo = (bx, beta)\n",
    "f = lambda x: zeros(x.shape) # the zero function\n",
    "\n",
    "xbar = 0.5*(ax+bx-beta-alpha)\n",
    "print('For small epsilon we expect a layer near xbar = %.2f' % xbar)"
   ]
  },
  {
   "cell_type": "code",
   "execution_count": null,
   "metadata": {},
   "outputs": [],
   "source": [
    "epsilon = 0.1\n",
    "m = 49\n",
    "u0_func = lambda x: alpha + x * (beta-alpha) / (bx-ax)\n",
    "x,u = solve_bvp_nonlinear(epsilon, f, ainfo, binfo, m, u0_func)"
   ]
  },
  {
   "cell_type": "markdown",
   "metadata": {},
   "source": [
    "For smaller epsilon we see slower convergence and some wonky looking iterates, but the final solution looks smooth with a layer where we expect it:"
   ]
  },
  {
   "cell_type": "code",
   "execution_count": null,
   "metadata": {},
   "outputs": [],
   "source": [
    "epsilon = 0.01\n",
    "m = 199\n",
    "u0_func = lambda x: alpha + x * (beta-alpha) / (bx-ax)\n",
    "x,u = solve_bvp_nonlinear(epsilon, f, ainfo, binfo, m, u0_func)\n",
    "\n",
    "figure()\n",
    "plot(x,u,'rx-')\n",
    "title('Final approximate solution')"
   ]
  },
  {
   "cell_type": "markdown",
   "metadata": {},
   "source": [
    "Note that we have many grid points in the layer.  If we tried this value of epsilon with fewer grid points the final solution won't look so nice, and/or Newton's method might not converge.  \n",
    "\n",
    "Here we see that it doesn't converge when the starting guess is the linear function:"
   ]
  },
  {
   "cell_type": "code",
   "execution_count": null,
   "metadata": {},
   "outputs": [],
   "source": [
    "epsilon = 0.01\n",
    "m = 49\n",
    "u0_func = lambda x: alpha + x * (beta-alpha) / (bx-ax)\n",
    "x,u = solve_bvp_nonlinear(epsilon, f, ainfo, binfo, m, \n",
    "                          u0_func, max_iter=15)"
   ]
  },
  {
   "cell_type": "markdown",
   "metadata": {},
   "source": [
    "## Continuation\n",
    "\n",
    "### Continuation in epsilon\n",
    "\n",
    "To begin, let's keep `m = 49` fixed and try to get a better initial guess by first solving the problem with a larger `epsilon = 0.05` and save that solution so we can use it as an initial guess for the smaller value of `epsilon`."
   ]
  },
  {
   "cell_type": "code",
   "execution_count": null,
   "metadata": {},
   "outputs": [],
   "source": [
    "epsilon = 0.05\n",
    "m = 49\n",
    "u0_func = lambda x: alpha + x * (beta-alpha) / (bx-ax)\n",
    "x,u = solve_bvp_nonlinear(epsilon, f, ainfo, binfo, m,  u0_func)\n",
    "u_05 = u"
   ]
  },
  {
   "cell_type": "markdown",
   "metadata": {},
   "source": [
    "Now we can reduce `epsilon` and use the result just computed as the initial guess instead of a linear function.\n",
    "\n",
    "Note that `u0_func` is a function that just returns this vector regardless of what `x` is passed in, so this wouldn't work if we wanted to increase `m` (which we will do later)."
   ]
  },
  {
   "cell_type": "code",
   "execution_count": null,
   "metadata": {},
   "outputs": [],
   "source": [
    "epsilon = 0.01\n",
    "m = 49\n",
    "u0_func = lambda x: u_05\n",
    "x,u = solve_bvp_nonlinear(epsilon, f, ainfo, binfo, m,  u0_func)\n",
    "u_01 = u\n",
    "\n",
    "figure()\n",
    "plot(x,u,'rx-')\n",
    "title('Final approximate solution')"
   ]
  },
  {
   "cell_type": "markdown",
   "metadata": {},
   "source": [
    "Now Newton's method converges and we get something reasonable, even though there are only a few points in the interior layer.\n",
    "\n",
    "We saved the solution above, which we can now use as initial guess for an even smaller `epsilon`:"
   ]
  },
  {
   "cell_type": "code",
   "execution_count": null,
   "metadata": {},
   "outputs": [],
   "source": [
    "epsilon = 0.007\n",
    "m = 49\n",
    "u0_func = lambda x: u_01\n",
    "x,u = solve_bvp_nonlinear(epsilon, f, ainfo, binfo, m,  u0_func, max_iter=20)\n",
    "\n",
    "figure()\n",
    "plot(x,u,'rx-')\n",
    "title('Final approximate solution')"
   ]
  },
  {
   "cell_type": "markdown",
   "metadata": {},
   "source": [
    "### Continuation in m (refining the grid)\n",
    "\n",
    "Newton's method wasn't converging in the test just done, and clearly we don't have enough grid points in the layer for this value of `epsilon`. So we might want to increase `m`.  To do so we can define a function based on one of our previous converged solutions that we can then pass in as `u0_func` and that can be evaluated on a new finer grid.\n",
    "\n",
    "To do so we use the [`scipy.interpolate.interp1d`](https://docs.scipy.org/doc/scipy/reference/generated/scipy.interpolate.interp1d.html) function that was imported at the top of this notebook, to define a piecewise linear function that interpolates the values `(x[i], u_01[i])`:"
   ]
  },
  {
   "cell_type": "code",
   "execution_count": null,
   "metadata": {},
   "outputs": [],
   "source": [
    "u_01_func = interp1d(x,u_01,'linear')"
   ]
  },
  {
   "cell_type": "code",
   "execution_count": null,
   "metadata": {},
   "outputs": [],
   "source": [
    "epsilon = 0.007\n",
    "m = 99\n",
    "x,u = solve_bvp_nonlinear(epsilon, f, ainfo, binfo, m,  u0_func=u_01_func)\n",
    "\n",
    "figure()\n",
    "plot(x,u,'rx-')\n",
    "title('Final approximate solution')"
   ]
  },
  {
   "cell_type": "markdown",
   "metadata": {},
   "source": [
    "With this approach we can go to smaller `epsilon`, on a suitable fine grid:"
   ]
  },
  {
   "cell_type": "code",
   "execution_count": null,
   "metadata": {},
   "outputs": [],
   "source": [
    "epsilon = 0.001\n",
    "m = 499\n",
    "x,u = solve_bvp_nonlinear(epsilon, f, ainfo, binfo, m,  u0_func=u_01_func)\n",
    "\n",
    "figure()\n",
    "plot(x,u,'rx-')\n",
    "title('Final approximate solution')"
   ]
  },
  {
   "cell_type": "code",
   "execution_count": null,
   "metadata": {},
   "outputs": [],
   "source": []
  }
 ],
 "metadata": {
  "kernelspec": {
   "display_name": "Python 3",
   "language": "python",
   "name": "python3"
  },
  "language_info": {
   "codemirror_mode": {
    "name": "ipython",
    "version": 3
   },
   "file_extension": ".py",
   "mimetype": "text/x-python",
   "name": "python",
   "nbconvert_exporter": "python",
   "pygments_lexer": "ipython3",
   "version": "3.6.7"
  }
 },
 "nbformat": 4,
 "nbformat_minor": 2
}
