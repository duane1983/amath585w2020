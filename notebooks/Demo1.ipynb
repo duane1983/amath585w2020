{
 "cells": [
  {
   "cell_type": "markdown",
   "metadata": {},
   "source": [
    "# Demo1\n",
    "\n",
    "\n",
    "[AMath 585, Winter Quarter 2020](http://staff.washington.edu/rjl/classes/am585win2020/) at the University of Washington. Developed by R.J. LeVeque and distributed under the [BSD license](https://github.com/rjleveque/amath585win2020/blob/master/LICENSE).  You are free to modify and use as you please, with attribution.\n",
    "\n",
    "These notebooks are all [available on Github](https://github.com/rjleveque/amath585win2020/blob/master/notebooks/Index.ipynb).\n",
    "\n",
    "This notebook just illustrates a few things to make simple plots.\n",
    "\n",
    "### Markdown\n",
    "\n",
    "Note that some cells are executable code cells, others are Markdown cell, which display text and in which you can use latex for mathematics.  The notebooks use [Github flavored markdown](https://help.github.com/en/github/writing-on-github/getting-started-with-writing-and-formatting-on-github).    Double click on a markdown cell to edit it, then execute it to render."
   ]
  },
  {
   "cell_type": "markdown",
   "metadata": {},
   "source": [
    "### Make plots appear inline:\n",
    "\n",
    "The following notebook \"magic\" command `%matplotlib inline` makes plots show up in the notebook rather than opening a new window.\n",
    "\n",
    "Instead you can specify `%matplotlib notebook` so they show up in a manner that you can interact with them, e.g. zooming in.   If you do this then when you give plot commands in more than one cell you should close earlier figures before plotting new ones (or your plot will be sent to the previous figure), or start each such cell with a `figure` command.  If you have too many figures open at once in this mode, you may get an error message telling you to close some.  Closing a figure will leave the figure in the notebook, but it's no longer interactive."
   ]
  },
  {
   "cell_type": "code",
   "execution_count": null,
   "metadata": {
    "collapsed": false
   },
   "outputs": [],
   "source": [
    "%matplotlib inline"
   ]
  },
  {
   "cell_type": "markdown",
   "metadata": {},
   "source": [
    "### Import a bunch of useful functions\n",
    "\n",
    "The next line imports many things from [numpy](http://www.numpy.org/) and [matplotlib](http://matplotlib.org/), including things like `pi`, `sin`, `linspace`, and `plot` that are used below."
   ]
  },
  {
   "cell_type": "code",
   "execution_count": null,
   "metadata": {
    "collapsed": false
   },
   "outputs": [],
   "source": [
    "from pylab import *"
   ]
  },
  {
   "cell_type": "code",
   "execution_count": null,
   "metadata": {
    "collapsed": false
   },
   "outputs": [],
   "source": [
    "x = linspace(0, 4*pi, 100)"
   ]
  },
  {
   "cell_type": "code",
   "execution_count": null,
   "metadata": {
    "collapsed": false
   },
   "outputs": [],
   "source": [
    "y = x*x + x**3*sin(x)"
   ]
  },
  {
   "cell_type": "markdown",
   "metadata": {},
   "source": [
    "### Make a plot\n",
    "\n",
    "Here is a plot of $f(x) = x^2 + x^3\\sin(x)$.\n"
   ]
  },
  {
   "cell_type": "code",
   "execution_count": null,
   "metadata": {},
   "outputs": [],
   "source": [
    "figure(figsize=(6,4))\n",
    "plot(x,y,'r')"
   ]
  },
  {
   "cell_type": "markdown",
   "metadata": {},
   "source": [
    "Make another version that has different colored points and line.\n",
    "\n",
    "Also save the result as a `png` file that can be downloaded."
   ]
  },
  {
   "cell_type": "code",
   "execution_count": null,
   "metadata": {},
   "outputs": [],
   "source": [
    "x = linspace(0, 4*pi, 50)\n",
    "y = x*x + x**3*sin(x)\n",
    "\n",
    "figure(figsize=(6,4))\n",
    "plot(x, y, 'r-')\n",
    "plot(x, y, 'bo')\n",
    "\n",
    "title('My plot')\n",
    "grid(True)\n",
    "savefig('myplot.png')"
   ]
  },
  {
   "cell_type": "markdown",
   "metadata": {},
   "source": [
    "We can also display this png file (or any other image) inline:"
   ]
  },
  {
   "cell_type": "code",
   "execution_count": null,
   "metadata": {},
   "outputs": [],
   "source": [
    "from IPython.display import Image\n",
    "Image('myplot.png')"
   ]
  },
  {
   "cell_type": "markdown",
   "metadata": {},
   "source": [
    "### For help with plotting:\n",
    "\n",
    "See the [matplotlib gallery](http://matplotlib.org/gallery.html) for many examples."
   ]
  }
 ],
 "metadata": {
  "kernelspec": {
   "display_name": "Python 2",
   "language": "python",
   "name": "python2"
  },
  "language_info": {
   "codemirror_mode": {
    "name": "ipython",
    "version": 3
   },
   "file_extension": ".py",
   "mimetype": "text/x-python",
   "name": "python",
   "nbconvert_exporter": "python",
   "pygments_lexer": "ipython3",
   "version": "3.6.7"
  }
 },
 "nbformat": 4,
 "nbformat_minor": 1
}
