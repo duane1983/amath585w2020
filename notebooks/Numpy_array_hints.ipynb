{
 "cells": [
  {
   "cell_type": "markdown",
   "metadata": {},
   "source": [
    "# Numpy array hints\n",
    "\n",
    "[AMath 585, Winter Quarter 2020](http://staff.washington.edu/rjl/classes/am585w2020/) at the University of Washington. Developed by R.J. LeVeque and distributed under the [BSD license](https://github.com/rjleveque/amath585w2020/blob/master/LICENSE).  You are free to modify and use as you please, with attribution.\n",
    "\n",
    "These notebooks are all [available on Github](https://github.com/rjleveque/amath585w2020/).\n",
    "\n",
    "-----\n",
    "\n",
    "This notebook contains a few hints about working with numpy arrays, particularly in the context of writing numerical solvers for differential equations.\n",
    "\n",
    "For more information see, e.g.:\n",
    "\n",
    " - https://docs.scipy.org/doc/numpy/user/numpy-for-matlab-users.html\n",
    " - https://docs.scipy.org/doc/numpy/reference/generated/numpy.array.html\n",
    " - https://docs.scipy.org/doc/numpy/reference/arrays.indexing.html\n",
    " - https://docs.scipy.org/doc/numpy/reference/routines.indexing.html\n"
   ]
  },
  {
   "cell_type": "code",
   "execution_count": null,
   "metadata": {
    "collapsed": false
   },
   "outputs": [],
   "source": [
    "%matplotlib inline"
   ]
  },
  {
   "cell_type": "code",
   "execution_count": null,
   "metadata": {
    "collapsed": false
   },
   "outputs": [],
   "source": [
    "from pylab import *"
   ]
  },
  {
   "cell_type": "markdown",
   "metadata": {},
   "source": [
    "## Data types\n",
    "\n",
    "numpy arrrays are special objects designed for holding numerical values and allow doing arithmetic operations.  So every element in an array has to have the same type, e.g. `int`, `float`.  You can specify this when creating an array, e.g."
   ]
  },
  {
   "cell_type": "code",
   "execution_count": null,
   "metadata": {
    "collapsed": false
   },
   "outputs": [],
   "source": [
    "x = array([1,2,3], dtype=float)\n",
    "x"
   ]
  },
  {
   "cell_type": "markdown",
   "metadata": {},
   "source": [
    "If you don't specify, it will figure it out and if necessary convert integers to floats (if at least one element you specify is a float, e.g."
   ]
  },
  {
   "cell_type": "code",
   "execution_count": null,
   "metadata": {
    "collapsed": false
   },
   "outputs": [],
   "source": [
    "x = array([1., 2,3])\n",
    "print(x, x.dtype)\n",
    "x = array([1,2,3])\n",
    "print(x, x.dtype)"
   ]
  },
  {
   "cell_type": "markdown",
   "metadata": {},
   "source": [
    "Complex numbers can also be handled.  Note that in Python `3+4j` for example represents $3 + 4i$."
   ]
  },
  {
   "cell_type": "code",
   "execution_count": null,
   "metadata": {
    "collapsed": false
   },
   "outputs": [],
   "source": [
    "x = array([3j,2,3])\n",
    "print(x, x.dtype)"
   ]
  },
  {
   "cell_type": "markdown",
   "metadata": {},
   "source": [
    "For example, compute the matrices of a 2x2 skew-symmetric matrix:"
   ]
  },
  {
   "cell_type": "code",
   "execution_count": null,
   "metadata": {
    "collapsed": false
   },
   "outputs": [],
   "source": [
    "A = array([[0, -1],[1,0]])\n",
    "print('A = \\n', A)\n",
    "lam,V = eig(A)\n",
    "print('Eigenvalues: ',lam)\n",
    "print('Eigenvectors: \\n',V)"
   ]
  },
  {
   "cell_type": "markdown",
   "metadata": {},
   "source": [
    "## Lambda functions\n",
    "\n",
    "Note I used `lam` above, since `lambda` is a keyword in Python.  A lambda function is an easy way to specify a one-line function. We use it in some notebooks to specify `utrue`, for example.\n",
    "\n",
    "The following give equavalent functions:"
   ]
  },
  {
   "cell_type": "code",
   "execution_count": null,
   "metadata": {
    "collapsed": false
   },
   "outputs": [],
   "source": [
    "def f(x,y):\n",
    "    return x**2 + 3*y\n",
    "print(f(2,3))\n",
    "\n",
    "f = lambda x,y: x**2 + 3*y\n",
    "print(f(2,3))"
   ]
  },
  {
   "cell_type": "markdown",
   "metadata": {},
   "source": [
    "## Indexing and slicing\n",
    "\n",
    "Recall that Python is zero-based, so the first index in an array is index 0.  It is also important to realize that if you want to select say the first 3 elements of an array `x`, this is denoted by x[0:4], e.g."
   ]
  },
  {
   "cell_type": "code",
   "execution_count": null,
   "metadata": {
    "collapsed": false
   },
   "outputs": [],
   "source": [
    "x = linspace(0,6,7)\n",
    "print(x)\n",
    "print(x[0:4])"
   ]
  },
  {
   "cell_type": "markdown",
   "metadata": {},
   "source": [
    "This could also be written as `x[:4]` (it starts at 0 if not specified) and so this means the first 4 elements.\n",
    "\n",
    "Similarly, note that the `range` command often used in loops has similar behavior:"
   ]
  },
  {
   "cell_type": "code",
   "execution_count": null,
   "metadata": {
    "collapsed": false
   },
   "outputs": [],
   "source": [
    "for j in range(10):\n",
    "    print(j)"
   ]
  },
  {
   "cell_type": "markdown",
   "metadata": {},
   "source": [
    "In selecting elements of an array, you can also do things like:\n",
    "    - `x[2:]` all elements from `x[2]` to the end\n",
    "    - `x[-1]` last element (and `x[-2]` is the next-to-last, etc.\n",
    "    - `x[:-1]` all elements except the last.\n",
    "    - `x[1::2]` every other element starting with `x[1]`."
   ]
  },
  {
   "cell_type": "code",
   "execution_count": null,
   "metadata": {
    "collapsed": false
   },
   "outputs": [],
   "source": [
    "print(x[2:])\n",
    "print(x[-1])\n",
    "print(x[2:-2])\n",
    "print(x[1::2])"
   ]
  },
  {
   "cell_type": "markdown",
   "metadata": {},
   "source": [
    "## Modifying arrays as Python objects\n",
    "\n",
    "In most computer languages if you do\n",
    "\n",
    "    a = 1\n",
    "    b = a\n",
    "    b = 2\n",
    "    \n",
    "The value of `b` will be changed but `a` will still be 1.  This is also true in Python since `a` and `b` are integers here (also if they were floats).  A very good thing or it would be very hard to write correct programs.  \n",
    "\n",
    "However, if `A` is a numpy array and you set `B = A` and then modify some element of `B`, the corresponding element of `A` also changes!\n",
    "\n",
    "That's because Python is an object-oriented language and a numpy array is what's called a **mutable object**, meaning you can change certain attributes of it without changing the basic object or where it's stored in memory.  If `A` is a mutable object and you do `B = A` then you are simply creating a new pointer to *the same object.*\n",
    "\n",
    "Integers and floats are **immutable objects** and doing `b = a` above implicitly forces Python to create a new object and initialize it with the value `a` has.  \n",
    "\n",
    "You can do the same thing for a numpy array by setting `B = A.copy()`, and then `B` is a new object initialized with the attributes of `A` but it can be changed independently.\n",
    "\n",
    "Note that the main difference between a *tuple* such as `(1,2,\"A\")` and a *list* `[1,2,\"A\"]` is that a list is mutable (e.g. you can change an element or use the `append` method) while a tuple is always immutable.  Sometimes it's important which you use, sometimes not.  Google \"Python mutable objects\" for many tutorials.\n",
    "\n",
    "Some examples of modifying or slicing arrays follow:"
   ]
  },
  {
   "cell_type": "code",
   "execution_count": null,
   "metadata": {
    "collapsed": false,
    "scrolled": false
   },
   "outputs": [],
   "source": [
    "A = eye(2)\n",
    "B = A  # points to same object as A\n",
    "B[0,1] = 5.\n",
    "print('A = \\n', A, '\\nB = \\n', B)\n",
    "print('Note A and B both point to the same object:')\n",
    "print('id(A) = %s, id(B) = %s' % (id(A), id(B)))"
   ]
  },
  {
   "cell_type": "code",
   "execution_count": null,
   "metadata": {
    "collapsed": false,
    "scrolled": false
   },
   "outputs": [],
   "source": [
    "A = eye(2)\n",
    "B = A.copy()  # makes new object\n",
    "B[0,1] = 5.\n",
    "print('A = \\n', A, '\\nB = \\n', B)\n",
    "print('Note A and B both point to the different objects:')\n",
    "print('id(A) = %s, id(B) = %s' % (id(A), id(B)))"
   ]
  },
  {
   "cell_type": "markdown",
   "metadata": {},
   "source": [
    "If you define an array as a combintaion of other arrays then of course numpy is forced to create a new object to hold the result, so you don't need to do anything special in this case:"
   ]
  },
  {
   "cell_type": "code",
   "execution_count": null,
   "metadata": {
    "collapsed": false
   },
   "outputs": [],
   "source": [
    "A = eye(2)\n",
    "B = A + 3*A  # A must be a new object\n",
    "B[0,1] = 5.\n",
    "print('A = \\n', A, '\\nB = \\n', B)"
   ]
  },
  {
   "cell_type": "markdown",
   "metadata": {},
   "source": [
    "A slice or subset of an array sometimes only defines a [view](https://docs.scipy.org/doc/numpy/glossary.html#term-view) into an existing object, for example:"
   ]
  },
  {
   "cell_type": "code",
   "execution_count": null,
   "metadata": {
    "collapsed": false
   },
   "outputs": [],
   "source": [
    "U = linspace(1,3,3)\n",
    "print('U = ', U)\n",
    "V = U[0:2]\n",
    "print('V = ',V)\n",
    "V[0] = 5.\n",
    "print('after changing V, U also changed:')\n",
    "print('V = ',V)\n",
    "print('U = ', U)"
   ]
  },
  {
   "cell_type": "markdown",
   "metadata": {},
   "source": [
    "Again you might want to make a copy if you know you are going to modify the slice:"
   ]
  },
  {
   "cell_type": "code",
   "execution_count": null,
   "metadata": {
    "collapsed": false
   },
   "outputs": [],
   "source": [
    "U = linspace(1,3,3)\n",
    "print('U = ', U)\n",
    "V = U.copy()[0:2]\n",
    "print('V = ',V)\n",
    "V[0] = 5.\n",
    "print('after changing V, U is unchanged:')\n",
    "print('V = ',V)\n",
    "print('U = ', U)"
   ]
  },
  {
   "cell_type": "code",
   "execution_count": null,
   "metadata": {},
   "outputs": [],
   "source": []
  }
 ],
 "metadata": {
  "kernelspec": {
   "display_name": "Python 3",
   "language": "python",
   "name": "python3"
  },
  "language_info": {
   "codemirror_mode": {
    "name": "ipython",
    "version": 3
   },
   "file_extension": ".py",
   "mimetype": "text/x-python",
   "name": "python",
   "nbconvert_exporter": "python",
   "pygments_lexer": "ipython3",
   "version": "3.6.7"
  }
 },
 "nbformat": 4,
 "nbformat_minor": 2
}
