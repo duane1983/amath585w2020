{
 "cells": [
  {
   "cell_type": "markdown",
   "metadata": {},
   "source": [
    "# Laplacian matrix in two space dimensions\n",
    "\n",
    "[AMath 585, Winter Quarter 2020](http://staff.washington.edu/rjl/classes/am585w2020/) at the University of Washington. Developed by R.J. LeVeque and distributed under the [BSD license](https://github.com/rjleveque/amath585w2020/blob/master/LICENSE).  You are free to modify and use as you please, with attribution.\n",
    "\n",
    "These notebooks are all [available on Github](https://github.com/rjleveque/amath585w2020/).\n",
    "\n",
    "-----\n",
    "\n",
    "This notebook illustrates how to convert a 2D grid of points to a vector as needed in solving a linear system, and then how to set up the matrix corresponding to the 2D 5-point Laplacian using Kronecker products.\n",
    "\n",
    "First see [Grids2D.ipynb](Grids2D.ipynb) for the discussion on setting up grid functions in 2D and plotting them."
   ]
  },
  {
   "cell_type": "code",
   "execution_count": null,
   "metadata": {},
   "outputs": [],
   "source": [
    "%matplotlib inline"
   ]
  },
  {
   "cell_type": "code",
   "execution_count": null,
   "metadata": {},
   "outputs": [],
   "source": [
    "from pylab import *\n",
    "from scipy import sparse"
   ]
  },
  {
   "cell_type": "markdown",
   "metadata": {},
   "source": [
    "Make a little function to plot grids:"
   ]
  },
  {
   "cell_type": "code",
   "execution_count": null,
   "metadata": {},
   "outputs": [],
   "source": [
    "def plot_grid(X,Y):\n",
    "    plot(X,Y,'k')\n",
    "    plot(X.T,Y.T,'k')\n",
    "    #plot(X[1:-1,1:-1],Y[1:-1,1:-1],'ro')\n",
    "    axis('scaled')"
   ]
  },
  {
   "cell_type": "markdown",
   "metadata": {},
   "source": [
    "## Define a sample 2D function:\n",
    "\n",
    "Using code from [Grids2D.ipynb](Grids2D.ipynb):"
   ]
  },
  {
   "cell_type": "code",
   "execution_count": null,
   "metadata": {},
   "outputs": [],
   "source": [
    "mx = 9\n",
    "x = linspace(0,1,mx+2)\n",
    "print('x = ',x)\n",
    "\n",
    "my = 3\n",
    "y = linspace(5,6,my+2)\n",
    "print('y = ',y)\n",
    "\n",
    "X,Y = meshgrid(x,y,indexing='ij')\n",
    "print('X = \\n', X)\n",
    "print('Y = \\n', Y)\n",
    "print()\n",
    "\n",
    "U = X + 10*Y\n",
    "print('U = \\n', U)"
   ]
  },
  {
   "cell_type": "markdown",
   "metadata": {},
   "source": [
    "## Converting between 2D grid functions and vectors\n",
    "\n",
    "We defined `U` as a 2D array but to solve a linear system for the elements of `U` we need to reshape it into a 1D vector.  One can do this in the natural row-wise or column-wise order, or some other order.  The solution of the linear system should be the same in any case (assuming the right hand side is also reshaped in the same way), but the structure of the matrix will change."
   ]
  },
  {
   "cell_type": "markdown",
   "metadata": {},
   "source": [
    "The `reshape` command will reshape arrays, by default in the column-wise ordering:"
   ]
  },
  {
   "cell_type": "code",
   "execution_count": null,
   "metadata": {},
   "outputs": [],
   "source": [
    "xvec_colwise = reshape(X, (mx+2)*(my+2))\n",
    "print('xvec_colwise = \\n', xvec_colwise)\n",
    "yvec_colwise = reshape(Y, (mx+2)*(my+2))\n",
    "print('yvec_colwise = \\n', yvec_colwise)"
   ]
  },
  {
   "cell_type": "markdown",
   "metadata": {},
   "source": [
    "For row-wise ordering, use `order='F'`.  This is \"Fortran ordering\" while the default is \"C ordering\", i.e. if you don't specify `order` the default is `order='C'`.  The naming comes from the way arrays are laid out in memory when programming in the Fortran or C languages."
   ]
  },
  {
   "cell_type": "code",
   "execution_count": null,
   "metadata": {},
   "outputs": [],
   "source": [
    "xvec_rowwise = reshape(X, (mx+2)*(my+2), order='F')\n",
    "print('xvec_rowwise = \\n', xvec_rowwise)\n",
    "yvec_rowwise = reshape(Y, (mx+2)*(my+2), order='F')\n",
    "print('yvec_rowwise = \\n', yvec_rowwise)\n",
    "uvec_rowwise = reshape(U, (mx+2)*(my+2), order='F')\n",
    "print('uvec_rowwise = \\n', uvec_rowwise)"
   ]
  },
  {
   "cell_type": "markdown",
   "metadata": {},
   "source": [
    "To go back from a vector to a 2D array, we can again use `reshape` (and make sure to specify the same `order` as used in the other direction)."
   ]
  },
  {
   "cell_type": "code",
   "execution_count": null,
   "metadata": {},
   "outputs": [],
   "source": [
    "UU = reshape(uvec_rowwise, (mx+2, my+2), order='F')\n",
    "print('UU = \\n', UU)\n",
    "print('Max difference between U and UU: ', abs(U-UU).max())"
   ]
  },
  {
   "cell_type": "markdown",
   "metadata": {},
   "source": [
    "## Kronecker product matrices\n",
    "\n",
    "If grid arrays are converted to vectors using the natural row-wise or column-wise order, then finite difference operators such as the discrete Laplacian can be expressed as matrices that are the [Kronecker product](https://en.wikipedia.org/wiki/Kronecker_product) of 1-dimensional discretization matrices.\n",
    "\n",
    "First here's a small example of Kronecker product matrices:"
   ]
  },
  {
   "cell_type": "code",
   "execution_count": null,
   "metadata": {},
   "outputs": [],
   "source": [
    "A = array([[1,2],[3,4.]])\n",
    "B = diag((1,10,100))\n",
    "print('A = \\n',A)\n",
    "print('B = \\n',B)\n",
    "print('kron(A,B) = \\n',kron(A,B))\n",
    "print('kron(B,A) = \\n',kron(B,A))"
   ]
  },
  {
   "cell_type": "markdown",
   "metadata": {},
   "source": [
    "## Matrix for 2D Laplacian\n",
    "\n",
    "Suppose we use the natural row-wise ordering.  For clarity assume $h = \\Delta x = \\Delta y = 1$ so that $1/h^2 = 1$ and these factors don't appear (but more generally remember to include them).\n",
    "\n",
    "Then in the case `mx=3` and `my=2`, for example, we want to construct a matrix that is $2\\times 2$ block tridiagonal where each block is a $3\\times 3$ matrix:\n",
    "\n",
    "\\begin{align*}\n",
    "A = \\left[ \\begin{array}{ccc|ccc}\n",
    " -4 & 1 & 0 & 1 & 0 & 0 \\\\\n",
    "  1 &-4 & 1 & 0 & 1 & 0 \\\\\n",
    "  0 & 1 &-4 & 0 & 0 & 1 \\\\\n",
    "  \\hline\n",
    "  1 & 0 & 0 &-4 & 1 & 0 \\\\\n",
    "  0 & 1 & 0 & 1 &-4 & 1 \\\\\n",
    "  0 & 0 & 1 & 0 & 1 &-4 \\\\\n",
    "\\end{array}\n",
    "\\right] = D_x + D_y,\n",
    "\\end{align*}\n",
    "\n",
    "where\n",
    "\n",
    "\\begin{align*}\n",
    "D_x =  \\left[ \\begin{array}{ccc|ccc}\n",
    " -2 & 1 & 0 & 0 & 0 & 0 \\\\\n",
    "  1 &-2 & 1 & 0 & 0 & 0 \\\\\n",
    "  0 & 1 &-2 & 0 & 0 & 0 \\\\\n",
    "  \\hline\n",
    "  0 & 0 & 0 &-2 & 1 & 0 \\\\\n",
    "  0 & 0 & 0 & 1 &-2 & 1 \\\\\n",
    "  0 & 0 & 0 & 0 & 1 &-2 \\\\\n",
    "\\end{array}\n",
    "\\right]\n",
    "\\quad\\text{and}\\quad\n",
    "D_y = \\left[ \\begin{array}{ccc|ccc}\n",
    "  -2 & 0 & 0 & 1 & 0 & 0 \\\\\n",
    "  0 & -2 & 0 & 0 & 1 & 0 \\\\\n",
    "  0 & 0 & -2 & 0 & 0 & 1 \\\\\n",
    "  \\hline\n",
    "  1 & 0 & 0 & -2 & 0 & 0 \\\\\n",
    "  0 & 1 & 0 & 0 & -2 & 0 \\\\\n",
    "  0 & 0 & 1 & 0 & 0 & -2\\\\\n",
    "\\end{array}\n",
    "\\right]\n",
    "\\end{align*}\n"
   ]
  },
  {
   "cell_type": "markdown",
   "metadata": {},
   "source": [
    "These can be constructed as:"
   ]
  },
  {
   "cell_type": "code",
   "execution_count": null,
   "metadata": {},
   "outputs": [],
   "source": [
    "mx = 3\n",
    "my = 2\n",
    "em = ones(mx)\n",
    "em1 = ones(mx-1)\n",
    "Ax = sparse.diags([em1, -2*em, em1], [-1, 0, 1], shape=(mx,mx)).toarray()\n",
    "Iy = eye(my)\n",
    "Dx = kron(Iy,Ax)\n",
    "print('Dx = \\n',Dx)\n",
    "\n",
    "Ix = eye(mx)\n",
    "em1 = ones(my-1)\n",
    "Ay = sparse.diags([em1, -2*em, em1], [-1, 0, 1], shape=(my,my)).toarray()\n",
    "Dy = kron(Ay,Ix)\n",
    "print('Dy = \\n',Dy)\n",
    "\n",
    "A = Dx + Dy\n",
    "print('A = \\n', A)"
   ]
  },
  {
   "cell_type": "markdown",
   "metadata": {},
   "source": [
    "For a slightly larger case:"
   ]
  },
  {
   "cell_type": "code",
   "execution_count": null,
   "metadata": {},
   "outputs": [],
   "source": [
    "mx = 4\n",
    "my = 3\n",
    "em = ones(mx)\n",
    "em1 = ones(mx-1)\n",
    "Ax = sparse.diags([em1, -2*em, em1], [-1, 0, 1], shape=(mx,mx)).toarray()\n",
    "Iy = eye(my)\n",
    "Dx = kron(Iy,Ax)\n",
    "print('Dx = \\n',Dx)\n",
    "\n",
    "Ix = eye(mx)\n",
    "em1 = ones(my-1)\n",
    "Ay = sparse.diags([em1, -2*em, em1], [-1, 0, 1], shape=(my,my)).toarray()\n",
    "Dy = kron(Ay,Ix)\n",
    "print('Dy = \\n',Dy)\n",
    "\n",
    "A = Dx + Dy\n",
    "print('A = \\n', A)"
   ]
  },
  {
   "cell_type": "markdown",
   "metadata": {},
   "source": [
    "## Function to make the discrete Laplacian matrix\n",
    "\n",
    "Now we include the `1/dx**2` and `1/dy**2` terms."
   ]
  },
  {
   "cell_type": "code",
   "execution_count": null,
   "metadata": {},
   "outputs": [],
   "source": [
    "def make_A(mx,my,dx,dy):\n",
    "    em = ones(mx)\n",
    "    em1 = ones(mx-1)\n",
    "    Ax = sparse.diags([em1, -2*em, em1], [-1, 0, 1], shape=(mx,mx)).toarray()\n",
    "    Iy = eye(my)\n",
    "    Dx = kron(Iy,Ax) / dx**2\n",
    "\n",
    "    Ix = eye(mx)\n",
    "    em1 = ones(my-1)\n",
    "    Ay = sparse.diags([em1, -2*em, em1], [-1, 0, 1], shape=(my,my)).toarray()\n",
    "    Dy = kron(Ay,Ix) / dy**2\n",
    "\n",
    "    A = Dx + Dy\n",
    "    return A"
   ]
  },
  {
   "cell_type": "markdown",
   "metadata": {},
   "source": [
    "## Test by applying to a function:\n",
    "\n",
    "The discrete Laplacian matrix as set up above can be applied only to the interior points, and effectively assumes $u \\equiv 0$ on the boundary of the rectangle since these points are not included.\n",
    "\n",
    "So we choose a test function $u(x,y)$ that is zero on the boundary and quadratic in $x$ and $y$ so that the 5-point Laplacian should be exact.\n",
    "\n",
    "$$\n",
    "u(x,y) = x(2-x)y(1-y) \\quad\\text{for}~0\\leq x \\leq 2, ~~0\\leq y \\leq 1.\n",
    "$$"
   ]
  },
  {
   "cell_type": "code",
   "execution_count": null,
   "metadata": {},
   "outputs": [],
   "source": [
    "ax = 0.\n",
    "bx = 2.\n",
    "ay = 0.\n",
    "by = 1.\n",
    "mx = 19\n",
    "my = 9\n",
    "dx = (bx-ax)/(mx+1)\n",
    "dy = (by-ay)/(my+1)\n",
    "A = make_A(mx,my,dx,dy)\n",
    "\n",
    "x = linspace(0,2,mx+2)\n",
    "y = linspace(0,1,my+2)\n",
    "X,Y = meshgrid(x,y,indexing='ij')\n",
    "U = (X-ax)*(bx-X)*(Y-ay)*(by-Y)\n",
    "\n",
    "# interior points:\n",
    "xint = x[1:-1]\n",
    "yint = y[1:-1]\n",
    "Uint = U[1:-1, 1:-1]\n",
    "Xint = X[1:-1, 1:-1]\n",
    "Yint = Y[1:-1, 1:-1]\n",
    "\n",
    "# reshape as vectors in row-wise ordering:\n",
    "xvec_rowwise = reshape(Xint, mx*my, order='F')\n",
    "yvec_rowwise = reshape(Yint, mx*my, order='F')\n",
    "uvec_rowwise = reshape(Uint, mx*my, order='F')\n",
    "\n",
    "print('shape of Uint: ', Uint.shape)\n",
    "print('uvec_rowwise has length %i' % len(uvec_rowwise))\n",
    "print('shape of A: ', A.shape)"
   ]
  },
  {
   "cell_type": "code",
   "execution_count": null,
   "metadata": {},
   "outputs": [],
   "source": [
    "plot_grid(X,Y)\n",
    "contourf(X,Y,U)\n",
    "colorbar(shrink=0.6)\n",
    "title('Origina u(x,y) on full domain');"
   ]
  },
  {
   "cell_type": "markdown",
   "metadata": {},
   "source": [
    "### Apply the matrix and then reshape result as 2D array:"
   ]
  },
  {
   "cell_type": "code",
   "execution_count": null,
   "metadata": {},
   "outputs": [],
   "source": [
    "ulap_rowwise = dot(A,uvec_rowwise)\n",
    "Ulap_int = reshape(ulap_rowwise, (mx,my), order='F')"
   ]
  },
  {
   "cell_type": "markdown",
   "metadata": {},
   "source": [
    "### Compare to exact Laplacian:"
   ]
  },
  {
   "cell_type": "code",
   "execution_count": null,
   "metadata": {},
   "outputs": [],
   "source": [
    "Ulap_true = -2*(X-ax)*(bx-X) - 2*(Y-ay)*(by-Y)\n",
    "print('Maximum error is %.4e' % abs(Ulap_int- Ulap_true[1:-1,1:-1]).max())"
   ]
  },
  {
   "cell_type": "markdown",
   "metadata": {},
   "source": [
    "## Plot $\\nabla^2 u(x,y)$\n",
    "\n",
    "Note that this is defined only at the interior points so the `contourf` function colors only in the interior of this region:"
   ]
  },
  {
   "cell_type": "code",
   "execution_count": null,
   "metadata": {},
   "outputs": [],
   "source": [
    "plot_grid(X,Y)\n",
    "contourf(Xint,Yint,Ulap_int)\n",
    "colorbar(shrink=0.6)\n",
    "axis([ax,bx,ay,by]);"
   ]
  },
  {
   "cell_type": "markdown",
   "metadata": {},
   "source": [
    "## Solving the Poisson problem\n",
    "\n",
    "The matrix $A$ defined above could be used in solving a Poisson problem $\\nabla^2u(x,y) = f(x,y)$.  \n",
    "\n",
    "This is not set up here -- it would require incorporating the boundary conditions into the right hand side along with the function values $f(x_i,y_j)$."
   ]
  }
 ],
 "metadata": {
  "kernelspec": {
   "display_name": "Python 3",
   "language": "python",
   "name": "python3"
  },
  "language_info": {
   "codemirror_mode": {
    "name": "ipython",
    "version": 3
   },
   "file_extension": ".py",
   "mimetype": "text/x-python",
   "name": "python",
   "nbconvert_exporter": "python",
   "pygments_lexer": "ipython3",
   "version": "3.6.7"
  }
 },
 "nbformat": 4,
 "nbformat_minor": 2
}
